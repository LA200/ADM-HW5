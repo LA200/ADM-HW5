{
 "cells": [
  {
   "cell_type": "code",
   "execution_count": 1,
   "metadata": {},
   "outputs": [],
   "source": [
    "import pandas as pd\n",
    "import numpy as np\n",
    "import pickle\n",
    "# work with the reduced graph\n",
    "data = pd.read_csv('wikigraph_reduced.csv', delim_whitespace=True)\n",
    "data.columns=['edge_a','edge_b']"
   ]
  },
  {
   "cell_type": "code",
   "execution_count": 2,
   "metadata": {},
   "outputs": [],
   "source": [
    "# work with the complete graph\n",
    "def big_data():\n",
    "    array=[]\n",
    "    listassa=[]\n",
    "    file3 = open('wiki-topcats.txt','r')\n",
    "    Lines = file3.readlines() \n",
    "    for line in Lines: \n",
    "        array=line.strip().split(' ',maxsplit=1)\n",
    "        array=list(map(int,array))\n",
    "        listassa.append(array)\n",
    "    data=pd.DataFrame(listassa)\n",
    "    data.columns=['edge_a','edge_b']\n",
    "    return(data)"
   ]
  },
  {
   "cell_type": "code",
   "execution_count": 3,
   "metadata": {},
   "outputs": [],
   "source": [
    "#data=big_data()"
   ]
  },
  {
   "cell_type": "markdown",
   "metadata": {},
   "source": [
    "    Here first we clear the data readed from a txt file and organize it in a dataframe."
   ]
  },
  {
   "cell_type": "code",
   "execution_count": 4,
   "metadata": {},
   "outputs": [],
   "source": [
    "array=[]\n",
    "listassa=[]\n",
    "file1 = open('wiki-topcats-page-names.txt','r')\n",
    "Lines = file1.readlines() \n",
    "for line in Lines: \n",
    "    array=line.strip().split(' ',maxsplit=1)\n",
    "    listassa.append(array)\n",
    "article_names=pd.DataFrame(listassa)\n",
    "article_names.columns=['Number','Article']"
   ]
  },
  {
   "cell_type": "code",
   "execution_count": 5,
   "metadata": {},
   "outputs": [
    {
     "data": {
      "text/html": [
       "<div>\n",
       "<style scoped>\n",
       "    .dataframe tbody tr th:only-of-type {\n",
       "        vertical-align: middle;\n",
       "    }\n",
       "\n",
       "    .dataframe tbody tr th {\n",
       "        vertical-align: top;\n",
       "    }\n",
       "\n",
       "    .dataframe thead th {\n",
       "        text-align: right;\n",
       "    }\n",
       "</style>\n",
       "<table border=\"1\" class=\"dataframe\">\n",
       "  <thead>\n",
       "    <tr style=\"text-align: right;\">\n",
       "      <th></th>\n",
       "      <th>Number</th>\n",
       "      <th>Article</th>\n",
       "    </tr>\n",
       "  </thead>\n",
       "  <tbody>\n",
       "    <tr>\n",
       "      <th>0</th>\n",
       "      <td>0</td>\n",
       "      <td>Chiasmal syndrome</td>\n",
       "    </tr>\n",
       "    <tr>\n",
       "      <th>1</th>\n",
       "      <td>1</td>\n",
       "      <td>Kleroterion</td>\n",
       "    </tr>\n",
       "    <tr>\n",
       "      <th>2</th>\n",
       "      <td>2</td>\n",
       "      <td>Pinakion</td>\n",
       "    </tr>\n",
       "    <tr>\n",
       "      <th>3</th>\n",
       "      <td>3</td>\n",
       "      <td>LyndonHochschildSerre spectral sequence</td>\n",
       "    </tr>\n",
       "    <tr>\n",
       "      <th>4</th>\n",
       "      <td>4</td>\n",
       "      <td>Zariski's main theorem</td>\n",
       "    </tr>\n",
       "    <tr>\n",
       "      <th>...</th>\n",
       "      <td>...</td>\n",
       "      <td>...</td>\n",
       "    </tr>\n",
       "    <tr>\n",
       "      <th>1791484</th>\n",
       "      <td>1791484</td>\n",
       "      <td>Noadiah Russell (Yale founder)</td>\n",
       "    </tr>\n",
       "    <tr>\n",
       "      <th>1791485</th>\n",
       "      <td>1791485</td>\n",
       "      <td>Cornus officinalis</td>\n",
       "    </tr>\n",
       "    <tr>\n",
       "      <th>1791486</th>\n",
       "      <td>1791486</td>\n",
       "      <td>Peter Grummitt</td>\n",
       "    </tr>\n",
       "    <tr>\n",
       "      <th>1791487</th>\n",
       "      <td>1791487</td>\n",
       "      <td>Baron Estcourt</td>\n",
       "    </tr>\n",
       "    <tr>\n",
       "      <th>1791488</th>\n",
       "      <td>1791488</td>\n",
       "      <td>Catherine Dubosc</td>\n",
       "    </tr>\n",
       "  </tbody>\n",
       "</table>\n",
       "<p>1791489 rows × 2 columns</p>\n",
       "</div>"
      ],
      "text/plain": [
       "          Number                                  Article\n",
       "0              0                        Chiasmal syndrome\n",
       "1              1                              Kleroterion\n",
       "2              2                                 Pinakion\n",
       "3              3  LyndonHochschildSerre spectral sequence\n",
       "4              4                   Zariski's main theorem\n",
       "...          ...                                      ...\n",
       "1791484  1791484           Noadiah Russell (Yale founder)\n",
       "1791485  1791485                       Cornus officinalis\n",
       "1791486  1791486                           Peter Grummitt\n",
       "1791487  1791487                           Baron Estcourt\n",
       "1791488  1791488                         Catherine Dubosc\n",
       "\n",
       "[1791489 rows x 2 columns]"
      ]
     },
     "execution_count": 5,
     "metadata": {},
     "output_type": "execute_result"
    }
   ],
   "source": [
    "article_names"
   ]
  },
  {
   "cell_type": "markdown",
   "metadata": {},
   "source": [
    "    In this second part, the same process of cleaning and organization is done."
   ]
  },
  {
   "cell_type": "code",
   "execution_count": 6,
   "metadata": {},
   "outputs": [],
   "source": [
    "array=[]\n",
    "listassa=[]\n",
    "file2 = open('wiki-topcats-categories.txt','r')\n",
    "Lines = file2.readlines() \n",
    "for line in Lines: \n",
    "    array=line.strip()\n",
    "    array=array.replace('Category:','') .split(';')\n",
    "    array[0]=array[0].replace('_',' ')\n",
    "    listassa.append(array)\n",
    "category_set=pd.DataFrame(listassa)\n",
    "category_set.columns=['Category','Articles']"
   ]
  },
  {
   "cell_type": "code",
   "execution_count": 7,
   "metadata": {},
   "outputs": [
    {
     "data": {
      "text/html": [
       "<div>\n",
       "<style scoped>\n",
       "    .dataframe tbody tr th:only-of-type {\n",
       "        vertical-align: middle;\n",
       "    }\n",
       "\n",
       "    .dataframe tbody tr th {\n",
       "        vertical-align: top;\n",
       "    }\n",
       "\n",
       "    .dataframe thead th {\n",
       "        text-align: right;\n",
       "    }\n",
       "</style>\n",
       "<table border=\"1\" class=\"dataframe\">\n",
       "  <thead>\n",
       "    <tr style=\"text-align: right;\">\n",
       "      <th></th>\n",
       "      <th>Category</th>\n",
       "      <th>Articles</th>\n",
       "    </tr>\n",
       "  </thead>\n",
       "  <tbody>\n",
       "    <tr>\n",
       "      <th>0</th>\n",
       "      <td>Buprestoidea</td>\n",
       "      <td>301 302 303 304 305 306 307 308 309 310 311 3...</td>\n",
       "    </tr>\n",
       "    <tr>\n",
       "      <th>1</th>\n",
       "      <td>People from Worcester</td>\n",
       "      <td>1056 1057 1058 1059 1060 60971 76515 76871 78...</td>\n",
       "    </tr>\n",
       "    <tr>\n",
       "      <th>2</th>\n",
       "      <td>Skin conditions resulting from physical factors</td>\n",
       "      <td>971 973 1166 1167 1168 1169 1170 1171 1172 11...</td>\n",
       "    </tr>\n",
       "    <tr>\n",
       "      <th>3</th>\n",
       "      <td>Visual kei bands</td>\n",
       "      <td>1297 1300 1311 1312 1313 1314 1315 1316 1319 ...</td>\n",
       "    </tr>\n",
       "    <tr>\n",
       "      <th>4</th>\n",
       "      <td>Japanese rock music groups</td>\n",
       "      <td>1297 1300 1313 1314 1315 1316 1319 1320 1322 ...</td>\n",
       "    </tr>\n",
       "    <tr>\n",
       "      <th>...</th>\n",
       "      <td>...</td>\n",
       "      <td>...</td>\n",
       "    </tr>\n",
       "    <tr>\n",
       "      <th>17359</th>\n",
       "      <td>British science fiction novels</td>\n",
       "      <td>16110 24545 39814 67923 108629 108630 108631 ...</td>\n",
       "    </tr>\n",
       "    <tr>\n",
       "      <th>17360</th>\n",
       "      <td>Television soundtracks</td>\n",
       "      <td>1117 110192 110376 110377 110380 110395 13700...</td>\n",
       "    </tr>\n",
       "    <tr>\n",
       "      <th>17361</th>\n",
       "      <td>Diptera of North America</td>\n",
       "      <td>279 280 283 31110 31129 31133 31138 31139 311...</td>\n",
       "    </tr>\n",
       "    <tr>\n",
       "      <th>17362</th>\n",
       "      <td>Diptera of Asia</td>\n",
       "      <td>279 31129 31133 31134 31135 31136 31137 31138...</td>\n",
       "    </tr>\n",
       "    <tr>\n",
       "      <th>17363</th>\n",
       "      <td>Tachinidae</td>\n",
       "      <td>429765 429776 860398 1427707 1427710 1427711 ...</td>\n",
       "    </tr>\n",
       "  </tbody>\n",
       "</table>\n",
       "<p>17364 rows × 2 columns</p>\n",
       "</div>"
      ],
      "text/plain": [
       "                                              Category  \\\n",
       "0                                         Buprestoidea   \n",
       "1                                People from Worcester   \n",
       "2      Skin conditions resulting from physical factors   \n",
       "3                                     Visual kei bands   \n",
       "4                           Japanese rock music groups   \n",
       "...                                                ...   \n",
       "17359                   British science fiction novels   \n",
       "17360                           Television soundtracks   \n",
       "17361                         Diptera of North America   \n",
       "17362                                  Diptera of Asia   \n",
       "17363                                       Tachinidae   \n",
       "\n",
       "                                                Articles  \n",
       "0       301 302 303 304 305 306 307 308 309 310 311 3...  \n",
       "1       1056 1057 1058 1059 1060 60971 76515 76871 78...  \n",
       "2       971 973 1166 1167 1168 1169 1170 1171 1172 11...  \n",
       "3       1297 1300 1311 1312 1313 1314 1315 1316 1319 ...  \n",
       "4       1297 1300 1313 1314 1315 1316 1319 1320 1322 ...  \n",
       "...                                                  ...  \n",
       "17359   16110 24545 39814 67923 108629 108630 108631 ...  \n",
       "17360   1117 110192 110376 110377 110380 110395 13700...  \n",
       "17361   279 280 283 31110 31129 31133 31138 31139 311...  \n",
       "17362   279 31129 31133 31134 31135 31136 31137 31138...  \n",
       "17363   429765 429776 860398 1427707 1427710 1427711 ...  \n",
       "\n",
       "[17364 rows x 2 columns]"
      ]
     },
     "execution_count": 7,
     "metadata": {},
     "output_type": "execute_result"
    }
   ],
   "source": [
    "category_set"
   ]
  },
  {
   "cell_type": "markdown",
   "metadata": {},
   "source": [
    "    Now using the libraries networkx and matplotlib we start creating the graph"
   ]
  },
  {
   "cell_type": "code",
   "execution_count": 8,
   "metadata": {},
   "outputs": [],
   "source": [
    "import networkx as nx\n",
    "import matplotlib.pyplot as plt\n",
    "from matplotlib.pyplot import figure\n",
    "G = nx.Graph()"
   ]
  },
  {
   "cell_type": "markdown",
   "metadata": {},
   "source": [
    "    Here we define the name of the article as an attribute of the node, so that we can access each article from the graph and still have an organized representation"
   ]
  },
  {
   "cell_type": "code",
   "execution_count": 9,
   "metadata": {},
   "outputs": [],
   "source": [
    "labels = {}\n",
    "k=len(article_names)\n",
    "for i in range(0,k):\n",
    "    labels[i]=article_names.Article[i]"
   ]
  },
  {
   "cell_type": "markdown",
   "metadata": {},
   "source": [
    "    Plotting just a part of the graph to analyse with good visualization"
   ]
  },
  {
   "cell_type": "code",
   "execution_count": 10,
   "metadata": {},
   "outputs": [],
   "source": [
    "G = nx.from_pandas_edgelist(data,'edge_a', 'edge_b', None, create_using=nx.DiGraph())"
   ]
  },
  {
   "cell_type": "markdown",
   "metadata": {},
   "source": [
    "    Plot of the graph and setting the article name as an attribute of the node"
   ]
  },
  {
   "cell_type": "code",
   "execution_count": 11,
   "metadata": {},
   "outputs": [],
   "source": [
    "#figure(figsize=(18, 8))\n",
    "nx.set_node_attributes(G, labels, name='article')\n",
    "#nx.draw(G, with_labels=True, node_size=100)"
   ]
  },
  {
   "cell_type": "markdown",
   "metadata": {},
   "source": [
    "### RQ1\n",
    "- Is the graph directed?"
   ]
  },
  {
   "cell_type": "code",
   "execution_count": 33,
   "metadata": {},
   "outputs": [
    {
     "data": {
      "text/plain": [
       "796         1185516\n",
       "909         1059989\n",
       "910         1062426\n",
       "911         1161925\n",
       "1141         541222\n",
       "             ...   \n",
       "28511768    1060990\n",
       "28511769    1061382\n",
       "28511771    1110380\n",
       "28511772      80740\n",
       "28511785     235100\n",
       "Name: edge_b, Length: 483094, dtype: int64"
      ]
     },
     "execution_count": 33,
     "metadata": {},
     "output_type": "execute_result"
    }
   ],
   "source": [
    "data.iloc[:,1]"
   ]
  },
  {
   "cell_type": "code",
   "execution_count": 34,
   "metadata": {},
   "outputs": [],
   "source": [
    "data1 = (data.iloc[:,1],data.iloc[:,0])"
   ]
  },
  {
   "cell_type": "code",
   "execution_count": 35,
   "metadata": {},
   "outputs": [
    {
     "name": "stdout",
     "output_type": "stream",
     "text": [
      "edge_a    27676\n",
      "edge_b    27676\n",
      "Name: 534214, dtype: int64 yes\n"
     ]
    }
   ],
   "source": [
    "for i in range(len(data)):\n",
    "    if data.iloc[i][0] == data.iloc[i][1]:\n",
    "        print(data.iloc[i],'yes')\n",
    "        break"
   ]
  },
  {
   "cell_type": "markdown",
   "metadata": {},
   "source": [
    "    The graph cointains loop"
   ]
  },
  {
   "cell_type": "code",
   "execution_count": 36,
   "metadata": {},
   "outputs": [
    {
     "data": {
      "text/plain": [
       "(796         1185516\n",
       " 909         1059989\n",
       " 910         1062426\n",
       " 911         1161925\n",
       " 1141         541222\n",
       "              ...   \n",
       " 28511768    1060990\n",
       " 28511769    1061382\n",
       " 28511771    1110380\n",
       " 28511772      80740\n",
       " 28511785     235100\n",
       " Name: edge_b, Length: 483094, dtype: int64, 796              95\n",
       " 909             108\n",
       " 910             108\n",
       " 911             108\n",
       " 1141            134\n",
       "              ...   \n",
       " 28511768    1791481\n",
       " 28511769    1791481\n",
       " 28511771    1791481\n",
       " 28511772    1791482\n",
       " 28511785    1791484\n",
       " Name: edge_a, Length: 483094, dtype: int64)"
      ]
     },
     "execution_count": 36,
     "metadata": {},
     "output_type": "execute_result"
    }
   ],
   "source": [
    "data1"
   ]
  },
  {
   "cell_type": "code",
   "execution_count": 37,
   "metadata": {},
   "outputs": [],
   "source": [
    "data1 = data"
   ]
  },
  {
   "cell_type": "code",
   "execution_count": 38,
   "metadata": {},
   "outputs": [],
   "source": [
    "prova = data.merge(data1, left_on='edge_a', right_on='edge_b')"
   ]
  },
  {
   "cell_type": "code",
   "execution_count": 39,
   "metadata": {},
   "outputs": [
    {
     "name": "stdout",
     "output_type": "stream",
     "text": [
      "0 yes\n"
     ]
    }
   ],
   "source": [
    "for i in range(len(prova)):\n",
    "    if prova.iloc[i][0] == prova.iloc[i][-1]:\n",
    "        print(i,'yes')\n",
    "        break"
   ]
  },
  {
   "cell_type": "code",
   "execution_count": 40,
   "metadata": {},
   "outputs": [
    {
     "data": {
      "text/plain": [
       "edge_a_x        153\n",
       "edge_b_x    1085943\n",
       "edge_a_y    1064807\n",
       "edge_b_y        153\n",
       "Name: 36, dtype: int64"
      ]
     },
     "execution_count": 40,
     "metadata": {},
     "output_type": "execute_result"
    }
   ],
   "source": [
    "prova1 = prova.iloc[36]\n",
    "prova1"
   ]
  },
  {
   "cell_type": "code",
   "execution_count": 41,
   "metadata": {},
   "outputs": [],
   "source": [
    "l = list(prova1.unique())\n",
    "col1 = data.loc[data['edge_a']== l[0]]\n",
    "col2 = data.loc[data['edge_b']== l[0]]"
   ]
  },
  {
   "cell_type": "code",
   "execution_count": 42,
   "metadata": {},
   "outputs": [
    {
     "data": {
      "text/html": [
       "<div>\n",
       "<style scoped>\n",
       "    .dataframe tbody tr th:only-of-type {\n",
       "        vertical-align: middle;\n",
       "    }\n",
       "\n",
       "    .dataframe tbody tr th {\n",
       "        vertical-align: top;\n",
       "    }\n",
       "\n",
       "    .dataframe thead th {\n",
       "        text-align: right;\n",
       "    }\n",
       "</style>\n",
       "<table border=\"1\" class=\"dataframe\">\n",
       "  <thead>\n",
       "    <tr style=\"text-align: right;\">\n",
       "      <th></th>\n",
       "      <th>edge_a</th>\n",
       "      <th>edge_b</th>\n",
       "    </tr>\n",
       "  </thead>\n",
       "  <tbody>\n",
       "    <tr>\n",
       "      <th>1309</th>\n",
       "      <td>153</td>\n",
       "      <td>744272</td>\n",
       "    </tr>\n",
       "    <tr>\n",
       "      <th>1311</th>\n",
       "      <td>153</td>\n",
       "      <td>1064807</td>\n",
       "    </tr>\n",
       "    <tr>\n",
       "      <th>1312</th>\n",
       "      <td>153</td>\n",
       "      <td>1065282</td>\n",
       "    </tr>\n",
       "    <tr>\n",
       "      <th>1315</th>\n",
       "      <td>153</td>\n",
       "      <td>1085943</td>\n",
       "    </tr>\n",
       "    <tr>\n",
       "      <th>1316</th>\n",
       "      <td>153</td>\n",
       "      <td>1125916</td>\n",
       "    </tr>\n",
       "    <tr>\n",
       "      <th>1317</th>\n",
       "      <td>153</td>\n",
       "      <td>1130618</td>\n",
       "    </tr>\n",
       "    <tr>\n",
       "      <th>1318</th>\n",
       "      <td>153</td>\n",
       "      <td>1161083</td>\n",
       "    </tr>\n",
       "    <tr>\n",
       "      <th>1319</th>\n",
       "      <td>153</td>\n",
       "      <td>1162104</td>\n",
       "    </tr>\n",
       "    <tr>\n",
       "      <th>1320</th>\n",
       "      <td>153</td>\n",
       "      <td>1162238</td>\n",
       "    </tr>\n",
       "  </tbody>\n",
       "</table>\n",
       "</div>"
      ],
      "text/plain": [
       "      edge_a   edge_b\n",
       "1309     153   744272\n",
       "1311     153  1064807\n",
       "1312     153  1065282\n",
       "1315     153  1085943\n",
       "1316     153  1125916\n",
       "1317     153  1130618\n",
       "1318     153  1161083\n",
       "1319     153  1162104\n",
       "1320     153  1162238"
      ]
     },
     "execution_count": 42,
     "metadata": {},
     "output_type": "execute_result"
    }
   ],
   "source": [
    "col1"
   ]
  },
  {
   "cell_type": "code",
   "execution_count": 43,
   "metadata": {},
   "outputs": [
    {
     "data": {
      "text/html": [
       "<div>\n",
       "<style scoped>\n",
       "    .dataframe tbody tr th:only-of-type {\n",
       "        vertical-align: middle;\n",
       "    }\n",
       "\n",
       "    .dataframe tbody tr th {\n",
       "        vertical-align: top;\n",
       "    }\n",
       "\n",
       "    .dataframe thead th {\n",
       "        text-align: right;\n",
       "    }\n",
       "</style>\n",
       "<table border=\"1\" class=\"dataframe\">\n",
       "  <thead>\n",
       "    <tr style=\"text-align: right;\">\n",
       "      <th></th>\n",
       "      <th>edge_a</th>\n",
       "      <th>edge_b</th>\n",
       "    </tr>\n",
       "  </thead>\n",
       "  <tbody>\n",
       "    <tr>\n",
       "      <th>11246100</th>\n",
       "      <td>744272</td>\n",
       "      <td>153</td>\n",
       "    </tr>\n",
       "    <tr>\n",
       "      <th>16524381</th>\n",
       "      <td>1064807</td>\n",
       "      <td>153</td>\n",
       "    </tr>\n",
       "    <tr>\n",
       "      <th>16546307</th>\n",
       "      <td>1065282</td>\n",
       "      <td>153</td>\n",
       "    </tr>\n",
       "    <tr>\n",
       "      <th>16911848</th>\n",
       "      <td>1085943</td>\n",
       "      <td>153</td>\n",
       "    </tr>\n",
       "    <tr>\n",
       "      <th>18362402</th>\n",
       "      <td>1162238</td>\n",
       "      <td>153</td>\n",
       "    </tr>\n",
       "  </tbody>\n",
       "</table>\n",
       "</div>"
      ],
      "text/plain": [
       "           edge_a  edge_b\n",
       "11246100   744272     153\n",
       "16524381  1064807     153\n",
       "16546307  1065282     153\n",
       "16911848  1085943     153\n",
       "18362402  1162238     153"
      ]
     },
     "execution_count": 43,
     "metadata": {},
     "output_type": "execute_result"
    }
   ],
   "source": [
    "col2"
   ]
  },
  {
   "cell_type": "code",
   "execution_count": 44,
   "metadata": {},
   "outputs": [],
   "source": [
    "a = []\n",
    "b = []\n",
    "for i in range(len(col1)):\n",
    "    a.append(col1.iloc[i,1])\n",
    "for j in range(len(col2)):\n",
    "    b.append(col2.iloc[j,0])"
   ]
  },
  {
   "cell_type": "code",
   "execution_count": 45,
   "metadata": {},
   "outputs": [
    {
     "data": {
      "text/plain": [
       "{744272, 1064807, 1065282, 1085943, 1162238}"
      ]
     },
     "execution_count": 45,
     "metadata": {},
     "output_type": "execute_result"
    }
   ],
   "source": [
    "A = set(a)\n",
    "B = set(b)\n",
    "A.intersection(B)"
   ]
  },
  {
   "cell_type": "markdown",
   "metadata": {},
   "source": [
    "    The graph is oriented"
   ]
  },
  {
   "cell_type": "code",
   "execution_count": 46,
   "metadata": {},
   "outputs": [
    {
     "name": "stdout",
     "output_type": "stream",
     "text": [
      "The graph is in fact directed!\n"
     ]
    }
   ],
   "source": [
    "if(nx.is_directed(G)):\n",
    "    print(\"The graph is in fact directed!\")\n",
    "else:\n",
    "    print(\"The graph is not directed!\")"
   ]
  },
  {
   "cell_type": "markdown",
   "metadata": {},
   "source": [
    "- How many articles are we considering?"
   ]
  },
  {
   "cell_type": "code",
   "execution_count": 13,
   "metadata": {},
   "outputs": [
    {
     "name": "stdout",
     "output_type": "stream",
     "text": [
      "We are considering 1791489 articles\n"
     ]
    }
   ],
   "source": [
    "print(\"We are considering\",len(article_names),\"articles\")"
   ]
  },
  {
   "cell_type": "markdown",
   "metadata": {},
   "source": [
    "- How many hyperlinks between pages exist?"
   ]
  },
  {
   "cell_type": "markdown",
   "metadata": {},
   "source": [
    "As the graph is a directed graph, so each edge is an independent hiperlink between two articles"
   ]
  },
  {
   "cell_type": "code",
   "execution_count": 14,
   "metadata": {},
   "outputs": [
    {
     "name": "stdout",
     "output_type": "stream",
     "text": [
      "There are 483094 hiperlinks between the articles\n"
     ]
    }
   ],
   "source": [
    "print(\"There are\",len(data), \"hiperlinks between the articles\")"
   ]
  },
  {
   "cell_type": "markdown",
   "metadata": {},
   "source": [
    "- Compute the average number of links in an arbitrary page."
   ]
  },
  {
   "cell_type": "code",
   "execution_count": 15,
   "metadata": {},
   "outputs": [
    {
     "name": "stdout",
     "output_type": "stream",
     "text": [
      "The average number of links in an arbitrary page is 0.27\n"
     ]
    }
   ],
   "source": [
    "d=round(len(data)/len(article_names),2)\n",
    "print(\"The average number of links in an arbitrary page is\", d)"
   ]
  },
  {
   "cell_type": "markdown",
   "metadata": {},
   "source": [
    "- What is the graph density?"
   ]
  },
  {
   "cell_type": "code",
   "execution_count": 16,
   "metadata": {},
   "outputs": [
    {
     "name": "stdout",
     "output_type": "stream",
     "text": [
      "The graph density is 0.0\n"
     ]
    }
   ],
   "source": [
    "D=2*len(data)/(len(article_names)*(len(article_names)-1))\n",
    "print(\"The graph density is\", round(D,5))"
   ]
  },
  {
   "cell_type": "markdown",
   "metadata": {},
   "source": [
    "- Do you believe that the graph is dense or sparse? Is the graph dense?"
   ]
  },
  {
   "cell_type": "code",
   "execution_count": 17,
   "metadata": {},
   "outputs": [
    {
     "name": "stdout",
     "output_type": "stream",
     "text": [
      "As the following definition: 'The sparse graph is a graph whose density D is lower to 0,5 -and greater than 0, by definition-'.\n",
      "So, the graph is SPARSE\n"
     ]
    }
   ],
   "source": [
    "print(\"As the following definition: 'The sparse graph is a graph whose density D is lower to 0,5 -and greater than 0, by definition-'.\")\n",
    "print(\"So, the graph is SPARSE\")"
   ]
  },
  {
   "cell_type": "markdown",
   "metadata": {},
   "source": [
    "- Visualize the nodes' degree distribution"
   ]
  },
  {
   "cell_type": "code",
   "execution_count": 18,
   "metadata": {},
   "outputs": [
    {
     "data": {
      "text/html": [
       "<div>\n",
       "<style scoped>\n",
       "    .dataframe tbody tr th:only-of-type {\n",
       "        vertical-align: middle;\n",
       "    }\n",
       "\n",
       "    .dataframe tbody tr th {\n",
       "        vertical-align: top;\n",
       "    }\n",
       "\n",
       "    .dataframe thead th {\n",
       "        text-align: right;\n",
       "    }\n",
       "</style>\n",
       "<table border=\"1\" class=\"dataframe\">\n",
       "  <thead>\n",
       "    <tr style=\"text-align: right;\">\n",
       "      <th></th>\n",
       "      <th>Node</th>\n",
       "      <th>Degree</th>\n",
       "    </tr>\n",
       "  </thead>\n",
       "  <tbody>\n",
       "    <tr>\n",
       "      <th>0</th>\n",
       "      <td>95</td>\n",
       "      <td>1</td>\n",
       "    </tr>\n",
       "    <tr>\n",
       "      <th>1</th>\n",
       "      <td>1185516</td>\n",
       "      <td>9</td>\n",
       "    </tr>\n",
       "    <tr>\n",
       "      <th>2</th>\n",
       "      <td>108</td>\n",
       "      <td>3</td>\n",
       "    </tr>\n",
       "    <tr>\n",
       "      <th>3</th>\n",
       "      <td>1059989</td>\n",
       "      <td>47</td>\n",
       "    </tr>\n",
       "    <tr>\n",
       "      <th>4</th>\n",
       "      <td>1062426</td>\n",
       "      <td>43</td>\n",
       "    </tr>\n",
       "    <tr>\n",
       "      <th>...</th>\n",
       "      <td>...</td>\n",
       "      <td>...</td>\n",
       "    </tr>\n",
       "    <tr>\n",
       "      <th>98338</th>\n",
       "      <td>1790166</td>\n",
       "      <td>4</td>\n",
       "    </tr>\n",
       "    <tr>\n",
       "      <th>98339</th>\n",
       "      <td>1790616</td>\n",
       "      <td>4</td>\n",
       "    </tr>\n",
       "    <tr>\n",
       "      <th>98340</th>\n",
       "      <td>1791482</td>\n",
       "      <td>1</td>\n",
       "    </tr>\n",
       "    <tr>\n",
       "      <th>98341</th>\n",
       "      <td>1791484</td>\n",
       "      <td>1</td>\n",
       "    </tr>\n",
       "    <tr>\n",
       "      <th>98342</th>\n",
       "      <td>235100</td>\n",
       "      <td>1</td>\n",
       "    </tr>\n",
       "  </tbody>\n",
       "</table>\n",
       "<p>98343 rows × 2 columns</p>\n",
       "</div>"
      ],
      "text/plain": [
       "          Node  Degree\n",
       "0           95       1\n",
       "1      1185516       9\n",
       "2          108       3\n",
       "3      1059989      47\n",
       "4      1062426      43\n",
       "...        ...     ...\n",
       "98338  1790166       4\n",
       "98339  1790616       4\n",
       "98340  1791482       1\n",
       "98341  1791484       1\n",
       "98342   235100       1\n",
       "\n",
       "[98343 rows x 2 columns]"
      ]
     },
     "execution_count": 18,
     "metadata": {},
     "output_type": "execute_result"
    }
   ],
   "source": [
    "degrees = dict(G.degree())\n",
    "strut=[degrees.keys(),degrees.values()]\n",
    "deg_dist=pd.DataFrame(strut)\n",
    "deg_dist=deg_dist.T\n",
    "deg_dist.columns=['Node','Degree']\n",
    "deg_dist"
   ]
  },
  {
   "cell_type": "code",
   "execution_count": 19,
   "metadata": {},
   "outputs": [
    {
     "data": {
      "text/html": [
       "<div>\n",
       "<style scoped>\n",
       "    .dataframe tbody tr th:only-of-type {\n",
       "        vertical-align: middle;\n",
       "    }\n",
       "\n",
       "    .dataframe tbody tr th {\n",
       "        vertical-align: top;\n",
       "    }\n",
       "\n",
       "    .dataframe thead tr th {\n",
       "        text-align: left;\n",
       "    }\n",
       "</style>\n",
       "<table border=\"1\" class=\"dataframe\">\n",
       "  <thead>\n",
       "    <tr>\n",
       "      <th></th>\n",
       "      <th>Degree</th>\n",
       "      <th>Node</th>\n",
       "    </tr>\n",
       "    <tr>\n",
       "      <th></th>\n",
       "      <th></th>\n",
       "      <th>count</th>\n",
       "    </tr>\n",
       "  </thead>\n",
       "  <tbody>\n",
       "    <tr>\n",
       "      <th>0</th>\n",
       "      <td>1</td>\n",
       "      <td>23319</td>\n",
       "    </tr>\n",
       "    <tr>\n",
       "      <th>1</th>\n",
       "      <td>2</td>\n",
       "      <td>16814</td>\n",
       "    </tr>\n",
       "    <tr>\n",
       "      <th>2</th>\n",
       "      <td>3</td>\n",
       "      <td>6535</td>\n",
       "    </tr>\n",
       "    <tr>\n",
       "      <th>3</th>\n",
       "      <td>4</td>\n",
       "      <td>6842</td>\n",
       "    </tr>\n",
       "    <tr>\n",
       "      <th>4</th>\n",
       "      <td>5</td>\n",
       "      <td>4410</td>\n",
       "    </tr>\n",
       "    <tr>\n",
       "      <th>5</th>\n",
       "      <td>6</td>\n",
       "      <td>4201</td>\n",
       "    </tr>\n",
       "    <tr>\n",
       "      <th>6</th>\n",
       "      <td>7</td>\n",
       "      <td>3295</td>\n",
       "    </tr>\n",
       "    <tr>\n",
       "      <th>7</th>\n",
       "      <td>8</td>\n",
       "      <td>3180</td>\n",
       "    </tr>\n",
       "    <tr>\n",
       "      <th>8</th>\n",
       "      <td>9</td>\n",
       "      <td>2564</td>\n",
       "    </tr>\n",
       "    <tr>\n",
       "      <th>9</th>\n",
       "      <td>10</td>\n",
       "      <td>2439</td>\n",
       "    </tr>\n",
       "    <tr>\n",
       "      <th>10</th>\n",
       "      <td>11</td>\n",
       "      <td>2068</td>\n",
       "    </tr>\n",
       "    <tr>\n",
       "      <th>11</th>\n",
       "      <td>12</td>\n",
       "      <td>1912</td>\n",
       "    </tr>\n",
       "    <tr>\n",
       "      <th>12</th>\n",
       "      <td>13</td>\n",
       "      <td>1642</td>\n",
       "    </tr>\n",
       "    <tr>\n",
       "      <th>13</th>\n",
       "      <td>14</td>\n",
       "      <td>1522</td>\n",
       "    </tr>\n",
       "    <tr>\n",
       "      <th>14</th>\n",
       "      <td>15</td>\n",
       "      <td>1433</td>\n",
       "    </tr>\n",
       "    <tr>\n",
       "      <th>15</th>\n",
       "      <td>16</td>\n",
       "      <td>1224</td>\n",
       "    </tr>\n",
       "    <tr>\n",
       "      <th>16</th>\n",
       "      <td>17</td>\n",
       "      <td>1021</td>\n",
       "    </tr>\n",
       "    <tr>\n",
       "      <th>17</th>\n",
       "      <td>18</td>\n",
       "      <td>1018</td>\n",
       "    </tr>\n",
       "    <tr>\n",
       "      <th>18</th>\n",
       "      <td>19</td>\n",
       "      <td>903</td>\n",
       "    </tr>\n",
       "    <tr>\n",
       "      <th>19</th>\n",
       "      <td>20</td>\n",
       "      <td>787</td>\n",
       "    </tr>\n",
       "  </tbody>\n",
       "</table>\n",
       "</div>"
      ],
      "text/plain": [
       "   Degree   Node\n",
       "           count\n",
       "0       1  23319\n",
       "1       2  16814\n",
       "2       3   6535\n",
       "3       4   6842\n",
       "4       5   4410\n",
       "5       6   4201\n",
       "6       7   3295\n",
       "7       8   3180\n",
       "8       9   2564\n",
       "9      10   2439\n",
       "10     11   2068\n",
       "11     12   1912\n",
       "12     13   1642\n",
       "13     14   1522\n",
       "14     15   1433\n",
       "15     16   1224\n",
       "16     17   1021\n",
       "17     18   1018\n",
       "18     19    903\n",
       "19     20    787"
      ]
     },
     "execution_count": 19,
     "metadata": {},
     "output_type": "execute_result"
    }
   ],
   "source": [
    "dist=deg_dist.groupby(by='Degree').agg(['count'])\n",
    "dist_=dist.head(20) #here we take the 20 first most important degree, regarding the number of nodes\n",
    "dist_.reset_index()"
   ]
  },
  {
   "cell_type": "code",
   "execution_count": 20,
   "metadata": {},
   "outputs": [
    {
     "data": {
      "image/png": "[encoded data removed]",
      "text/plain": [
       "<Figure size 432x288 with 1 Axes>"
      ]
     },
     "metadata": {},
     "output_type": "display_data"
    }
   ],
   "source": [
    "x=dist_.index\n",
    "y=dist_['Node']['count'].tolist()\n",
    "\n",
    "plt.title(\"Noode degree\")\n",
    "plt.plot(x, y)\n",
    "plt.xlabel('degree')\n",
    "plt.ylabel('number of nodes')\n",
    "plt.show()"
   ]
  },
  {
   "cell_type": "markdown",
   "metadata": {},
   "source": [
    "### RQ2\n",
    "    Define a function that takes in input:\n",
    "- A page SOURCE\n",
    "- A number of clicks CLICK\n",
    "- and returns the set of all pages that a user can reach within d clicks."
   ]
  },
  {
   "cell_type": "markdown",
   "metadata": {},
   "source": [
    "    This function test the distance for all the nodes and then give the result based on the number of clicks selected. As an output, we have a dataframe with the name of the articles and the number of the nodes."
   ]
  },
  {
   "cell_type": "code",
   "execution_count": 21,
   "metadata": {},
   "outputs": [],
   "source": [
    "def find_pages(G,source,click):\n",
    "    node_number=[]\n",
    "    nome_article=[]\n",
    "    for node in G.nodes():\n",
    "        try:\n",
    "            comparative=nx.shortest_path_length(G, source=source,target=node)\n",
    "        except nx.NetworkXNoPath:\n",
    "            comparative=0\n",
    "        if(comparative==click):\n",
    "            node_number.append(node)\n",
    "            nome_article.append(labels[node])\n",
    "    pages_w_clicks=pd.DataFrame([node_number,nome_article])\n",
    "    pages_w_clicks=pages_w_clicks.T\n",
    "    pages_w_clicks.columns=['Node_Number','Article_Name']   \n",
    "    return(pages_w_clicks)"
   ]
  },
  {
   "cell_type": "markdown",
   "metadata": {},
   "source": [
    "    Here we call the fuction for an arbitrary node number (1150) and a arbitrary number of clicks (5)"
   ]
  },
  {
   "cell_type": "code",
   "execution_count": 24,
   "metadata": {},
   "outputs": [
    {
     "name": "stderr",
     "output_type": "stream",
     "text": [
      "100%|████████████████████████████████████████████████████████████████████████████████| 100/100 [58:09<00:00, 34.89s/it]\n"
     ]
    }
   ],
   "source": [
    "##### G.nodes(1150)\n",
    "from tqdm import tqdm\n",
    "for i in tqdm(range(0, 100)):\n",
    "    result=find_pages(G,1150,5)\n",
    "    result"
   ]
  },
  {
   "cell_type": "markdown",
   "metadata": {},
   "source": [
    "# RQ3"
   ]
  },
  {
   "cell_type": "markdown",
   "metadata": {},
   "source": [
    "Define a function that takes in input:\n",
    "\n",
    "- A category C\n",
    "- A set of pages in C, p = {p1, ..., pn}\n",
    "- returns the minimum number of clicks required to reach all pages in p, starting from the page v, corresponding to the most central article, according to the in-degree centrality, in C."
   ]
  },
  {
   "cell_type": "markdown",
   "metadata": {},
   "source": [
    "### first remarks on the problem :\n",
    "\n",
    "At the we first try to apply, for any given category C, a subgraph creating function that allows us to work on a subgraph of G that only contains articles from that category C.\n",
    "\n",
    "The problem was that the nodes of the subgraph where empty. By using np.intersect1d() we understaood that articles in C were not in G. This means that articles in C are not connected."
   ]
  },
  {
   "cell_type": "markdown",
   "metadata": {},
   "source": [
    "With the following cell we saw that G contains only 98 343 artickes among the 1 791 489 articles from the 'wiki-topcats-page-names.txt' file."
   ]
  },
  {
   "cell_type": "code",
   "execution_count": 25,
   "metadata": {},
   "outputs": [
    {
     "name": "stdout",
     "output_type": "stream",
     "text": [
      "90920\n",
      "75467\n"
     ]
    },
    {
     "data": {
      "text/plain": [
       "98343"
      ]
     },
     "execution_count": 25,
     "metadata": {},
     "output_type": "execute_result"
    }
   ],
   "source": [
    "print(data['edge_a'].nunique())\n",
    "print(data['edge_b'].nunique())\n",
    "len(G.nodes)"
   ]
  },
  {
   "cell_type": "markdown",
   "metadata": {},
   "source": [
    "So we first chose to filter categories that are not connected :"
   ]
  },
  {
   "cell_type": "code",
   "execution_count": null,
   "metadata": {},
   "outputs": [],
   "source": [
    "#here we look for categories that contains articles in the G graph because as we saw just above, most of aricles are not in G.nodes\n",
    "from tqdm import tqdm\n",
    "for i in tqdm(range(0, 100)):\n",
    "    cat=[]\n",
    "    a=category_set['Category'].tolist()\n",
    "    for i in range(len(a)):\n",
    "        l=(category_set[category_set.Category==a[i]].Articles).tolist()[0].split()\n",
    "        for j in range(len(l)):\n",
    "            l[j]=int(l[j])\n",
    "        if np.intersect1d(l,G.nodes).size>0:\n",
    "            cat.append(a[i])\n",
    "\n",
    "#then we save it in a .txt file\n",
    "    with open(\"categories.txt\", \"wb\") as fp:\n",
    "        pickle.dump(cat, fp)"
   ]
  },
  {
   "cell_type": "code",
   "execution_count": 27,
   "metadata": {},
   "outputs": [],
   "source": [
    "with open(\"categories.txt\", \"rb\") as fp:\n",
    "    cate=pickle.load(fp)"
   ]
  },
  {
   "cell_type": "code",
   "execution_count": 28,
   "metadata": {},
   "outputs": [
    {
     "name": "stdout",
     "output_type": "stream",
     "text": [
      "['People from Worcester', 'Eli Lilly and Company', 'Disability', 'American biologists', 'Molecular biologists', 'American geneticists', 'Nobel laureates in Physiology or Medicine', 'People from Winston-Salem, North Carolina', 'United States Air Force airmen', 'Strategic Air Command', 'Military history of the United States (19001999)', 'American World War II flying aces', 'Recipients of the Air Medal', 'Recipients of the Distinguished Flying Cross (United States)', 'American military personnel of the Vietnam War', 'Recipients of the Distinguished Service Medal (United States)', 'Recipients of the Legion of Merit', 'United States Air Force generals', 'United States Army Air Forces pilots of World War II', 'United States Army Air Forces officers', 'John F. Kennedy School of Government alumni', 'American military personnel from Wisconsin', 'United States Air Force officers', 'American aviators', 'American surgeons', 'Rebels', '19th-century Christian saints', 'Makerere University alumni', 'Abraham Lincoln', 'People from Springfield, Illinois', 'Amphetamines', 'People in alternative medicine', 'Beer and breweries in England', 'Businesspeople in the brewing industry', 'Romanian people of Hungarian descent', 'Expatriate footballers in Romania', 'Romanian football managers', 'FC Braov players', 'FC Oelul Galai players', 'CFM U Cluj players', 'FC Universitatea Craiova players', 'Liga I players', 'Romanian expatriate footballers', 'Romanian footballers', 'Romania international footballers', 'FC Steaua Bucureti players', 'FC Dinamo Bucureti players', 'FC Rapid Bucureti players', 'FC Politehnica Timioara players', 'FC CFR Cluj players', 'Lepidopterists', 'Hymenopterists', 'English entomologists', 'English ornithologists', 'Fellows of the Zoological Society of London', 'Edwardian era', 'Irish MPs 17761783', 'Knights of St Patrick', 'Irish MPs 17611768', 'Irish MPs 17271760', 'Earls in the Peerage of Ireland', 'Irish representative peers', '18th-century Irish people', 'Barons in the Peerage of Ireland', 'Members of the Parliament of Ireland (pre-1801)', 'Irish judges', 'Irish MPs 17981800', 'Irish MPs 17901797', 'Members of the Privy Council of Ireland', 'Viscounts in the Peerage of Ireland', '19th-century Irish people', 'University of Illinois alumni', 'American biochemists', 'Wayne State University faculty', 'American dentists', 'University of Illinois at Chicago faculty', 'Sahaba', 'Arab people', 'History of Islam', 'Converts to Islam', 'Islamic studies scholars', 'Muslim scholars of Islam', 'English Muslims', 'African American Muslims', 'Muslim scholars', 'American Muslims', '1890s births', '1997 FIFA Confederations Cup players', 'Saudi Arabian footballers', 'Aftermath of World War I', 'Islam in India', 'People from Damascus', 'Egyptian films', 'Egyptian actors', 'Arabic-language films', 'Members of the Parliament of Lebanon', 'American people of Lebanese descent', 'Moroccan footballers', 'Morocco international footballers', 'People from Casablanca', 'Greek Orthodox Patriarchs of Alexandria', 'People from Rochdale', 'People of the Industrial Revolution', 'History of the textile industry', 'Members of the Israel Academy of Sciences and Humanities', 'Jews from Galicia (Eastern Europe)', 'Hebrew University of Jerusalem faculty', 'Israeli journalists', 'Moroccan Jews', 'Members of the Knesset', 'Israeli Labor Party politicians', 'People from Tel Aviv', 'Hebrew University of Jerusalem alumni', 'Likud politicians', 'People from Jerusalem', 'People from Haifa', 'Belarusian Jews', 'Zionists', 'Polish Jews', 'Jews in Ottoman and British Palestine', 'Ukrainian Jews', 'History of Israel', 'Ashkenazi Jews', 'Sephardi Jews', 'Jewish historians', 'Lithuanian Jews', 'Austrian Jews', 'Jewish atheists', 'IsraeliPalestinian conflict', 'Jewish singers', 'Jewish musicians', 'Israeli emigrants to the United States', 'American people of Palestinian descent', 'Israeli Jews', 'Jews who emigrated to the United Kingdom to escape Nazism', 'Jewish refugees', 'Hebrew Bible people', 'American Orthodox rabbis', '21st-century rabbis', '20th-century rabbis', 'Kabbalists', 'Jewish history', '19th-century rabbis', 'Converts to Judaism', 'Mishnah rabbis', 'Burials at the Mount of Olives (Jewish)', 'Philosophers of Judaism', 'Christian and Jewish interfaith topics', 'American Orthodox Jews', 'Biblical scholars', 'Manuscripts', 'Ancient Christian controversies', 'Christian eschatology', 'Jews and Judaism in the Roman Empire', 'People celebrated in the Lutheran liturgical calendar', 'Anglican saints', 'Christian theologians', 'Christian mystics', 'Articles about multiple people', '5th-century Christian saints', '4th-century Christian martyr saints', '4th-century Christian saints', '4th-century bishops', 'Egyptian saints', '4th-century Romans', 'Christian martyrs of the Roman era', 'Eastern Orthodox saints', '13th-century Christian saints', 'Sibling duos', 'Converts to Christianity', 'Bishops of the Assyrian Church of the East', 'Control theorists', 'Epidemiologists', 'Harvard Fellows', 'Tufts University faculty', 'Indian emigrants to the United States', 'Tufts University alumni', 'University of Notre Dame faculty', 'Women philosophers', 'Christian philosophers', 'American philosophers', 'Philosophers of mind', 'Philosophers of science', 'Philosophy of science', 'Philosophers of language', '21st-century philosophers', 'Analytic philosophers', '20th-century philosophers', 'English philosophers', 'British philosophers', 'Gifford Lecturers', 'German philosophers', 'Jewish philosophers', 'Moral philosophers', '19th-century philosophers', 'Logicians', 'Rice University faculty', 'University of Paris alumni', 'University of Pittsburgh faculty', 'University of North Carolina at Chapel Hill faculty', 'Historians of science', 'Political theorists', 'Marxist theorists', 'French philosophers', 'Continental philosophers', 'Duke University faculty', 'University of Texas at Austin faculty', 'Yale University faculty', 'University of California, San Diego faculty', 'Academics of Birkbeck, University of London', 'University of Paris faculty', 'Theoretical computer scientists', 'Popes of the Coptic Orthodox Church of Alexandria', 'Danish emigrants to the United States', 'American people of Danish descent', 'Eastern Orthodox Christians from the United States', 'People from Pasadena, California', 'American Seventh-day Adventists', 'Expatriate footballers in Norway', 'Molde FK players', 'Norwegian expatriate footballers', 'Norway international footballers', 'Rosenborg BK players', 'Norwegian Premier League players', 'SK Brann players', 'Norwegian footballers', 'Vlerenga Fotball players', 'Lillestrm SK players', 'FK Lyn players', 'Troms IL players', 'Viking FK players', 'Norwegian football managers', 'Waterford United F.C. players', 'Derry City F.C. players', \"St Patrick's Athletic F.C. players\", 'League of Ireland players', 'Republic of Ireland association footballers', 'Shelbourne F.C. players', 'Drogheda United F.C. players', 'Bohemian F.C. players', 'Dundalk F.C. players', 'People from County Dublin', 'League of Ireland managers', 'Shamrock Rovers F.C. players', 'Sligo Rovers F.C. players', 'Home Farm F.C. players', 'People from Dublin (city)', 'People from Luton', 'People from Chester', 'Road accident deaths in England', 'Jamaican footballers', 'Jamaica international footballers', 'Players in the Welsh Premier League', 'Nelson F.C. players', 'Accrington Stanley F.C. (1891) players', 'People from Stoke-on-Trent', 'People from Blackpool', 'Republic of Ireland B international footballers', 'Republic of Ireland international footballers', 'Republic of Ireland under-21 international footballers', 'Newport County A.F.C. players', 'English football chairmen and investors', 'Chester City F.C. players', 'Telford United F.C. players', 'Woking F.C. players', 'Ebbsfleet United F.C. players', 'Margate F.C. players', 'Bath City F.C. players', 'Nuneaton Town F.C. players', 'Worcester City F.C. players', 'Hednesford Town F.C. players', 'Crewe Alexandra F.C. players', 'Port Vale F.C. players', 'Stafford Rangers F.C. players', 'Northwich Victoria F.C. players', 'Gateshead F.C. players', 'Forest Green Rovers F.C. players', 'Morecambe F.C. players', 'Kettering Town F.C. players', 'Crawley Town F.C. players', 'Accrington Stanley F.C. players', 'Weymouth F.C. players', 'Aldershot Town F.C. players', 'Macclesfield Town F.C. players', 'Southport F.C. players', 'Halifax Town A.F.C. players', 'People from Sheffield', 'Scarborough F.C. players', 'Dagenham & Redbridge F.C. players', 'Kidderminster Harriers F.C. players', 'Tamworth F.C. players', 'Grays Athletic F.C. players', 'Gillingham F.C. players', 'Barrow A.F.C. players', 'Association football goalkeepers who have scored', '1998 FIFA World Cup players', 'Wales under-21 international footballers', 'Welsh footballers', 'Swansea City A.F.C. players', 'Welsh football managers', 'Cheltenham Town F.C. players', 'Torquay United F.C. players', 'Doncaster Rovers F.C. players', 'Chesterfield F.C. players', 'Scunthorpe United F.C. players', 'Huddersfield Town F.C. players', 'Blackpool F.C. players', 'Cardiff City F.C. players', 'Wales international footballers', 'Hereford United F.C. players', 'Swindon Town F.C. players', 'Stoke City F.C. players', 'Colchester United F.C. players', 'Milton Keynes Dons F.C. players', 'Grimsby Town F.C. players', 'Carlisle United F.C. players', 'Tottenham Hotspur F.C. players', 'Charlton Athletic F.C. players', 'Millwall F.C. players', 'York City F.C. players', 'Conference National players', 'Black English sportspeople', 'Association football utility players', 'Preston North End F.C. players', 'Chelsea F.C. players', 'Oldham Athletic A.F.C. players', 'Derby County F.C. players', 'Wolverhampton Wanderers F.C. players', 'Birmingham City F.C. players', 'Portsmouth F.C. players', 'Sunderland A.F.C. players', 'Manchester City F.C. players', 'Queens Park Rangers F.C. players', 'Hull City A.F.C. players', 'Norwich City F.C. players', 'Sheffield United F.C. players', 'Brighton & Hove Albion F.C. players', 'Fulham F.C. players', 'Manchester United F.C. players', 'West Bromwich Albion F.C. players', 'Wigan Athletic F.C. players', 'Ipswich Town F.C. players', 'Barnsley F.C. players', 'The Football League managers', 'England B international footballers', 'Premier League players', 'England under-21 international footballers', 'English footballers', 'The Football League players', 'England international footballers', 'Leeds United A.F.C. players', 'Premier League managers', 'English football managers', 'Association football forwards', 'Luton Town F.C. players', 'Everton F.C. players', 'Nottingham Forest F.C. players', 'Bolton Wanderers F.C. players', 'Arsenal F.C. players', 'Blackburn Rovers F.C. players', 'English Football Hall of Fame inductees', 'Sheffield Wednesday F.C. players', 'Liverpool F.C. players', 'Black British sportspeople', 'England youth international footballers', 'Middlesbrough F.C. players', 'Crystal Palace F.C. players', 'Leicester City F.C. players', 'Reading F.C. players', 'Coventry City F.C. players', 'West Ham United F.C. players', 'Aston Villa F.C. players', 'Brentford F.C. players', 'Watford F.C. players', 'Association football goalkeepers', 'Association football wingers', 'Association football midfielders', 'Bradford City A.F.C. players', 'English expatriate footballers', 'Burnley F.C. players', 'Newcastle United F.C. players', 'Oxford United F.C. players', 'Shrewsbury Town F.C. players', 'England semi-pro international footballers', 'Lincoln City F.C. players', 'Boston United F.C. players', 'Rushden & Diamonds F.C. players', 'Walsall F.C. players', 'Mansfield Town F.C. players', 'Notts County F.C. players', 'A.F.C. Bournemouth players', 'Barnet F.C. players', 'Stevenage F.C. players', 'Exeter City F.C. players', 'Plymouth Argyle F.C. players', 'Wimbledon F.C. players', 'Stockport County F.C. players', 'Sportspeople from Liverpool', 'Tranmere Rovers F.C. players', 'Association football fullbacks', 'Rochdale A.F.C. players', 'Wrexham F.C. players', 'Wycombe Wanderers F.C. players', 'Bristol City F.C. players', 'Northampton Town F.C. players', 'Peterborough United F.C. players', 'Yeovil Town F.C. players', 'Bury F.C. players', 'Southend United F.C. players', 'Leyton Orient F.C. players', 'UEFA Pro Licence holders', 'Cambridge United F.C. players', 'Expatriate footballers in England', '2002 FIFA World Cup players', '2006 FIFA World Cup players', '2010 FIFA World Cup players', 'Darlington F.C. players', 'Hartlepool United F.C. players', 'Sportspeople from London', 'Rotherham United F.C. players', 'English people of Jamaican descent', 'Association football central defenders', 'Burton Albion F.C. players', '1990 FIFA World Cup players', 'Association football defenders', 'UEFA Euro 2004 players', 'UEFA Euro 1996 players', 'Southampton F.C. players', 'UEFA Euro 2000 players', 'Bristol Rovers F.C. players', 'English football referees', 'UEFA Euro 1988 players', 'Northern Ireland international footballers', 'People from Wolverhampton', 'Aldershot F.C. players', 'People from Nottingham', 'Members of the Order of the British Empire', 'English people of Nigerian descent', 'UEFA Euro 2008 players', '1986 FIFA World Cup players', '1994 FIFA World Cup players', 'Gainsborough Trinity F.C. players', 'Worksop Town F.C. players', 'Hyde F.C. players', 'Stalybridge Celtic F.C. players', 'Altrincham F.C. players', 'People from Manchester', 'People from Birmingham, West Midlands', 'British association football commentators', '1958 FIFA World Cup players', 'Bradford A.F.C. players', \"Queen's Park F.C. players\", 'Queen of the South F.C. players', 'Albion Rovers F.C. players', 'Hamilton Academical F.C. players', 'People from Aberdeen', 'Berwick Rangers F.C. players', 'Clydebank F.C. players', 'East Fife F.C. players', 'Clyde F.C. players', 'Stenhousemuir F.C. players', 'People from Bellshill', 'Greenock Morton F.C. players', 'Stranraer F.C. players', 'Sportspeople from Edinburgh', 'Alloa Athletic F.C. players', 'Scottish Junior Football Association players', 'Raith Rovers F.C. players', 'Partick Thistle F.C. players', 'Ross County F.C. players', 'Inverness Caledonian Thistle F.C. players', 'Livingston F.C. players', 'Cowdenbeath F.C. players', 'Montrose F.C. players', 'Heart of Midlothian F.C. players', 'Ayr United F.C. players', 'St. Mirren F.C. players', 'Aberdeen F.C. players', 'Arbroath F.C. players', 'Forfar Athletic F.C. players', 'People from Dundee', 'Dumbarton F.C. players', 'Scottish expatriate footballers', 'Brechin City F.C. players', 'Expatriate footballers in Scotland', 'Airdrieonians F.C. players', 'Hibernian F.C. players', 'Motherwell F.C. players', 'Kilmarnock F.C. players', 'Rangers F.C. players', 'Scottish football managers', 'Celtic F.C. players', 'Scotland international footballers', 'Scotland B international footballers', 'St. Johnstone F.C. players', 'Dundee F.C. players', 'Scottish Football League players', 'Scotland under-21 international footballers', 'Scottish Premier League players', 'Scottish footballers', 'Dundee United F.C. players', 'Sportspeople from Glasgow', 'Dunfermline Athletic F.C. players', 'Falkirk F.C. players', 'Stirling Albion F.C. players', 'People from Paisley', 'People from Stirling', 'Expatriate footballers in Iceland', '2001 FIFA Confederations Cup players', 'People from Bolton', 'FIFA World Cup referees', 'Expatriate footballers in the Netherlands', '1954 FIFA World Cup players', '1982 FIFA World Cup players', '2005 FIFA Confederations Cup players', 'UEFA Euro 1992 players', '1966 FIFA World Cup players', '2003 FIFA Confederations Cup players', 'Living people', 'A.C. Mantova players', 'People from the Province of Milan', 'SPAL 1907 players', 'Atalanta B.C. players', 'F.C. Messina Peloro players', 'Pisa Calcio players', 'F.B.C. Unione Venezia players', 'Ascoli Calcio 1898 players', 'A.S. Livorno Calcio players', 'U.S. Avellino players', 'A.C. Ancona players', 'Empoli F.C. players', 'A.C. ChievoVerona players', 'U.S. Cremonese players', 'Genoa C.F.C. players', 'Reggina Calcio players', 'U.S. Lecce players', 'Perugia Calcio players', 'A.C. Monza Brianza 1912 players', 'A.C. Arezzo players', 'Hellas Verona F.C. players', 'Vicenza Calcio players', 'A.C. Cesena players', 'Pescara Calcio players', 'Salernitana Calcio 1919 players', 'U.S. Foggia players', 'A.S. Bari players', 'A.S. Varese 1910 players', 'A.C. Pistoiese players', 'A.C. Reggiana 1919 players', 'U.S. Triestina Calcio players', 'Modena F.C. players', 'Calcio Padova players', 'Treviso F.B.C. 1993 players', 'Ravenna Calcio players', 'S.S.C. Napoli players', 'Como Calcio 1907 players', 'Torino F.C. players', 'Bologna F.C. 1909 players', 'F.C. Crotone players', 'U.S. Citt di Palermo players', 'Calcio Catania players', 'A.C. Siena players', 'Ternana Calcio players', 'Italian football managers', 'Serie A managers', 'Cagliari Calcio players', 'A.S. Roma players', 'Serie B footballers', 'Italian footballers', 'Italy under-21 international footballers', 'Parma F.C. players', 'Brescia Calcio players', 'ACF Fiorentina players', 'Udinese Calcio players', 'U.C. Sampdoria players', 'S.S. Lazio players', 'Serie A footballers', 'A.C. Milan players', 'Italy international footballers', 'Juventus F.C. players', 'Olympic footballers of Italy', 'F.C. Internazionale Milano players', 'Italian expatriate footballers', 'Expatriate footballers in Italy', 'FIFA 100', 'Piacenza Calcio players', 'U.S. Alessandria Calcio 1912 players', 'FIFA World Cup-winning players', '2009 FIFA Confederations Cup players', '1962 FIFA World Cup players', 'Chelmsford City F.C. players', 'People from Blackburn', 'Southern Football League players', 'People from Derby', 'UEFA Euro 1980 players', '1978 FIFA World Cup players', 'UEFA European Football Championship-winning players', '1970 FIFA World Cup players', 'Pre-1914 association football players', 'Alumni of the University of Salford', 'People from Salford', 'Footballers at the 1992 Summer Olympics', 'Expatriate footballers in Spain', 'FIFA Confederations Cup-winning players', 'People from Sunderland, Tyne and Wear', '2008 Africa Cup of Nations players', 'Omiya Ardija players', 'Vissel Kobe players', 'Japan Soccer League players', 'J. League Division 2 players', 'J. League Division 1 players', 'Kashiwa Reysol players', 'Cerezo Osaka players', 'Shonan Bellmare players', 'Kyoto Sanga F.C. players', 'JEF United Ichihara Chiba players', 'People from Shizuoka Prefecture', 'Shimizu S-Pulse players', 'Avispa Fukuoka players', 'Vegalta Sendai players', 'Kawasaki Frontale players', 'Consadole Sapporo players', 'Tokyo Verdy 1969 players', 'Jbilo Iwata players', 'Japanese footballers', 'Japan international footballers', 'AFC Asian Cup-winning players', 'J. League players', 'Japanese expatriate footballers', 'Nagoya Grampus Eight players', 'Oita Trinita players', 'Sanfrecce Hiroshima players', 'Urawa Red Diamonds players', 'Yokohama F. Marinos players', 'Olympic footballers of Japan', 'Gamba Osaka players', 'People from Chiba Prefecture', 'People from Hiroshima (city)', 'Footballers at the 1964 Summer Olympics', 'People from Western Tokyo', '1995 King Fahd Cup players', 'People from Kanagawa Prefecture', 'People from Hygo Prefecture', 'People from Bury', 'Calcio Lecco 1912 players', 'A.S. Lucchese-Libertas players', 'People from Huddersfield', 'People from Cheshire', 'PSV Eindhoven players', 'Dutch footballers', 'Netherlands international footballers', 'Eredivisie players', 'AFC Ajax players', 'Dutch expatriate footballers', 'SBV Vitesse players', 'AZ Alkmaar players', 'Feyenoord players', 'VVV-Venlo players', 'FC Volendam players', 'NEC Nijmegen players', 'Dutch people of Moroccan descent', 'Willem II Tilburg players', 'Roda JC players', 'SC Heerenveen players', 'Go Ahead Eagles players', 'NAC Breda players', 'Excelsior Rotterdam players', 'Eerste Divisie players', 'FC Utrecht players', 'FC Twente players', 'ADO Den Haag players', 'De Graafschap players', 'RKC Waalwijk players', 'Sparta Rotterdam players', 'FC Groningen players', 'People from Rotterdam', 'Dutch football managers', 'People from Paramaribo', 'Dutch people of Surinamese descent', 'People from Eindhoven', 'People from Limburg (Netherlands)', 'People from Dumfries', 'Kazakhstani footballers', 'Kazakhstan international footballers', 'Aris Thessaloniki F.C. players', 'Panionios G.S.S. players', 'Skoda Xanthi F.C. players', 'Iraklis FC players', 'Olympiacos F.C. players', 'AEK Athens F.C. players', 'Expatriate footballers in Greece', 'PAOK F.C. players', 'Greece international footballers', 'Greek footballers', 'Superleague Greece players', 'Panathinaikos footballers', 'OFI Crete players', 'Larissa F.C. players', 'People from Thessaloniki', 'French people of Moroccan descent', 'French people of Polish descent', 'People from Dakar', 'Senegalese footballers', 'Senegal international footballers', 'Senegalese expatriate footballers', 'AS Saint-tienne players', 'French people of Spanish descent', 'French people of Italian descent', 'FC Gueugnon players', 'RCF Paris players', 'Red Star Saint-Ouen players', 'FC Ste players', 'Olympique de Marseille players', 'Montpellier HSC players', 'RC Strasbourg players', 'AS Cannes players', 'FC Nantes players', 'FC Girondins de Bordeaux players', 'FC Sochaux-Montbliard players', 'Toulouse FC players', 'AS Monaco FC players', 'French expatriate footballers', 'Olympique Lyonnais players', 'Ligue 1 players', 'French footballers', 'France international footballers', 'Ligue 2 players', 'France under-21 international footballers', 'AJ Auxerre players', 'Lille OSC players', 'Stade Rennais F.C. players', 'Nmes Olympique players', 'Paris Saint-Germain F.C. players', 'French football managers', 'Ligue 1 managers', 'OGC Nice players', 'RC Lens players', 'Tours FC players', 'Stade Lavallois players', 'Grenoble Foot 38 players', 'Amiens SC players', 'AS Nancy players', 'FC Rouen players', 'Angers SCO players', 'LB Chteauroux players', 'Le Havre AC players', 'FC Metz players', 'FC Istres players', 'FC Lorient players', 'EA Guingamp players', 'SC Bastia players', 'Troyes AC players', 'Stade Brestois 29 players', 'Valenciennes FC players', 'Le Mans FC players', 'SM Caen players', 'AC Ajaccio players', 'CS Sedan Ardennes players', 'Stade de Reims players', 'Chamois Niortais F.C. players', 'French people of Senegalese descent', 'Clermont Foot players', 'US Crteil-Lusitanos players', 'People from Marseille', 'French people of Black African descent', 'FC Martigues players', 'Sportspeople from Paris', 'Expatriate footballers in France', 'French people of Algerian descent', 'Ivorian expatriate footballers', 'UEFA Euro 1984 players', 'Cameroonian expatriate footballers', 'People from Strasbourg', '2006 Africa Cup of Nations players', '2004 African Cup of Nations players', '2010 Africa Cup of Nations players', 'Anti-poverty advocates', 'International development', 'People from Caracas', \"People from Prince George's County, Maryland\", 'Baltimore City College alumni', 'Maryland lawyers', 'People from Baltimore, Maryland', 'University of Maryland, College Park alumni', 'Maryland Democrats', 'Members of the Maryland House of Delegates', 'Maryland Republicans', 'People from Montgomery County, Maryland', 'People from Bethesda, Maryland', 'People of the Vietnam War', 'American people of Vietnamese descent', \"Grand Croix of the Lgion d'honneur\", 'French military personnel of World War I', 'Recipients of the Mdaille Militaire', \"Commandeurs of the Lgion d'honneur\", 'American military personnel killed in World War II', 'Recipients of the Navy Cross', 'Imperial Japanese Navy admirals', 'United States naval aviators', 'American people of World War II', 'Naval War College alumni', 'United States Naval Academy alumni', 'United States Navy admirals', 'United States Navy officers', 'United States Navy', 'German emigrants to the United States', 'United States Army soldiers', 'Army Medal of Honor recipients', 'American military personnel of the PhilippineAmerican War', 'People from New York', 'People from Pennsylvania', 'United States Navy sailors', 'American military personnel of the SpanishAmerican War', 'Navy Medal of Honor recipients', 'Foreign born Medal of Honor recipients', 'Irish emigrants to the United States', 'Swedish emigrants to the United States', 'Union Army soldiers', 'British emigrants to the United States', 'Government ministers of Norway', 'Norwegian state secretaries', 'Labour Party (Norway) politicians', 'Members of the Parliament of Norway', 'British naval personnel of the Napoleonic Wars', 'Royal Navy officers', 'Royal Navy admirals', 'British naval personnel of the American Revolutionary War', 'British naval personnel of the French Revolutionary Wars', 'French generals', 'French military personnel of the French Revolutionary Wars', 'British Army personnel of the French Revolutionary Wars', 'British Army personnel of the Napoleonic Wars', 'Royal Navy officers of World War I', 'People from Fresno, California', 'Santa Clara University alumni', 'LGBT parents', 'LGBT rights activists from the United States', 'LGBT Jews', 'LGBT journalists', 'Lambda Literary Award winners', 'Lesbian writers', 'LGBT Christians', 'LGBT African Americans', 'LGBT people from the United States', 'LGBT writers from the United States', 'Gay writers', 'AIDS activists', 'Lesbian politicians', 'American health activists', 'Jewish feminists', 'Feminist studies scholars', 'American feminist writers', 'Feminist writers', 'American feminists', 'Drag queens', 'Women physicians', 'Feminism and history', 'Women of the Victorian era', 'People of the Edwardian era', 'American suffragists', \"American women's rights activists\", 'People from Graz', 'Trinidad and Tobago international footballers', 'Trinidad and Tobago footballers', 'American choreographers', 'American dancers', '2005 soundtracks', 'Epic Records live albums', '2001 live albums', '2003 live albums', 'Musicians from Oregon', 'Philips Records albums', 'Parlophone albums', 'VJs (media personalities)', 'Atlantic Records live albums', 'Fictional witches', 'Spanish generals', 'Spanish people of the Spanish Civil War', 'Medical ethics', 'People from Topeka, Kansas', 'Nobel Peace Prize laureates', 'American pacifists', 'American anti-war activists', 'Nonviolence advocates', 'People from Ann Arbor, Michigan', 'Community building', 'People from Gloucester', 'Benedictines', 'Chroniclers', 'Murdered monarchs', 'Popes', 'Italian popes', 'Recipients of the Order of the White Eagle (Poland)', 'Austro-Hungarian people', 'Austrian nobility', '19th-century Austrian people', 'German nobility', 'House of Wettin', 'People from Suffolk', 'People from Ipswich', 'English Jesuits', 'Beatified people', 'People executed under the Tudors', 'English Roman Catholic priests', 'People executed by hanging, drawing and quartering', '16th-century Roman Catholic martyrs', 'Martyred Roman Catholic priests', '16th-century venerated Christians', 'Converts to Roman Catholicism', '6th-century Christian saints', 'Christians of the Crusades', 'American vegans', 'Animal rights advocates', 'Animal rights', 'Animal testing', 'English publishers (people)', 'Shakespearean scholars', '16th-century poets', 'English printers', '1st-century Romans', 'Ancient Roman women', 'Imperial Roman consuls', '2nd-century Romans', '2nd-century BC Romans', 'Roman Republican consuls', 'Ancient Roman families', 'Prosopography of Ancient Rome', '1st-century BC Romans', 'Ancient Roman generals', 'Year of birth unknown', 'Year of death unknown', 'German academics', '19th-century German people', 'Ludwig Maximilian University of Munich alumni', 'People from Wrocaw', 'Recipients of the Pour le Mrite (civil class)', 'University of Heidelberg faculty', 'Members of the Prussian Academy of Sciences', 'University of Bonn alumni', 'University of Bonn faculty', 'University of Freiburg alumni', 'University of Gttingen alumni', 'University of Heidelberg alumni', 'Humboldt University of Berlin alumni', 'University of Leipzig alumni', 'University of Tbingen alumni', 'German economists', 'German historians', 'German Jews', 'German educators', 'People from Halle, Saxony-Anhalt', 'People from Stuttgart', 'Recipients of the Order of Merit of the Federal Republic of Germany', 'People from Heidelberg', 'People from Cologne', 'Historians of religion', 'People from Frankfurt', 'Commanders Crosses of the Order of Merit of the Federal Republic of Germany', 'Knight Commanders of the Order of Merit of the Federal Republic of Germany', 'Grand Crosses with Star and Sash of the Order of Merit of the Federal Republic of Germany', 'German women in politics', 'People from the Province of Brandenburg', 'People from Berlin', 'People from the Province of Saxony', 'People from the Rhine Province', 'Recipients of the Cross of the Order of Merit of the Federal Republic of Germany', 'People from Mannheim', 'De Burgh dynasty', '15th-century Irish people', 'People from County Mayo', 'Irish Gaelic poets', 'Medieval Irish writers', 'People from County Roscommon', '12th-century Irish people', '13th-century Irish people', 'People from County Sligo', 'People from County Galway', 'History of Ireland', 'Medieval Gaels', 'Celticists', 'Irish poets', 'Irish writers', 'Irish historians', 'Irish scholars and academics', 'People from County Kildare', 'Irish soldiers', '16th-century Irish people', 'People from County Meath', 'Dublin Gaelic footballers', 'People from County Kerry', 'People from County Cavan', 'People of Elizabethan Ireland', '17th-century Irish people', 'Honduras international footballers', 'Liga Nacional de Ftbol de Honduras footballers', 'Honduran footballers', 'Motagua players', 'Expatriate footballers in El Salvador', 'Salvadoran footballers', 'El Salvador international footballers', '2007 Copa Amrica players', 'CD Veracruz players', 'People from Guadalajara', 'Chivas de Guadalajara footballers', 'Cruz Azul footballers', 'CONCACAF Gold Cup-winning players', 'Primera Divisin de Mxico players', 'CF Monterrey footballers', 'Club Amrica footballers', 'Mexican footballers', 'Mexico international footballers', 'UANL Tigres players', 'Monarcas Morelia footballers', 'C.F. Pachuca players', 'UNAM Pumas footballers', 'F.C. Atlas players', 'Toluca footballers', 'Puebla F.C. players', 'CF Atlante footballers', '2004 Copa Amrica players', '2011 Copa Amrica players', '1997 Copa Amrica players', 'People from Kristiansand', 'People from Stavanger', 'Norwegian Academy of Science and Letters', 'Ambassadors of Norway', 'Norwegian newspaper editors', 'People from Brum', 'University of Oslo alumni', 'Norwegian educators', 'Norwegian expatriates in Germany', 'Norwegian non-fiction writers', 'Norwegian journalists', 'Knights First Class of the Order of St. Olav', 'People from Oslo', 'Norwegian expatriates in the United Kingdom', 'People from Trondheim', 'People from Bergen', 'Norwegian military personnel', 'Directors of government agencies of Norway', 'People executed by firing squad', 'Medievalists', 'Swedish stage actors', '18th-century actors', '19th-century actors', 'Members of the parliament of Sweden', 'Stockholm University alumni', 'Swedish songwriters', 'Swedish female singers', 'Swedish people', 'Swedish nobility', 'People from Lansing, Michigan', 'History of British Columbia', 'British Columbia Liberal Party MLAs', 'Simon Fraser University alumni', 'Norwegian female singers', 'Norwegian male singers', 'English explorers', 'Explorers of Antarctica', 'Spanish female singers', 'English folk singers', 'Scottish male singers', 'Scottish songwriters', 'People from Venice (city)', 'Doges of Venice', 'Vanguard Records albums', 'Academics of Durham University', 'Australian composers', 'Dutch composers', 'Executed politicians', 'People of the Russian Civil War', 'Soviet politicians', 'Communist Party of the Soviet Union members', 'Austrian lugers', 'English classical organists', 'Cathedral organists', 'English organists', 'Rivers of Botoani County', 'People of the Revolutions of 1848', 'People from Bucharest', 'Romanian Jews', 'American people of Romanian descent', 'Music from Bristol, England', 'Canadian people of Dutch descent', 'Ottawa Senators (original) players', 'Sportspeople from Saint Paul, Minnesota', 'Canadian expatriate sportspeople in the United Kingdom', 'Canadian ice hockey players', 'People from Ottawa', 'Canadian television sportscasters', 'New York Americans players', 'National Hockey League executives', 'National Hockey League broadcasters', 'People from Thunder Bay', 'Sportspeople from Toronto', 'Canadian ice hockey forwards', 'Hockey Hall of Fame inductees', 'Los Angeles Kings draft picks', 'Canadian ice hockey right wingers', 'Stanley Cup champions', 'Montreal Canadiens players', 'Ice hockey people from Ontario', 'Canadian ice hockey centres', 'Toronto Maple Leafs players', 'Ice hockey people from Quebec', 'People from Toronto', 'People from Edmonton', 'People from Saskatoon', 'People from Calgary', 'People from Greater Sudbury', 'People from Kitchener, Ontario', 'Sportspeople from Montreal', 'Canadian people of Italian descent', 'People from Winnipeg', 'Canadian people of Ukrainian descent', 'People from Regina, Saskatchewan', 'People from Sault Ste. Marie, Ontario', 'People from St. Catharines', 'People from Victoria, British Columbia', 'Olympic gold medalists for Canada', 'American people of Canadian descent', 'People from Scarborough, Ontario', \"Canada's Sports Hall of Fame inductees\", 'Sportspeople from Vancouver', 'People from Quebec City', 'French Quebecers', 'People from Montreal', 'Canadian people of German descent', 'People from London, Ontario', 'Canadian expatriates in the United States', 'Sportspeople from British Columbia', 'Canadian lacrosse players', 'Sportspeople from Ontario', 'Concerts', 'Bates College alumni', 'People from Portland, Maine', 'Bowdoin College alumni', 'Members of the Maine House of Representatives', 'Maine Republicans', 'Maine Democrats', 'Members of the United States House of Representatives from Maine', 'People from Bangor, Maine', 'Writers from Maine', 'People from Greenville, South Carolina', 'People from Columbia, South Carolina', 'People from South Carolina', 'People from Charleston, South Carolina', 'Members of the United States House of Representatives from South Carolina', 'University of South Carolina alumni', 'South Carolina Democrats', 'People from Bridgeport, Connecticut', 'People from New Haven, Connecticut', 'Connecticut colonial people', 'People from Greenwich, Connecticut', 'People from Hartford, Connecticut', 'Connecticut Democrats', 'Members of the Connecticut House of Representatives', 'Members of the United States House of Representatives from Connecticut', 'People from Connecticut', 'University of Connecticut alumni', 'People from Raleigh, North Carolina', 'People from Durham, North Carolina', 'University of Mississippi alumni', 'People from Jackson, Mississippi', 'People from Staten Island', 'People from Paterson, New Jersey', 'People from Englewood, New Jersey', 'Members of the United States House of Representatives from New Jersey', 'People from Elizabeth, New Jersey', 'People from Somerset County, New Jersey', 'People from Burlington County, New Jersey', 'People from Monmouth County, New Jersey', 'People from Middlesex County, New Jersey', 'People from Camden, New Jersey', 'Seton Hall University alumni', 'People from Passaic County, New Jersey', 'New Jersey County Freeholders', 'People from Jersey City, New Jersey', 'People from Essex County, New Jersey', 'People from Newark, New Jersey', 'People from Bergen County, New Jersey', 'People from Union County, New Jersey', 'People from Morris County, New Jersey', 'New Jersey lawyers', 'Rutgers University alumni', 'New Jersey State Senators', 'New Jersey Republicans', 'Members of the New Jersey General Assembly', 'New Jersey Democrats', 'Mayors of places in New Jersey', 'People from New Brunswick, New Jersey', 'People from Trenton, New Jersey', 'People from Princeton, New Jersey', 'People from Orange, New Jersey', 'New York University School of Law alumni', 'People from Hudson County, New Jersey', 'University of Florida faculty', 'Cuban emigrants to the United States', 'American people of Cuban descent', 'University of Miami alumni', 'People from Massachusetts', '19th-century American people', 'People from Boston, Massachusetts', 'People from Lowell, Massachusetts', 'American Unitarians', 'Harvard Divinity School alumni', 'People from Quincy, Massachusetts', 'Massachusetts colonial people', 'Boston University alumni', 'People from Cambridge, Massachusetts', 'Harvard University alumni', 'Boston College alumni', 'People from Norfolk County, Massachusetts', 'Massachusetts city council members', 'People from Brookline, Massachusetts', 'Northeastern University alumni', 'People from Middlesex County, Massachusetts', 'People from Worcester, Massachusetts', 'People from Springfield, Massachusetts', 'University of Massachusetts Amherst alumni', 'People from Worcester County, Massachusetts', 'Members of the United States House of Representatives from Massachusetts', 'Massachusetts lawyers', 'Massachusetts Democrats', 'Massachusetts State Senators', 'Members of the Massachusetts House of Representatives', 'Massachusetts Federalists', 'Massachusetts Republicans', 'People from Essex County, Massachusetts', 'Phillips Academy alumni', 'People from Fall River, Massachusetts', 'Rensselaer Polytechnic Institute alumni', 'Burials at Cave Hill Cemetery', 'People from Louisville, Kentucky', 'Iowa State University alumni', 'Iowa Democrats', 'Members of the Iowa House of Representatives', 'Iowa State Senators', 'Drake University alumni', 'People from Des Moines, Iowa', 'Iowa lawyers', 'University of Iowa College of Law alumni', 'Iowa Republicans', 'People from Iowa', 'People from Davenport, Iowa', 'National Inventors Hall of Fame inductees', 'American engineers', 'American electrical engineers', 'American inventors', 'Film and video technology', 'Scientists at Bell Labs', 'History of telecommunications', 'Verizon Communications', 'History of San Francisco, California', 'Culture of San Francisco, California', 'People from San Francisco, California', 'People from Ventura County, California', 'People from Santa Barbara, California', 'American food industry businesspeople', 'People from Scranton, Pennsylvania', 'American talk radio hosts', 'People from Corpus Christi, Texas', 'People from the Dallas  Fort Worth Metroplex', 'People from Abilene, Texas', 'Harris County, Texas', 'People of the Texas Revolution', 'German-American history', 'Members of the Texas House of Representatives', 'Texas A&M University alumni', 'Baylor University alumni', 'People from Austin, Texas', 'University of Texas at Austin alumni', 'Texas lawyers', 'Texas Republicans', 'Texas Democrats', 'Cancer deaths in Texas', 'American ranchers', 'People from Lubbock, Texas', 'Texas Tech University alumni', 'People from Amarillo, Texas', 'People from Fort Worth, Texas', 'People from Waco, Texas', 'People from Houston, Texas', 'University of Houston alumni', 'People from San Antonio, Texas', 'Southern Methodist University alumni', 'American oil industrialists', 'Gunmen of the American Old West', 'People of the American Old West', 'Outlaws of the American Old West', 'People from El Paso, Texas', 'Wake Forest University alumni', 'North Carolina State Senators', 'North Carolina Democrats', 'North Carolina lawyers', 'University of North Carolina at Chapel Hill alumni', 'People from Charlotte, North Carolina', 'Members of the North Carolina House of Representatives', 'North Carolina Republicans', 'People from Long Beach, California', 'Businesspeople from California', 'Pre-state history of California', 'Californios', 'California lawyers', 'People from San Bernardino County, California', 'People from Orange County, California', 'California Republicans', 'California Democrats', 'California city council members', 'Women state legislators in California', 'Members of the California State Assembly', 'California State Senators', 'People from Los Angeles County, California', 'Women in California politics', 'Mayors of places in California', 'American politicians of Mexican descent', 'Sierra Nevada (U.S.)', 'People from California', 'Historic house museums in California', 'History of Los Angeles, California', 'Landmarks in Los Angeles, California', 'Los Angeles Historic-Cultural Monuments', 'People from Knoxville, Tennessee', 'University of Tennessee alumni', 'People from Tennessee', 'People from Erie, Pennsylvania', 'Ojibwe people', 'Algonquian personal names', 'American people of Norwegian descent', 'Norwegian emigrants to the United States', 'Upper Peninsula of Michigan', 'Businesspeople in real estate', 'People from Omaha, Nebraska', 'People from Suffolk County, New York', 'People from Long Island', 'Hofstra University alumni', 'People from Nassau County, New York', 'People from St. Louis County, Missouri', 'People from Flint, Michigan', 'Utah Democrats', 'People from Ogden, Utah', 'Utah State University alumni', 'University of Utah faculty', 'English emigrants to the United States', 'American Latter Day Saint writers', 'Brigham Young University faculty', 'Historians of the Latter Day Saint movement', 'Converts to Mormonism', '19th-century Mormon missionaries', 'American Latter Day Saints', 'University of Utah alumni', 'Mission presidents of The Church of Jesus Christ of Latter-day Saints', 'Mormon missionaries in the United States', '20th-century Mormon missionaries', 'Stake presidents of The Church of Jesus Christ of Latter-day Saints', 'Bishops of The Church of Jesus Christ of Latter-day Saints', 'Brigham Young University alumni', 'American Mormon missionaries', 'People from Salt Lake City, Utah', 'Writers from Utah', 'City founders', 'Founders of religions', 'Mexican emigrants to the United States', 'People from Albuquerque, New Mexico', 'University of New Mexico alumni', 'American television specials', 'People from Evansville, Indiana', 'North Carolina State University alumni', 'People from Galveston, Texas', 'People from South Bend, Indiana', 'Adirondacks', 'People from Rochester, New York', 'New York Supreme Court Justices', 'People from Utica, New York', 'People from Syracuse, New York', 'People from Schenectady, New York', 'Speakers of the New York State Assembly', 'Union College (New York) alumni', 'People from Albany, New York', 'People from Buffalo, New York', 'New York Democrats', 'Members of the New York State Assembly', 'New York State Senators', 'New York Republicans', 'New York lawyers', 'Members of the United States House of Representatives from New York', 'County district attorneys in New York', 'United States presidential electors', 'People from Dutchess County, New York', 'Burials at Green-Wood Cemetery', 'Hamilton College (New York) alumni', 'American people of Dutch descent', 'People from Westchester County, New York', 'Williams College alumni', 'University at Albany, SUNY alumni', 'People from Oak Park, Illinois', 'University of Missouri faculty', 'People from Columbia, Missouri', 'History of Washington (state)', 'Companies based in Seattle, Washington', 'University of Washington alumni', 'People from Seattle, Washington', 'LGBT state legislators of the United States', '19th century in Boston, Massachusetts', 'Cultural history of Boston, Massachusetts', 'History of Boston, Massachusetts', 'Culture of Boston, Massachusetts', 'American geologists', 'People from Boise, Idaho', 'People from Eugene, Oregon', 'Members of the Oregon House of Representatives', 'University of Oregon alumni', 'People from Portland, Oregon', 'People from Salem, Oregon', 'Oregon State University alumni', 'People from Oregon', 'Columbia River Gorge', 'Reed College alumni', 'People from Missouri', 'University of North Dakota alumni', 'People from Charleston, West Virginia', 'West Virginia Democrats', 'West Virginia State Senators', 'West Virginia University alumni', 'American military personnel from West Virginia', 'People from Pensacola, Florida', 'American municipal police officers', 'Members of the United States National Academy of Engineering', 'People from Minneapolis, Minnesota', 'Women in Minnesota politics', 'Women state legislators in Minnesota', 'Minnesota Democrats', 'Members of the Minnesota House of Representatives', 'People from Hennepin County, Minnesota', 'People from Saint Paul, Minnesota', 'American Lutherans', 'Minnesota State Senators', 'American people of Swedish descent', 'People from Duluth, Minnesota', 'University of Minnesota alumni', 'People from Minnesota', 'Richardsonian Romanesque architecture', 'People from the Kansas City metropolitan area', 'Columbia Engineering alumni', 'Television news anchors in Los Angeles, California', 'American television journalists', 'New York television reporters', 'New York City television anchors', 'African American television personalities', 'CNN people', 'American television news anchors', 'American television reporters and correspondents', 'Native American leaders', 'People from Canton, Ohio', 'University of Pennsylvania', 'People from Spokane, Washington', 'Civil rights activists', 'American civil rights activists', 'History of civil rights in the United States', 'University of Kentucky alumni', 'People from Lexington, Kentucky', 'People from Kentucky', 'American members of the Churches of Christ', 'Self-released albums', 'Hip hop compilation albums', 'American shooting survivors', '1997 compilation albums', 'American medical researchers', 'Harvard Medical School faculty', 'Harvard Medical School alumni', 'American scientists', 'American science writers', 'People from New Orleans, Louisiana', 'American newspaper publishers (people)', 'Louisiana Republicans', 'Louisiana lawyers', 'Louisiana Democrats', 'Louisiana State University alumni', 'Members of the Louisiana House of Representatives', 'Louisiana State Senators', 'People from Baton Rouge, Louisiana', 'American businesspeople', 'People from Shreveport, Louisiana', 'Baptists from the United States', 'People from Lafayette, Louisiana', 'University of Louisiana at Lafayette alumni', 'Cajun people', 'American people of French descent', 'Members of the United States House of Representatives from Louisiana', 'Tulane University alumni', 'American farmers', 'Tulane University Law School alumni', 'People from Monroe, Louisiana', 'American educators', 'School principals and headteachers', 'American schoolteachers', 'Louisiana Tech University alumni', 'Writers from Louisiana', 'American real estate businesspeople', 'United States Air Force personnel', 'Historians of the United States', 'Deaths from cardiovascular disease', 'People from Augusta, Georgia', 'University of Georgia alumni', 'Members of the United States House of Representatives from Georgia (U.S. state)', 'Georgia (U.S. state) lawyers', 'Georgia (U.S. state) Democrats', 'Emory University alumni', 'People from Savannah, Georgia', 'University of Georgia faculty', 'People from Macon, Georgia', 'People from Columbus, Georgia', 'American people of Swiss descent', 'San Jose State University alumni', 'Lost cities and towns', 'San Diego State University alumni', 'People from Racine, Wisconsin', 'Polish emigrants to the United States', 'Tibetan Buddhists from Tibet', 'Converts to Buddhism', 'Modern Buddhist writers', 'Greek films', 'Greek-language films', 'Greek actors', 'People from Allentown, Pennsylvania', 'Lehigh University alumni', 'People from Chester County, Pennsylvania', 'People from Lancaster, Pennsylvania', 'University of Copenhagen alumni', 'People from Copenhagen', 'Footballers at the 1912 Summer Olympics', 'People in Cornish history', 'People from Cornwall', 'Austrian people of Czech descent', 'Members of the Royal Swedish Academy of Sciences', 'Members of the Linnean Society of London', 'British botanists', 'English naturalists', 'Botanists with author abbreviations', 'English botanists', 'British surgeons', 'Fellows of the Royal College of Surgeons', 'English surgeons', 'British medical doctors', 'English medical doctors', 'Fellows of the Royal College of Physicians', 'Ancient Greek physicians', '19th-century writers', \"English children's writers\", \"British children's writers\", \"British children's novels\", 'British illustrators', 'Role-playing game designers', 'Dungeons & Dragons game designers', 'Magic: The Gathering artists', 'People from Saint John, New Brunswick', 'New Brunswick Liberal Association MLAs', 'Members of the Executive Council of New Brunswick', 'Progressive Conservative Party of New Brunswick MLAs', 'Acadian people', 'Members of the Legislative Assembly of New Brunswick', 'Yugoslav musicians', 'Serbian actors', 'Walter Lantz Productions shorts', 'Betty Boop', 'Tom and Jerry cartoons', 'Animated short films', 'Fictional mice and rats', 'Animated films', 'The Pink Panther', 'Merrie Melodies shorts', 'Films directed by Friz Freleng', 'Films directed by Chuck Jones', 'Looney Tunes shorts', 'American animators', 'Japanologists', 'Samurai', 'People in Meiji period Japan', 'Kazoku', 'German people of Turkish descent', 'Kayserispor footballers', 'Genlerbirlii S.K. footballers', 'Trabzonspor footballers', 'Gaziantepspor footballers', 'Kocaelispor footballers', 'Denizlispor footballers', 'Konyaspor footballers', 'Ankaragc footballers', 'Fenerbahe footballers', 'Bursaspor footballers', 'Turkey under-21 international footballers', 'Galatasaray S.K. footballers', 'Sper Lig players', 'Turkish footballers', 'Turkey international footballers', 'Beikta J.K. footballers', 'Samsunspor footballers', 'People from Istanbul', 'Ottoman Armenians', 'People from zmir', 'Pashas', 'Japanese writers', 'Place of birth unknown', 'Date of death unknown', 'Place of death unknown', 'Date of birth unknown', 'World War I novels', 'Veikkausliiga players', 'Finnish footballers', 'Helsingin Jalkapalloklubi players', 'Finnish expatriate footballers', 'Finland international footballers', 'People from Turku', 'Swedish-speaking Finns', 'People from Helsinki', 'People from Tampere', 'People from Chattanooga, Tennessee', 'People from St. Louis, Missouri', 'People from Oakland, California', 'Baltimore Orioles (AA) players', 'Philadelphia Athletics (AA) players', 'Pittsburgh Alleghenys players', '19th-century baseball players', 'Chicago White Stockings players', 'Detroit Wolverines players', 'New York Highlanders players', 'American baseball players', 'Boston Beaneaters players', 'St. Louis Browns (AA) players', 'Kansas City Blues (baseball) players', 'Minneapolis Millers (baseball) players', 'Milwaukee Brewers (minor league) players', 'Baltimore Orioles (NL) players', 'New Orleans Pelicans players', 'St. Louis Browns (NL) players', 'Louisville Colonels players', 'Cleveland Spiders players', 'Washington Senators (NL) players', 'Springfield Ponies players', 'Scranton Miners players', 'Columbus Senators players', 'Providence Grays (minor league) players', 'Brooklyn Superbas players', 'Binghamton Bingoes players', 'Jersey City Skeeters players', 'Syracuse Stars (minor league) players', 'Albany Senators players', 'American radio sports announcers', 'Texas Longhorns baseball players', 'Baseball players from Maryland', 'Major League Baseball umpires', 'Houston Buffaloes players', 'Brooklyn Robins players', 'Los Angeles Angels (minor league) players', 'Nashville Volunteers players', 'Major League Baseball owners', 'Phoenix Giants players', 'Oakland Oaks (baseball) players', 'Memphis Chickasaws players', 'Baseball players from Minnesota', 'Baseball players from Arkansas', 'Sportspeople from San Francisco, California', 'Philadelphia Athletics players', 'Baseball players from Massachusetts', 'Baseball playermanagers', 'Little Rock Travelers players', 'Baseball players from Connecticut', 'Baltimore Orioles (IL) players', 'Montreal Royals players', 'Baseball players from Kentucky', 'Baseball people from Ontario', 'Las Vegas Stars (baseball) players', 'Hawaii Islanders players', 'USC Trojans baseball players', 'Wichita Wranglers players', 'Asheville Tourists players', 'Calgary Cannons players', 'Canton/Akron Indians players', 'Baseball players from Oregon', 'Frisco RoughRiders players', 'Greenville Braves players', 'Fort Worth Cats players', 'Salt Lake City Bees players', 'Minor league baseball players', 'San Diego Padres (minor league) players', 'Tidewater Tides players', 'Fort Lauderdale Yankees players', 'Atlanta Crackers players', 'Milwaukee Braves players', 'Baseball players from Louisiana', 'Billings Mustangs players', 'West Palm Beach Expos players', 'Peoria Chiefs players', 'Daytona Cubs players', 'Tennessee Smokies players', 'Washington Senators (19611971) players', 'Burlington Bees players', 'Chicago White Sox coaches', 'Iowa Oaks players', 'Phoenix Firebirds players', 'Bowie Baysox players', 'Baseball players from Pennsylvania', 'Baseball players from Missouri', 'San Jose Giants players', 'Fresno Grizzlies players', 'Hagerstown Suns players', 'Louisville Colonels (minor league) players', 'San Francisco Seals (baseball) players', 'St. Paul Saints (AA) players', 'Altoona Curve players', 'Kinston Indians players', 'Binghamton Mets players', 'St. Lucie Mets players', 'Baseball players from Washington (state)', 'Wichita Aeros players', 'Lakeland Tigers players', 'Erie SeaWolves players', 'Evansville Triplets players', 'Knoxville Smokies players', 'St. Louis Browns players', 'Baseball players from Virginia', 'Baseball players from Oklahoma', 'Baseball players from Mississippi', 'Newark Bears players', 'Long Island Ducks players', 'Brevard County Manatees players', 'Tampa Tarpons players', 'Springfield Cardinals players', 'Arkansas Travelers players', 'Tulsa Oilers (baseball) players', 'Louisville Redbirds players', 'St. Petersburg Cardinals players', 'Baseball players from South Carolina', 'Washington Senators players', 'Baseball players from North Carolina', 'Baseball players from Wisconsin', 'New York Giants (NL) players', 'Newark Bears (IL) players', 'Columbus Red Birds players', 'Brooklyn Dodgers players', 'Columbus Jets players', 'Miami Marlins players', 'Boston Braves players', 'Baseball players from Tennessee', 'Toronto Maple Leafs (International League) players', 'Seattle Rainiers players', 'Kansas City Athletics players', 'Vancouver Mounties players', 'Huntsville Stars players', \"Modesto A's players\", 'Tacoma Tigers players', 'Tucson Toros players', 'Charleston Charlies players', 'Major League Baseball players from Cuba', 'Los Angeles Angels of Anaheim players', 'Rancho Cucamonga Quakes players', 'Visalia Oaks players', 'Elmira Pioneers players', 'Pittsburgh Pirates coaches', 'Vero Beach Dodgers players', 'American expatriate baseball players in Japan', 'Cleveland Indians coaches', 'Baseball players from Michigan', 'Baseball players from Georgia (U.S. state)', 'Spokane Indians players', 'Oklahoma RedHawks players', 'Richmond Braves players', 'Boston Red Sox coaches', 'Major League Baseball pitching coaches', 'Major League Baseball bullpen coaches', 'Denver Bears players', 'Trenton Thunder players', 'Gulf Coast Yankees players', 'Tampa Yankees players', 'Scranton/Wilkes-Barre Yankees players', 'Chicago Cubs coaches', 'Albuquerque Isotopes players', 'Stockton Ports players', 'Vancouver Canadians players', 'Sacramento River Cats players', 'Louisville Bats players', 'Chattanooga Lookouts players', 'Montreal Expos players', 'Harrisburg Senators players', 'Ottawa Lynx players', 'Dunedin Blue Jays players', 'Syracuse SkyChiefs players', 'Iowa Cubs players', 'Memphis Redbirds players', 'New York Yankees coaches', 'Omaha Royals players', 'Scranton/Wilkes-Barre Red Barons players', 'Reading Phillies players', 'Tacoma Rainiers players', 'Jacksonville Suns players', 'Tulsa Drillers players', 'Major League Baseball infielders', 'Detroit Tigers coaches', 'Major League Baseball general managers', 'Major League Baseball executives', 'Major League Baseball coaches', 'Toledo Mud Hens players', 'Cincinnati Reds coaches', 'San Antonio Missions players', 'Edmonton Trappers players', 'Jewish Major League Baseball players', 'Baseball players from Alabama', 'Baseball players from New Jersey', 'Major League Baseball players from Venezuela', 'Akron Aeros players', 'Anaheim Angels players', 'Norfolk Tides players', 'guilas Cibaeas players', 'Charlotte Knights players', 'Birmingham Barons players', 'Baseball players from Illinois', 'Baseball players from New York', 'Round Rock Express players', 'Baseball players from Indiana', 'Seattle Mariners players', 'Major League Baseball outfielders', 'Major League Baseball players from the Dominican Republic', 'People from Atlanta, Georgia', 'Atlanta Braves players', 'Pawtucket Red Sox players', 'Milwaukee Brewers players', 'Houston Astros players', 'Albuquerque Dukes players', 'Major League Baseball second basemen', 'Columbus Clippers players', 'Major League Baseball first base coaches', 'Washington Nationals players', 'American League wins champions', 'Boston Red Sox players', 'Oakland Athletics players', 'New York Mets players', 'Baltimore Orioles players', 'St. Louis Cardinals players', 'Philadelphia Phillies players', 'Major League Baseball center fielders', 'Major League Baseball pitchers', 'All-Star Futures Game players', 'Los Angeles Dodgers players', 'Major League Baseball first basemen', 'Baseball players from California', 'Cleveland Indians players', 'Texas Rangers players', 'Chicago Cubs players', 'African American baseball players', 'New York Yankees players', 'Major League Baseball Rookie of the Year Award winners', 'Major League Baseball announcers', 'American League All-Stars', 'National League All-Stars', 'Major League Baseball players with retired numbers', 'Gold Glove Award winners', 'National Baseball Hall of Fame inductees', 'Chicago White Sox players', 'Major League Baseball right fielders', 'Major League Baseball left fielders', 'Pittsburgh Pirates players', 'Nashville Sounds players', 'Las Vegas 51s players', 'Colorado Springs Sky Sox players', 'San Francisco Giants players', 'Kansas City Royals players', 'Minor league baseball managers', 'Major League Baseball catchers', 'Major League Baseball shortstops', 'Detroit Tigers players', 'Major League Baseball third basemen', 'San Diego Padres players', 'Toronto Blue Jays players', 'Syracuse Chiefs players', 'Major League Baseball hitting coaches', 'Indianapolis Indians players', 'Cincinnati Reds players', 'Baseball players from Florida', 'Portland Beavers players', 'Minnesota Twins players', 'Buffalo Bisons (minor league) players', 'National League wins champions', 'Durham Bulls players', 'Tampa Bay Devil Rays players', 'New Orleans Zephyrs players', 'Florida Marlins players', '2006 World Baseball Classic players', '2009 World Baseball Classic players', 'Major League Baseball third base coaches', 'Major League Baseball managers', 'Major League Baseball bench coaches', 'Colorado Rockies players', 'Arizona Diamondbacks players', 'Rochester Red Wings players', 'Baseball players from Texas', 'California Angels players', 'Baseball players from Ohio', 'Tucson Sidewinders players', 'El Paso Diablos players', 'Major League Baseball players from Puerto Rico', 'People from Chicago, Illinois', 'Oklahoma City 89ers players', 'Carolina Mudcats players', 'Jupiter Hammerheads players', 'Eugene Emeralds players', 'Lake Elsinore Storm players', 'Portland Sea Dogs players', 'Baseball players from Kansas', 'Baseball players from Iowa', 'Major League Baseball players from Canada', 'American people of Polish descent', 'York White Roses players', 'Montgomery Rebels players', 'Hollywood Stars players', 'Major League Baseball players from Mexico', 'Baseball players from West Virginia', 'Expatriate baseball players in South Korea', 'Jewish American sportspeople', 'West Tennessee Diamond Jaxx players', 'High Desert Mavericks players', 'Arizona League Mariners players', 'Wisconsin Timber Rattlers players', 'Everett AquaSox players', 'Lancaster JetHawks players', 'People from Sacramento, California', 'South Korean baseball players', 'Cleveland Naps players', 'Baseball executives', '2000 deaths', 'People from Cincinnati, Ohio', 'Baseball players at the 2000 Summer Olympics', 'Baseball players at the 2008 Summer Olympics', 'Baseball players at the 2004 Summer Olympics', 'Yomiuri Giants players', 'Japanese baseball players', 'Hanshin Tigers players', 'Olympic medalists in baseball', 'Cuban baseball players', 'Olympic gold medalists for Cuba', 'Negro league baseball players', 'Academics of the University of Warwick', 'South Korean films', 'Korean-language films', 'Joseon Dynasty people', 'Daejeon Citizen players', 'Gwangju Sangmu players', 'FC Seoul players', 'Seongnam Ilhwa Chunma players', 'Suwon Samsung Bluewings players', 'South Korean expatriate footballers', 'South Korean footballers', 'Olympic footballers of South Korea', 'South Korea international footballers', 'K-League players', 'Ulsan Hyundai FC players', 'Jeonbuk Hyundai Motors players', 'Pohang Steelers players', 'Chunnam Dragons players', \"Busan I'Park players\", 'Incheon United F.C. players', 'Daegu FC players', 'Japanese-language singers', 'South Korean actors', 'South Korean television actors', 'South Korean film actors', 'People from Seoul', 'South Korean female singers', 'South Korean pop singers', 'K-pop singers', 'American people of Korean descent', 'Jubilee 150 Walkway', 'People from South Australia', '2005 video albums', 'Television pilots not picked up as a series', 'American comedy writers', 'American comedy musicians', 'American fashion designers', 'English female models', 'Fashion photographers', 'American female models', 'American male models', 'American socialites', 'Alumni of the Central Saint Martins College of Art and Design', 'Shoe brands', 'Suicides by jumping from a height', 'Iranian actors', 'Iranian films', 'Persian-language films', 'People from Tehran', 'Iranian writers', 'American geographers', 'Pennsylvania State University faculty', 'People from Colorado Springs, Colorado', 'Members of the Colorado House of Representatives', 'People from Colorado', 'University of Denver alumni', 'University of Colorado alumni', 'People from Denver, Colorado', 'Deportivo Saprissa players', 'Costa Rican footballers', 'Costa Rica international footballers', 'Croats of Bosnia and Herzegovina', 'History of Bosnia and Herzegovina', 'People from Sarajevo', 'History of Serbia', 'Yugoslav films', 'Croatian films', 'Croatian-language films', 'Representatives in the modern Croatian Parliament', 'People from Zagreb', 'NK Osijek players', 'Croatian expatriate footballers', 'Prva HNL players', 'Croatian footballers', 'Croatia international footballers', 'GNK Dinamo Zagreb players', 'HNK Hajduk Split players', 'HNK Rijeka players', 'NK Zagreb players', 'People from Split', 'History of Croatia', 'Serbs of Croatia', 'People from Athens', 'National and Kapodistrian University of Athens alumni', 'Prime Ministers of Greece', 'People of the Greek War of Independence', 'War on Terror', 'Fictional cyborgs', 'Characters created by Stan Lee', 'Film characters', 'Fictional scientists', 'Fictional inventors', 'Fictional secret agents and spies', 'Fictional mercenaries', 'Fictional sword fighters', 'Fictional schoolteachers', 'Fictional criminals', 'Fictional twins', 'Fictional genetically engineered characters', 'Fictional martial artists', 'Fictional women soldiers and warriors', 'Fictional American people of Irish descent', 'Gothic Revival architects', 'American ecclesiastical architects', 'Architecture firms based in New York City', 'Architects of Roman Catholic churches', 'University of Washington faculty', 'Fellows of the American Institute of Architects', 'Canadian pair skaters', 'American female single skaters', 'American ice dancers', 'Olympic figure skaters of the United States', 'Sportspeople from Saint Petersburg', 'Canadian sportswomen', 'Sportspeople from Moscow', 'Figure skaters at the 1998 Winter Olympics', 'Figure skaters at the 2006 Winter Olympics', 'Olympic medalists in figure skating', 'People from Odessa', 'People from Rockford, Illinois', 'City University of New York faculty', 'Professional bodybuilders', 'American bodybuilders', 'Female bodybuilders', '1940s American radio programs', '1950s American radio programs', '1930s American radio programs', 'American radio drama', 'American comedy radio programs', 'American music radio programs', 'Old Tonbridgians', 'People from Greenock', 'English officers of arms', 'Fellows of the Society of Antiquaries of London', 'English antiquarians', 'People from Cheltenham', 'Ulster Unionist Party politicians', 'English engineers', 'English civil engineers', 'Presidents of the Institution of Civil Engineers', 'British civil engineers', 'Burials at West Norwood Cemetery', 'Rykodisc albums', 'Nova Scotia Liberal Party MLAs', 'People from Halifax, Nova Scotia', 'Judges in Nova Scotia', 'Nova Scotia pre-Confederation MLAs', 'Pakistan-related lists', 'Pakistani generals', 'Sindhi people', \"Pakistani Shi'a Muslims\", 'Pakistani politicians', 'Pakistani Muslims', 'Pakistani Sunni Muslims', 'Aligarh Muslim University alumni', 'Islamic terrorism', 'People from Cairo', 'Malian footballers', \"Cte d'Ivoire international footballers\", 'Ivorian footballers', 'Egyptian footballers', 'Egypt international footballers', 'ASEC Mimosas players', '2002 African Cup of Nations players', '2000 African Cup of Nations players', '1996 African Cup of Nations players', '1998 African Cup of Nations players', 'Milton Keynes', 'English ecclesiastical architects', 'British knights', 'Vice-Chancellors of the University of Oxford', 'Converts to Roman Catholicism from Anglicanism', 'Alumni of Corpus Christi College, Oxford', 'Fellows of the British Academy', 'Statutory Professors of the University of Oxford', 'Fellows of All Souls College, Oxford', 'British classical scholars', 'Alumni of Lincoln College, Oxford', 'Fellows of Magdalen College, Oxford', 'English classical scholars', 'British historians', 'Alumni of Worcester College, Oxford', 'Alumni of the University of Oxford', 'English academics', 'Alumni of Pembroke College, Oxford', 'Alumni of Oriel College, Oxford', 'English historians', 'Fellows of the Royal Historical Society', 'Alumni of Merton College, Oxford', 'Alumni of Wadham College, Oxford', 'Alumni of Exeter College, Oxford', 'Academics of the University of Oxford', 'Fellows of New College, Oxford', 'English educators', 'American religious leaders', 'Bishops of the Episcopal Church in the United States of America', \"Academics of King's College London\", 'Academics of the University of London', 'Fellows of Trinity College, Cambridge', 'Alumni of Hertford College, Oxford', 'English Anglican priests', 'English theologians', 'Syfy original films', 'Modernist architects', 'German architects', 'American architects', 'Recipients of the Royal Gold Medal', 'British architects', 'English architects', 'Cooper Union alumni', 'Inventors of writing systems', 'American linguists', 'City University of New York alumni', 'Belgian academics', 'Belgian scientists', 'People from Bruges', 'People from Brussels', 'People from Ghent', 'Ghent University alumni', 'Belgian Ministers of State', 'Order of Leopold recipients', 'Belgian politicians', 'Free University of Brussels alumni', 'Explorers of the Pacific', 'Peruvian expatriate footballers', 'Peruvian footballers', 'Peru international footballers', 'Sporting Cristal footballers', 'Universitario de Deportes footballers', 'Alianza Lima footballers', 'People from Lima', 'Spanish explorers', 'Australian culture', 'BBC World News', 'BBC newsreaders and journalists', 'British reporters and correspondents', 'ITN newsreaders and journalists', 'People from Baghdad', 'Iraq War', 'Attempted assassination survivors', 'American people of Iraqi descent', 'American people of Arab descent', 'Hebrew-language films', 'Israeli films', 'International relations scholars', 'Academics of the University of Birmingham', 'American people of Lithuanian descent', 'International rivers of Europe', 'People from Rhondda', 'American surfers', 'American cyclists', 'Track cyclists', 'Cyclists at the 2000 Summer Olympics', 'Olympic medalists in cycling', 'Olympic cyclists of Great Britain', 'German cyclists', 'English cyclists', 'Asian Games medalists in badminton', 'Badminton players at the 2004 Summer Olympics', 'Olympic bronze medalists for China', '2009 live albums', '2007 live albums', 'People from Charlottesville, Virginia', 'British academics', 'People in public health', 'British educators', 'British activists', 'British philanthropists', 'Dames Commander of the Order of the British Empire', 'Women in the United States Navy', 'American nurses', 'Death customs', 'Olympic bronze medalists for South Korea', 'Table tennis players at the 2008 Summer Olympics', 'Recipients of the Order of the Cross of Terra Mariana, 1st Class', 'People from Riga', 'Pre-1950 IFA international footballers', 'Association footballers from Northern Ireland', 'Linfield F.C. players', 'Irish Football League players', 'Glentoran F.C. players', 'Evolutionary biologists', 'Women biologists', 'Spanish writers', 'American long-distance runners', 'Marathon runners', 'British long-distance runners', 'High jumpers', 'American hurdlers', 'Sprinters', 'Middle distance runners', 'Athletes (track and field) at the 2006 Commonwealth Games', 'Athletes (track and field) at the 2004 Summer Olympics', 'Athletes (track and field) at the 2000 Summer Olympics', 'African American track and field athletes', 'Athletes (track and field) at the 1996 Summer Olympics', 'American sprinters', 'Olympic medalists in athletics (track and field)', 'Olympic athletes of France', 'Athletes (track and field) at the 1992 Summer Olympics', 'Athletes (track and field) at the 1991 Pan American Games', 'English sprinters', 'Olympic track and field athletes of Canada', 'Long jumpers', 'English athletes', 'Athletes (track and field) at the 1988 Summer Olympics', 'Olympic track and field athletes of the United States', 'Triple jumpers', 'Pan American Games competitors for Cuba', 'Greek athletes', 'Olympic athletes of Greece', 'Athletes (track and field) at the 1976 Summer Olympics', 'Athletes (track and field) at the 1972 Summer Olympics', 'Olympic bronze medalists for West Germany', 'Athletes (track and field) at the 1960 Summer Olympics', 'Athletes (track and field) at the 1956 Summer Olympics', 'Athletes (track and field) at the 1964 Summer Olympics', 'Former world record holders in athletics (track and field)', 'Dynamo sports society athletes', 'Soviet athletes', 'Olympic athletes of the Soviet Union', 'Olympic bronze medalists for the Soviet Union', 'Athletes (track and field) at the 1984 Summer Olympics', 'Athletes (track and field) at the 1980 Summer Olympics', 'Athletes (track and field) at the 1952 Summer Olympics', 'Athletes (track and field) at the 1948 Summer Olympics', 'American sportspeople in doping cases', 'Olympic bronze medalists for East Germany', 'American track and field athletes', 'American pole vaulters', 'Olympic athletes of Great Britain', 'Commonwealth Games gold medallists for England', 'People from San Jose, California', 'Olympic silver medalists for Spain', 'Female field hockey players', 'Field hockey players at the 2000 Summer Olympics', 'Field hockey players at the 2004 Summer Olympics', 'English field hockey players', 'Field hockey players at the 1992 Summer Olympics', 'Field hockey players at the 1996 Summer Olympics', 'Field hockey players at the 1988 Summer Olympics', 'Olympic field hockey players of Great Britain', 'Recipients of the Arjuna Award', 'Anglo-Indian people', 'Olympic medalists in field hockey', 'Olympic bronze medalists for Great Britain', 'Sub Pop albums', 'Sub Pop artists', 'Expatriate footballers in Hong Kong', 'Hong Kong First Division League players', 'South China AA footballers', 'Hong Kong footballers', 'British expatriates in Hong Kong', 'Alumni of the University of Hong Kong', 'Italian emigrants to the United States', 'United States Navy personnel', 'Documentary films about nature', 'American ornithologists', 'American paleontologists', 'Filipino Roman Catholics', 'Filipino educators', 'Ateneo de Manila University alumni', 'GMA Network', 'American people of Filipino descent', 'Philippine films', 'Tagalog-language films', 'Filipino television actors', 'Filipino film actors', 'Filipino actors', 'Star Magic', 'People from Manila', 'Filipino female singers', 'Filipino people of Chinese descent', 'Filipino people of Spanish descent', 'ABSCBN Corporation', 'Production designers', 'English Quakers', 'American Quakers', 'Haverford College alumni', 'People from York', 'Canadian bloggers', 'People from Tbilisi', 'American Soccer League (19211933) players', 'Scottish emigrants to the United States', 'National Soccer Hall of Fame members', 'USL Second Division players', 'North American Soccer League (2011) players', 'USSF Division 2 Pro League players', 'USL Professional Division players', 'California soccer teams', 'Charisma Records albums', 'Martial arts school founders', 'American karateka', 'American martial artists', 'Japanese emigrants to the United States', 'Individual dogs', 'Sheriffs of the City of London', 'Lord Mayors of London', 'English merchants', 'Old Mancunians', 'Fellows of the Royal Geographical Society', 'The Times people', 'Far-right politics in the United Kingdom', 'Marquesses in the Peerage of the United Kingdom', 'Alumni of Brasenose College, Oxford', 'Alumni of New College, Oxford', 'Alumni of the University of Birmingham', 'British journalists', 'Alumni of the University of Sussex', 'British Roman Catholics', \"Members of Gray's Inn\", 'English judges', 'English barristers', \"British Queen's Counsel\", \"Queen's Counsel 19012000\", 'Members of the Judicial Committee of the Privy Council', 'Law lords', 'Crossbench life peers', 'UK MPs 18351837', 'UK MPs 18321835', 'UK MPs 18201826', 'UK MPs 18181820', 'UK MPs 18121818', 'UK MPs 18071812', 'UK MPs 18301831', 'UK MPs 18261830', 'UK MPs 18311832', 'Politics of the United Kingdom', 'Members of the Inner Temple', 'Members of the Middle Temple', 'Alumni of Trinity Hall, Cambridge', 'Alumni of Balliol College, Oxford', 'Alumni of Magdalen College, Oxford', 'Jewish politicians', 'UK MPs 18951900', 'UK MPs 18851886', 'UK MPs 18861892', 'UK MPs 18921895', 'UK MPs 18801885', 'English businesspeople', 'UK MPs 18741880', 'UK MPs 18651868', 'UK MPs 18681874', 'UK MPs 18571859', 'UK MPs 18591865', 'UK MPs 18471852', 'UK MPs 18521857', 'UK MPs 18371841', 'UK MPs 18411847', 'Old Harrovians', 'Alumni of Trinity College, Cambridge', 'Solicitors General for England and Wales', 'Attorneys General for England and Wales', 'Lord Presidents of the Council', 'Old Etonians', 'Lords Privy Seal', 'Alumni of Christ Church, Oxford', 'Members of the United Kingdom Parliament for constituencies in Cornwall', 'Earls in the Peerage of the United Kingdom', 'Younger sons of barons', 'Younger sons of baronets', \"Members of Lincoln's Inn\", 'Members of the United Kingdom Parliament for university constituencies', 'Treasurers of the Household', 'Chancellors of the Duchy of Lancaster', 'Members of the United Kingdom Parliament for Scottish constituencies', 'Gay politicians', 'Life peers', 'Liberal Democrat life peers', 'Alumni of the London School of Economics', 'Female life peers', 'Councillors in Greater London', 'Presidents of the Oxford Union', 'Members of the Order of the Companions of Honour', 'UK MPs 19501951', 'UK MPs 19451950', 'UK MPs 19871992', 'UK MPs 19831987', 'Conservative Party (UK) life peers', 'UK MPs 19921997', 'UK MPs 20012005', 'UK MPs 19972001', 'UK MPs 20052010', 'Labour Party (UK) MPs', 'UK MPs 2010', 'British female MPs', 'Labour Party (UK) life peers', 'Members of the Privy Council of the United Kingdom', 'British Secretaries of State', 'Members of the United Kingdom Parliament for English constituencies', 'UK MPs 19701974', 'UK MPs 1974', 'UK MPs 19741979', 'UK MPs 19791983', 'Conservative Party (UK) MPs', 'UK MPs 19641966', 'UK MPs 19661970', 'UK MPs 19591964', 'UK MPs 19511955', 'UK MPs 19551959', 'Liberal Democrat (UK) MPs', 'Presidents of the Cambridge Union Society', 'Knights Bachelor', 'Members of the United Kingdom Parliament for Welsh constituencies', 'English Anglicans', 'Councillors in Scotland', 'Labour Party (UK) politicians', 'UK MPs 19061910', 'UK MPs 19001906', 'Liberal Party (UK) MPs', 'Baronets in the Baronetage of the United Kingdom', 'Unionist Party (Scotland) MPs', 'Conservative Party (UK) politicians', 'UK MPs 1910', 'UK MPs 19101918', 'Members of the London County Council', 'Viscounts in the Peerage of the United Kingdom', 'UK MPs 19351945', 'UK MPs 19291931', 'UK MPs 19311935', 'UK MPs 19241929', 'UK MPs 19231924', 'UK MPs 19221923', 'Barons in the Peerage of the United Kingdom', 'Liberal Party (UK) politicians', 'UK MPs 19181922', 'Anglo-Scots', 'Alumni of University College, Oxford', 'British conscientious objectors', 'Old Wykehamists', 'Leaders of British trade unions', 'British trade unionists', 'English solicitors', 'Alumni of Magdalene College, Cambridge', 'Old Rugbeians', 'Alumni of the University of London', 'Conservative Party (UK) MEPs', 'Old Gowers', 'English Methodists', 'Alumni of University College London', 'British Jews', 'Alumni of the University of Nottingham', 'Knights of the Thistle', 'Old Carthusians', 'Alumni of the University of Liverpool', 'Alumni of the University of Exeter', 'English philanthropists', 'English bankers', 'Alumni of Downing College, Cambridge', 'Alumni of the University of Warwick', 'Younger sons of dukes', 'Baronets in the Baronetage of Great Britain', 'Old Westminsters', 'UK MPs 18011802', 'UK MPs 18021806', 'British MPs 17961800', 'UK MPs 18061807', 'Tory MPs (pre-1834)', 'Whig (British political party) MPs', 'Younger sons of earls', 'Alumni of Birkbeck, University of London', 'Lords of the Admiralty', 'Alumni of the University of Southampton', \"People educated at King's College School, Wimbledon\", 'British businesspeople', 'Alumni of the University of York', 'Alumni of the University of Sheffield', 'Healthcare in the United States', 'British judges', 'British barristers', 'Members of the Legislative Assembly of Upper Canada', 'Canadian judges', 'Members of the Legislative Assembly of the Province of Canada', 'Deaths from cholera', 'Canada  United States relations', 'People from Northumberland', 'Welsh politicians', '20th-century executions by the United Kingdom', 'Members of the United Kingdom Parliament for Irish constituencies (18011922)', 'Irish Parliamentary Party MPs', 'People from County Clare', 'Cork Gaelic footballers', 'Limerick hurlers', 'People from County Limerick', 'Kilkenny hurlers', 'People from County Kilkenny', 'Tipperary hurlers', 'People from County Tipperary', 'Winners of 1 All-Ireland medal (hurling)', 'Leinster hurlers', 'Winners of 2 All-Ireland medals (hurling)', 'Cork hurlers', 'People from County Cork', 'Munster hurlers', 'People from County Waterford', 'Irish novelists', 'Irish dramatists and playwrights', 'Aosdna members', 'People from Cork (city)', 'People from County Wexford', 'Irish barristers', 'People associated with Trinity College, Dublin', 'Irish Republican Army members (19221969)', 'Members of the 4th Dil', 'Cumann na nGaedheal politicians', 'Irish Sinn Fin politicians', 'Members of the 3rd Dil', 'Members of the 2nd Dil', 'Irish Republican Army members (19171922)', 'People of the Irish Civil War', 'Members of the 6th Dil', 'Members of the 5th Dil', 'Members of the 10th Dil', 'Members of the 9th Dil', 'Members of the 7th Dil', 'Members of the 8th Dil', 'Independent politicians in Ireland', 'Members of the 16th Dil', 'Members of the 17th Dil', 'Members of the 15th Dil', 'Members of the 13th Dil', 'Members of the 14th Dil', 'Members of the 12th Dil', 'Members of the 11th Dil', 'Fine Gael politicians', 'Irish farmers', 'Alumni of University College Dublin', 'Teachta Dla', 'Fianna Fil politicians', 'Members of the 18th Dil', 'Members of the 19th Dil', 'Labour Party (Ireland) politicians', 'People from County Monaghan', 'Irish businesspeople', 'People from County Donegal', 'People from County Wicklow', 'Irish journalists', 'Irish television personalities', 'People from Wiltshire', 'Olympic medalists in volleyball', 'Female volleyball players', 'Olympic silver medalists for Japan', 'Olympic gold medalists for Japan', 'Olympic gold medalists for the Soviet Union', 'California State University, Long Beach alumni', 'Volleyball players at the 1988 Summer Olympics', 'Volleyball players at the 1992 Summer Olympics', 'Volleyball players at the 2008 Summer Olympics', 'Olympic silver medalists for Russia', 'American volleyball players', 'Volleyball players at the 2007 Pan American Games', 'Olympic bronze medalists for Brazil', 'Vermont culture', 'People from Windsor County, Vermont', 'University of Vermont alumni', 'People from Burlington, Vermont', 'Members of the Vermont House of Representatives', 'Middlebury College alumni', 'American people in rail transportation', 'American railroad executives of the 20th century', 'American people of Iranian descent', 'American people of Armenian descent', 'Victory Records albums', '2008 video albums', 'Rhythm guitarists', 'Century Media Records albums', 'Relapse Records albums', '2008 live albums', 'Roadrunner Records albums', 'Metal Blade Records albums', 'American heavy metal singers', 'American heavy metal guitarists', 'American heavy metal drummers', 'American heavy metal bass guitarists', 'Rock operas', 'SPV/Steamhammer albums', 'Hard rock albums', '2006 live albums', '2006 video albums', 'Danish actors', 'Danish film actors', 'Danish films', 'Danish-language films', 'Norwegian actors', 'Norwegian films', 'Norwegian-language films', 'People from Bogot', 'Atltico Nacional footballers', 'Colombian footballers', 'Colombia international footballers', 'Colombian expatriate footballers', 'Amrica de Cali footballers', 'Millonarios footballers', 'Deportivo Cali footballers', 'People of the Spanish American wars of independence', 'Musicians from Wisconsin', 'British Empire', 'Laurel and Hardy (film series)', 'Path films', 'Films directed by Robert F. McGowan', 'Our Gang films', 'Films directed by Hal Roach', 'Ambient musicians', 'Thai films', 'Thai-language films', 'Singaporean people of Chinese descent', 'Singaporean people', 'Hakka people', \"Deaths from Parkinson's disease\", \"People with Parkinson's disease\", 'Gujarati people', 'Indian art films', 'Indian screenwriters', 'Hindi-language film directors', 'Indian film directors', 'Indian film producers', 'People from Mumbai', 'Indian film actors', 'Filmfare Awards winners', 'Hindi film actors', 'Indian actors', 'Indian Hindus', 'National Film Award winners', 'Hindi-language films', 'Indian Muslims', 'Bollywood playback singers', 'People from Delhi', 'Indian female models', 'University of Delhi alumni', 'Indian films', 'Indian film singers', 'Indian female singers', 'Indian film score composers', 'Indian stage actors', 'Indian male singers', 'Tamil-language films', 'Tamil film actors', 'Tamil actors', 'Tamil people', 'Tamil film directors', 'People from Chennai', 'People from Tamil Nadu', 'Indian people', '2011 films', 'Upcoming films', '2010s action films', '2000s romance films', '2010 films', '1980s Malayalam-language films', '2000s Malayalam-language films', '1990s Malayalam-language films', 'Malayali actors', 'People from Kerala', 'People from Thiruvananthapuram', 'Malayalam-language films', '2010s Malayalam-language films', 'Malayali people', 'Indian singers', 'Indian Christians', 'Indian television actors', 'Telugu people', 'Telugu cinema', 'Telugu-language films', 'Telugu actors', '1970s Malayalam-language films', 'Indian composers', 'University of Mumbai alumni', 'Marathi people', '1977 films', '1978 films', '1979 films', '1975 films', '1973 films', '1971 films', 'Bengali film actors', 'Bengali actors', 'Bengali-language films', 'Films set in Kolkata', '1970 films', '1972 films', '1974 films', 'Pakistani films', 'Urdu-language films', 'Kannada film actors', 'Kannada-language films', 'People from Bangalore', '1960s Malayalam-language films', 'Dutch film actors', 'Dutch films', 'Dutch-language films', 'Belgian films', 'Smith College alumni', 'Honorary Knights Commander of the Order of the British Empire', 'American folklorists', 'American psychiatrists', 'History of psychiatry', 'Narcissism', 'University of California, Santa Cruz alumni', 'Educational psychologists', 'Behaviorism', 'Ohio State University faculty', 'Social psychology', 'American psychologists', 'Psychologists', 'Social psychologists', 'Michigan State University faculty', 'University of California, Los Angeles faculty', 'American political scientists', 'American sociologists', 'American social sciences writers', 'Antioch College alumni', 'American anarchists', 'American activists', 'American labor unionists', 'Labor disputes in the United States', 'Industrial Workers of the World', 'American labor leaders', 'History of labor relations in the United States', 'American socialists', 'American Marxists', 'Members of the Socialist Party of America', 'Imperial Russian emigrants to the United States', 'American communists', 'Members of the Communist Party USA', 'Burials at Highgate Cemetery', 'Latin Americanists', 'Harvard Lampoon people', 'American women journalists', 'Musicians from Washington (state)', 'English darts players', 'Australian medical doctors', 'Recipients of the Medal of the Order of Australia', 'Victoria (Australia) state politicians', 'People from Victoria (Australia)', 'Companions of the Order of Australia', 'Australian National University alumni', 'Australian Jews', 'Australian people of Cornish descent', 'Australian people of Scottish descent', 'Independent politicians in Australia', 'Members of the Australian House of Representatives', 'Members of the Cabinet of Australia', 'Australian Labor Party politicians', 'Liberal Party of Australia politicians', 'Australian Roman Catholics', 'Members of the Australian Senate', 'Australian knights', 'University of New South Wales alumni', 'University of Melbourne alumni', 'People educated at Scotch College, Melbourne', 'Australian people of Irish descent', 'Members of the Order of Australia', 'Australian people of German descent', 'University of Sydney alumni', 'Members of the New South Wales Legislative Council', 'People educated at Newington College', 'Australian businesspeople', 'Members of the New South Wales Legislative Assembly', 'New South Wales Liberal politicians', 'New South Wales National politicians', 'Australian people of English descent', 'English emigrants to Australia', 'People from New South Wales', 'People from Queensland', 'Australian journalists', 'Australian academics', 'People from Brisbane', 'Season of Mist albums', '2004 EPs', 'Female heavy metal singers', 'Demo albums', 'Nuclear Blast Records albums', 'American naturalists', 'Members of the Western Australian Legislative Assembly', 'Members of the Western Australian Legislative Council', 'People from Western Australia', 'People from Perth, Western Australia', 'Russian architects', 'People from Minsk', 'History of Russia', 'Rurikids', 'Rurik Dynasty', \"Kievan Rus'\", 'Politics of Muscovy', 'Russian Orthodox Christians', 'Recipients of the Order of Saint George III Class', 'History of Ukraine', 'People from Lviv', 'Silver Crosses of the Virtuti Militari', 'Explorers of Asia', 'Recipients of the Order of Saint Andrew the First-Called', 'Russian nobility', 'Military personnel killed in action', 'Universidad de Chile players', 'Club de Deportes Santiago Wanderers players', 'Rangers de Talca footballers', 'Deportes Concepcin footballers', 'Deportes La Serena players', 'Unin Espaola footballers', 'CD Palestino players', \"Club Deportivo O'Higgins players\", 'Chilean footballers', 'Chile international footballers', 'Chilean expatriate footballers', 'Cobreloa footballers', 'Chilean Primera Divisin players', 'CSD Colo-Colo players', 'Everton de Via del Mar players', 'Chilean Primera B players', 'Audax Italiano players', 'ublense footballers', 'Universidad Catlica footballers', 'History of Chile', 'People from Santiago', 'Chilean people of Basque descent', 'Neuchtel Xamax players', 'Swiss expatriate footballers', 'Switzerland international footballers', 'Swiss footballers', 'FC Basel players', 'Swiss Super League players', 'FC Aarau players', 'Expatriate footballers in Switzerland', 'Lausanne Sports players', 'Grasshopper-Club Zrich players', 'AC Lugano players', 'FC Luzern players', 'AC Bellinzona players', 'Servette FC players', 'BSC Young Boys players', 'FC Zrich players', 'FC Sion players', 'FC St. Gallen players', 'People from Basel-Stadt', 'Icelandic footballers', 'Iceland international footballers', 'People from Reykjavk', 'People from Tacoma, Washington', 'People from Chiinu', 'Australian television personalities', 'Australian stage actors', 'Australian film actors', 'Australian comedy films', 'Australian drama films', 'Films set in Australia', 'Films shot in Australia', 'Australian films', 'Australian film producers', 'Australian film directors', 'Australian screenwriters', 'Australian comedians', 'Australian radio personalities', 'Australian television presenters', 'Australian television journalists', 'People from Sydney', 'Australian actors', 'Australian drama television series', 'Australian television actors', 'Actors from Melbourne', 'Australian people of Italian descent', 'People from Adelaide', 'Australian people of Chinese descent', 'Australian soap opera actors', 'Australian child actors', 'Australian people of Greek descent', 'Television pilots', 'Titles derived from the works of William Shakespeare', \"Children's games\", 'Kashmiri people', 'Indian women writers', 'World Series of Poker bracelet winners', 'American poker players', 'Olympic medalists in wrestling', 'American sport wrestlers', 'Olympic wrestlers of the United States', 'Artificial intelligence researchers', 'Fellows of the Association for Computing Machinery', 'Fellow Members of the IEEE', 'American computer programmers', 'Academic journal editors', 'Computer programmers', 'American computer scientists', 'Computer pioneers', 'Google employees', 'American technology writers', 'IBM employees', 'American people of Indian descent', 'Systems scientists', 'George Washington University faculty', 'Impostors', 'American librarians', 'Lecturers', 'Christian ministers', 'Charismatic and Pentecostal Christianity', 'American Pentecostals', 'Irish male singers', 'Irish female singers', 'Irish folk songs', 'American beauty pageant winners', 'People from Panama City', 'Alumni of the University of Kent', '2009 video albums', '1992 live albums', '1991 live albums', 'People from Tasmania', 'People from Geelong', 'West Perth Football Club players', 'Collingwood Football Club players', 'North Melbourne Football Club players', 'Australian rules footballers from South Australia', 'West Adelaide Football Club players', 'East Perth Football Club players', 'Subiaco Football Club players', 'Australian rules footballers from Western Australia', 'South Fremantle Football Club players', 'Swan Districts Football Club players', 'Sydney Swans players', 'Australian rules footballers from New South Wales', 'Australian rules footballers from Victoria', 'Australian Football Hall of Fame inductees', 'Brisbane Lions players', 'Essendon Football Club players', 'Melbourne Football Club players', 'West Coast Eagles players', 'Hawthorn Football Club players', 'Carlton Football Club players', 'Geelong Football Club players', 'Western Bulldogs players', 'St Kilda Football Club players', 'Richmond Football Club players', 'Northern Bullants players', 'Sportspeople from Melbourne', 'Australian rules footballers from Tasmania', 'Fitzroy Football Club players', 'Australian rules football umpires', 'Year of death missing', 'People from Leicester', 'People from Bristol', 'People from Essex', 'People from Portsmouth', 'People from Oxford', 'British sports broadcasters', 'People from Buckinghamshire', 'People from Somerset', 'People from Cambridge', 'English cricketers of 1826 to 1863', 'English cricketers of 1701 to 1786', 'English cricketers of 1787 to 1825', 'Old Malvernians', 'Scottish cricketers', 'Trinidad and Tobago cricketers', 'People from Yorkshire', 'Auckland cricketers', 'People from Lancashire', 'People from Surrey', 'Cricket historians and writers', 'Kent cricketers', 'English people of Pakistani descent', 'Alumni of Loughborough University', 'Derbyshire cricketers', 'People from Nottinghamshire', 'People from Hampshire', 'Australian cricketers', 'Middlesex cricketers', 'Commonwealth XI cricketers', 'Yorkshire cricketers', 'Lancashire cricketers', 'International Cavaliers cricketers', 'New South Wales cricketers', 'England Test cricketers', 'England One Day International cricketers', 'Wisden Cricketers of the Year', 'MCC cricketers', 'Cricket commentators', 'Worcestershire cricketers', 'Warwickshire cricketers', 'English cricket umpires', 'Nottinghamshire cricketers', 'Durham cricketers', 'Essex cricketers', 'Leicestershire cricketers', 'Cricket coaches', 'Victoria cricketers', 'Gloucestershire cricketers', 'Sussex cricketers', 'Cricket administrators', 'Northamptonshire cricketers', 'Players cricketers', 'North v South cricketers', 'Queensland cricketers', 'Somerset cricketers', 'Bedfordshire cricketers', 'Buckinghamshire cricketers', 'English wicket-keepers', 'English cricketers', 'Devon cricketers', 'Minor Counties cricketers', 'Berkshire cricketers', 'People from Devon', 'Staffordshire cricketers', 'Oxford University cricketers', 'Cambridge University cricketers', 'Welsh cricketers', 'Glamorgan cricketers', 'Irish cricketers', 'Gentlemen cricketers', 'Hampshire cricketers', 'Surrey cricketers', 'Gauteng cricketers', 'Free Foresters cricketers', 'Indian cricketers', 'People from Kent', 'People from County Durham', 'Alumni of the University of Cambridge', 'Sportspeople of multiple sports', 'People from Southampton', 'Old Millfieldians', 'People from Northampton', 'Indian footballers', 'I-League players', 'German silent film actors', 'People from Vienna', 'Austrian actors', 'Austrian films', 'Austrian film directors', 'Officers Crosses of the Order of Merit of the Federal Republic of Germany', 'German actors', 'German television actors', 'German stage actors', 'Actors from Berlin', 'German film actors', 'Films set in Berlin', 'Films set in Germany', 'German films', 'German film producers', 'German film directors', 'German screenwriters', 'West German films', 'German-language films', 'Swiss films', 'People from Munich', 'People from Dsseldorf', 'American Idol participants', 'Mute Records albums', 'Priority Records albums', 'English rock bass guitarists', 'People shot dead by law enforcement officers in the United States', 'Historic preservation', 'Catskills', 'Burials at Woodlawn Cemetery (The Bronx)', 'Cornell University faculty', 'Cornell University alumni', 'Expatriate footballers in Bulgaria', 'PFC Chernomorets Burgas players', 'PFC Botev Plovdiv players', 'PFC Beroe Stara Zagora players', 'PFC Spartak Varna players', 'PFC Lokomotiv Sofia players', 'PFC Lokomotiv Plovdiv players', 'PFC Slavia Sofia players', 'PFC Cherno More Varna players', 'Bulgarian A Professional Football Group players', 'PFC CSKA Sofia players', 'Bulgaria international footballers', 'PFC Litex Lovech players', 'Bulgarian expatriate footballers', 'PFC Levski Sofia players', 'Bulgarian footballers', 'People from Sofia', 'Rough Trade Records albums', 'African American mayors', '4AD albums', 'People from Bordeaux', \"Grand Officiers of the Lgion d'honneur\", 'French poets', 'French essayists', 'Burials at Montparnasse Cemetery', 'French journalists', 'Lyce Louis-le-Grand alumni', 'Writers from Paris', 'French literary critics', 'French historians', 'People of the Latin American wars of independence', 'Obscenity controversies', 'American pornographic film actors', 'American female adult models', 'Pornographic film actors from California', 'Female pornographic film actors', 'American pornographic film directors', 'Male pornographic film actors', 'American women in business', 'Penthouse Pets', '1996 compilation albums', 'Christmas albums by American artists', 'Concert films', '1996 live albums', 'Rockumentaries', '2005 live albums', 'Triple live albums', 'Double live albums', 'American rock keyboardists', '2010 live albums', 'Rounder Records albums', '1987 compilation albums', 'American fiddlers', 'Musicians from Virginia', 'American banjoists', 'American bluegrass musicians', 'Appalachian culture', 'Japanese female singers', 'Sire Records albums', 'Alumni of Presidency University, Kolkata', 'Indian Civil Service officers', 'Pakistani film actors', 'Recipients of the Padma Shri', 'Recipients of the Sangeet Natak Akademi Award', 'Hindustani singers', 'Recipients of the Padma Bhushan', 'Indian musicians', 'People from Lahore', 'Pakistani people', 'People from Karachi', 'Australian ornithologists', 'Wollaston Medal winners', 'English geologists', 'English scientists', 'Academics of the University of Bristol', 'French West Africa', 'American Christian missionaries', 'Christian writers', 'Christian missionaries in China', 'Christianity in China', 'Lebanese people', 'Internet memes', 'Indian politicians', 'People from Uttar Pradesh', 'People from Gujarat', 'People from Maharashtra', 'Members of Parliament from Maharashtra', 'Indian lawyers', 'Indian activists', 'Tamil Nadu politicians', 'Indian communists', 'Western (genre) novels', 'Chrysalis Records albums', 'English rock musicians', 'British audio engineers', 'American magazine publishers (people)', 'Danish handball players', 'Olympic silver medalists for South Korea', 'Olympic gold medalists for Yugoslavia', 'Sportspeople from Quebec', 'People from Baku', 'Chess International Masters', 'Chess grandmasters', 'Chess Olympiad competitors', 'American chess players', 'Jewish chess players', 'British chess players', 'Polish chess players', 'Chess problemists', 'Olympic fencers of Great Britain', 'Polish fencers', 'Olympic bronze medalists for Hungary', 'American fencers', 'Olympic fencers of the United States', 'Olympic medalists in fencing', 'French fencers', 'Olympic fencers of France', 'Female fencers', 'Olympic bronze medalists for France', 'Olympic gold medalists for Italy', 'Olympic gold medalists for France', 'Olympic silver medalists for France', 'Fencers at the 2008 Summer Olympics', 'Fencers at the 1932 Summer Olympics', 'Boxers at the 1924 Summer Olympics', 'Fencers at the 1924 Summer Olympics', 'People from Kansas City, Missouri', 'Recipients of the Air Force Cross (United Kingdom)', 'Royal Air Force air marshals', 'Royal Air Force personnel of World War I', 'Recipients of the Military Cross and Bar', 'Royal Naval Air Service aviators', 'British World War I flying aces', 'Royal Flying Corps officers', 'Recipients of the Distinguished Service Cross (United Kingdom)', 'Aviators killed in aviation accidents or incidents', 'Recipients of the Distinguished Flying Cross (United Kingdom)', 'Canadian World War I flying aces', 'Recipients of the Croix de Guerre (Belgium)', 'Recipients of the Military Cross', 'Old Stoics', 'Recipients of the Croix de Guerre (France)', 'Shot-down aviators', 'Royal Air Force airmen', 'Royal Air Force personnel of World War II', 'British World War II pilots', 'Royal Air Force officers', 'The Few', 'English aviators', 'Fellows of the Royal Aeronautical Society', \"Chevaliers of the Lgion d'honneur\", 'British prisoners of war', 'Commanders of the Legion of Merit', 'World War II prisoners of war held by Germany', 'American ballet dancers', 'Ballet choreographers', 'Ballerinas', 'Danseurs', 'Russian ballet dancers', 'British newspaper editors', '1989 live albums', 'Fictional socialites', 'People from Chesterfield', 'AIDS-related deaths in California', 'Actors in gay pornographic films', 'English female footballers', \"FA Women's Premier League players\", 'National association football cups', 'German female footballers', 'Footballers at the 2004 Summer Olympics', 'FIFA Century Club', 'Olympic medalists in football', 'Footballers at the 1996 Summer Olympics', 'Footballers at the 2008 Summer Olympics', 'Footballers at the 2000 Summer Olympics', \"2011 FIFA Women's World Cup players\", 'American female soccer players', 'Naturalised citizens of the United Kingdom', 'Venezuelan footballers', '2001 Copa Amrica players', '1999 Copa Amrica players', 'Cercle Brugge K.S.V. players', 'Royal Antwerp FC players', 'R. Charleroi S.C. players', 'K. Lierse S.K. players', 'K.R.C. Genk players', 'Belgian football managers', 'Standard Lige players', 'Belgium international footballers', 'Belgian Pro League players', 'Belgian footballers', 'Belgian expatriate footballers', 'Club Brugge K.V. players', 'K.F.C. Germinal Beerschot players', 'R.S.C. Anderlecht players', 'K.A.A. Gent players', 'KV Mechelen players', 'Expatriate footballers in Belgium', 'K.S.K. Beveren players', 'K.S.C. Lokeren Oost-Vlaanderen players', '1934 FIFA World Cup players', 'Macedonian footballers', 'Footballers at the 1952 Summer Olympics', 'Expatriate footballers in Turkey', 'Croatian football managers', 'Expatriate footballers in Croatia', 'Macedonia international footballers', 'FK Sarajevo players', 'Bosnia and Herzegovina footballers', 'FK eljezniar players', 'Bosnia and Herzegovina international footballers', 'Bosnia and Herzegovina expatriate footballers', 'Yugoslav footballers', 'Yugoslavia international footballers', 'Olympic silver medalists for Yugoslavia', 'Footballers at the 1948 Summer Olympics', 'Olympic footballers of Yugoslavia', 'Serbian football managers', 'Yugoslav football managers', 'Montenegrin expatriate footballers', 'Montenegrin footballers', 'People from Podgorica', 'FK Budunost Podgorica players', 'Expatriate footballers in Serbia', 'Serbs of Bosnia and Herzegovina', 'Serbian footballers', 'Serbian expatriate footballers', 'Serbia and Montenegro international footballers', 'Red Star Belgrade footballers', 'People from Belgrade', 'OFK Beograd players', 'Serbian SuperLiga players', 'FK Partizan players', 'FK ukariki Stankom players', 'FK Vojvodina players', 'FK Rad players', 'FK Borac aak players', 'FK Zemun players', 'FK Obili players', 'People from Novi Sad', 'Expatriate footballers in Austria', 'Expatriate footballers in Hungary', 'Expatriate footballers in Poland', 'Expatriate footballers in Slovenia', 'C.D. Nacional players', 'People from Lisbon', 'Expatriate footballers in Portugal', 'U.D. Leiria players', 'S.C. Beira-Mar players', 'G.D. Estoril-Praia players', 'C.S. Martimo players', 'Boavista F.C. players', 'S.L. Benfica footballers', 'Portuguese footballers', 'Portugal international footballers', 'Portuguese expatriate footballers', 'Portugal under-21 international footballers', 'Primeira Liga players', 'Sporting Clube de Portugal footballers', 'F.C. Porto players', 'Vitria F.C. players', 'Vitria S.C. players', 'Portuguese football managers', 'S.C. Braga players', 'Associao Acadmica de Coimbra players', 'C.F. Os Belenenses players', 'Gil Vicente F.C. players', 'F.C. Paos de Ferreira players', 'Estrela da Amadora players', 'Portimonense S.C. players', 'Greek Cypriot people', 'AEL FC players', 'Anorthosis Famagusta players', 'AC Omonia players', 'Expatriate footballers in Cyprus', 'AEK Larnaca FC players', 'Cypriot footballers', 'Cyprus international footballers', 'APOEL F.C. players', 'Olympiakos Nicosia players', 'Apollon Limassol FC players', 'Fictional extraterrestrial characters', 'Fictional soldiers', 'Fictional automobiles', 'Action figures', 'Presidents of the American Historical Association', '1992 compilation albums', '1988 compilation albums', '1989 compilation albums', 'New Zealand film actors', 'New Zealand television actors', 'Voice actors', 'Georgetown University faculty', 'People from Peoria, Illinois', 'People from Arkansas', 'University of Arkansas alumni', 'People from Little Rock, Arkansas', 'Arkansas Democrats', 'American people of French-Canadian descent', 'Fictional captains', 'Fictional kings', 'Divination', 'American skeptics', 'Conspiracy theories', 'Pseudohistory', 'Hoaxes in the United States', 'New Age writers', 'Ghosts', 'Jamaican reggae musicians', 'People from Kingston, Jamaica', 'Reggae albums', '2002 compilation albums', 'American people of Jamaican descent', 'Olympic silver medalists for Hungary', 'Year of birth missing (living people)', 'Horrorcore albums', 'Underground rappers', 'Japanese professional wrestlers', 'American female professional wrestlers', 'Canadian professional wrestlers', 'WWE Hall of Fame', 'Professional wrestling trainers', 'Professional wrestling announcers', 'American professional wrestlers', 'Professional wrestling managers and valets', 'Professional wrestling executives', 'People from Tampa, Florida', 'Brazilian practitioners of Brazilian Jiu-Jitsu', 'Mixed martial artists from California', 'American mixed martial artists', 'American practitioners of Brazilian Jiu-Jitsu', 'Heavyweight mixed martial artists', 'Sportspeople from Tokyo', 'Argentine boxers', 'British boxers', 'Winners of the United States Championship for amateur boxers', 'World boxing champions', 'World Boxing Association Champions', 'Lightweight boxers', 'Welterweight boxers', 'International Boxing Hall of Fame inductees', 'Middleweight boxers', 'American boxers', 'Heavyweight boxers', 'Olympic boxers of the United States', 'Light-heavyweight boxers', 'Super heavyweight kickboxers', 'French boxers', 'Italian boxers', 'Olympic medalists in boxing', 'Australian boxers', 'English boxers', 'People from County Laois', '1993 live albums', 'People from Beirut', 'Emory University faculty', 'African American religious leaders', 'Wesleyan University alumni', 'American religion academics', 'American university and college presidents', 'Presidents by university or college in the United States', 'Ohio Wesleyan University alumni', 'Bryn Mawr College alumni', 'Sanctuary Records albums', 'Cardiovascular disease deaths in New York', 'Livery companies', 'Converts to Roman Catholicism from Judaism', 'Canterbury scene', 'Progressive rock albums', 'Iraqi footballers', 'Italian fascists', 'People sentenced to death in absentia', 'People from Hamilton, Ontario', '1999 live albums', '1998 live albums', 'Canadian child actors', 'Actors from British Columbia', 'Gemini Award winners', 'Canadian film producers', 'Canadian television directors', 'Canadian film directors', 'Canadian screenwriters', 'Canadian drama films', 'Films shot in Montreal', 'Canadian films', 'Actors from Quebec', 'Canadian comedy films', 'Canadian television producers', 'Canadian film actors', 'Actors from Ontario', 'Canadian television actors', 'Canadian television films', 'Canadian stage actors', 'Actors from Alberta', 'Quebec films', 'Canadian documentary filmmakers', 'Canadian documentary films', 'National Film Board of Canada documentaries', '2000s documentary films', 'People from Amsterdam', 'People from Utrecht (city)', 'People from Dordrecht', 'People from Delft', 'People from Leiden', 'People from Groningen (city)', 'Dutch nobility', 'Former Roman Catholics', 'Utrecht University alumni', 'People from The Hague', 'Dutch Roman Catholics', 'Leiden University alumni', 'Dutch journalists', 'Dutch businesspeople', 'People from Nijmegen', 'Dutch Jews', 'Stamp designers', 'Rivers of the Nera-Cerna subbasin', 'Rivers of Maramure County', 'Rivers of Dmbovia County', 'Rivers of the Ialomia subbasin', 'Rivers of Prahova County', 'Rivers of Timi County', 'Rivers of Cara-Severin County', 'Rivers of the Timi-Bega subbasin', 'Rivers of Sibiu County', 'Rivers of the Olt subbasin', 'Rivers of Vlcea County', 'Rivers of Arad County', 'Rivers of Bihor County', 'Rivers of the Cri subbasin', 'Rivers of Iai County', 'Rivers of the Prut subbasin', 'Rivers of Vrancea County', 'Rivers of Gorj County', 'Rivers of the Jiu subbasin', 'Rivers of the Some subbasin', 'Rivers of Mure County', 'Rivers of Harghita County', 'Rivers of Hunedoara County', 'Rivers of Suceava County', 'Rivers of Neam County', 'Rivers of the Mure subbasin', 'Rivers of Alba County', 'Rivers of Covasna County', 'Rivers of Romania', 'Rivers of Braov County', 'Rivers of Bistria-Nsud County', 'Rivers of Slaj County', 'Rivers of Bacu County', 'Rivers of Buzu County', 'Rivers of Cluj County', 'Rivers of Arge County', 'Rivers of the Arge subbasin', 'Rivers of the Siret subbasin', 'Rivers of the Tisa-Iza-Vieu subbasin', 'People from Tallinn', 'Sturm Graz players', 'Austrian footballers', 'Austria international footballers', 'Austrian Football Bundesliga players', 'SK Rapid Wien players', 'VfB Admira Wacker Mdling players', 'FK Austria Wien players', 'FC Red Bull Salzburg players', 'LASK Linz players', 'Austrian football managers', 'Grazer AK players', 'People from Wrexham', 'Fellows of Jesus College, Oxford', 'Welsh Anglican priests', 'Alumni of Jesus College, Oxford', 'Alumni of Cardiff University', 'People from Merthyr Tydfil', 'Alumni of Aberystwyth University', 'Welsh-speaking people', 'Welsh writers', 'People from Carmarthenshire', 'Hungarian football managers', 'People from Budapest', 'Gyri ETO FC players', 'Debreceni VSC players', 'Videoton FC players', 'Vasas SC footballers', 'jpest FC players', 'Hungarian expatriate footballers', 'Budapest Honvd FC footballers', 'Ferencvros TC footballers', 'MTK Budapest FC players', 'Hungarian footballers', 'Hungary international footballers', 'Order of the Crown (Belgium) recipients', 'Improvisational theatre', 'Advertising people', 'American business writers', 'New York University faculty', 'Academics', 'American bankers', 'Companies based in New York City', 'Late-2000s financial crisis', 'American philanthropists', 'American finance and investment writers', 'American financial businesspeople', 'Financial analysts', 'American money managers', 'American investors', 'American financiers', 'Companies based in London', 'Columbia Business School alumni', 'Private equity and venture capital investors', 'American billionaires', 'Stanford Graduate School of Business alumni', 'American chief executives', 'Harvard Business School alumni', 'Wharton School alumni', 'McKinsey & Company people', 'American computer businesspeople', 'Venture capitalists', 'Who Wants to Be a Millionaire?', 'American historical novelists', 'Historical novels', 'American romantic fiction writers', 'Alumni of the University of Leicester', 'American thriller writers', 'American crime fiction writers', 'American mystery writers', 'Edgar Award winners', 'Crime novels', 'Mystery novels', 'Novels adapted into films', 'British novels', 'Novels first published in serial form', 'Works published under a pseudonym', 'Single-author short story collections', 'English fantasy writers', 'American horror writers', 'Novellas', 'Science fiction artists', 'English science fiction writers', \"Clarion Writers' Workshop\", 'American science fiction writers', 'Science fiction editors', 'Nebula Award winning authors', 'Science fiction critics', 'Science fiction fans', 'American fantasy writers', 'Women science fiction and fantasy writers', 'American science fiction novels', 'Literary collaborations', 'American short story collections', 'People from New Rochelle, New York', 'University of Michigan faculty', 'Johns Hopkins University alumni', 'Syracuse University alumni', 'Writers from Minnesota', 'African American female writers', 'African American academics', 'Writers from Kentucky', 'University of California alumni', 'University of California, Davis alumni', 'Arizona State University faculty', 'American humorists', 'Brooklyn College alumni', 'Hunter College alumni', 'Hunter College faculty', 'FrenchEnglish translators', 'University of California, Berkeley alumni', 'Stanford University alumni', 'Stanford University faculty', 'University of California, Irvine faculty', 'University of Virginia faculty', 'Fulbright Scholars', 'American book editors', \"Alumni of women's universities and colleges\", 'Rutgers University faculty', 'Brandeis University faculty', 'Brown University faculty', 'American historians', 'National Humanities Medal recipients', 'Brandeis University alumni', 'Swarthmore College alumni', 'American travel writers', 'American tax resisters', 'American novels adapted into films', 'Writers from Iowa', 'Writers from Connecticut', 'American biographers', 'Oberlin College alumni', 'University at Buffalo alumni', 'Wesleyan University faculty', 'Columbia University faculty', 'American autobiographers', 'Writers from North Carolina', 'Writers from Florida', 'Writers from Pennsylvania', 'American publishers', 'Writers from Illinois', 'Writers from Ohio', 'The New School faculty', 'Writers from Oregon', 'Writers from New Jersey', 'Writers from Virginia', 'Writers from Michigan', 'Barnard College alumni', 'University of Iowa alumni', 'American academics', 'American academics of English literature', 'Writers who committed suicide', 'Jewish poets', 'Writers from New York City', 'Writers from California', 'American women writers', 'Writers from Missouri', 'Bisexual writers', 'Writers from Massachusetts', 'American translators', 'American literary critics', 'Nobel laureates in Literature', 'Postmodern writers', 'American essayists', 'American short story writers', 'Members of the American Academy of Arts and Letters', 'American novelists', 'University of Iowa faculty', 'American poets', 'Guggenheim Fellows', \"Iowa Writers' Workshop alumni\", 'Writers from New York', 'MacArthur Fellows', 'Jewish American novelists', 'The New Yorker people', 'Writers from Chicago, Illinois', 'American memoirists', 'Columbia University alumni', 'American satirists', 'American writers of Irish descent', 'Jewish American writers', 'African American poets', 'African American writers', 'American writers', '20th-century novelists', 'American book publishers (people)', 'University of Massachusetts Amherst faculty', 'Writers from Maryland', 'American expatriates in France', 'Boston University faculty', 'Writers from Georgia (U.S. state)', 'American magazine editors', 'Writers from Washington, D.C.', 'American novels', 'Writers from Pittsburgh, Pennsylvania', 'Harvard University people', 'People from New Jersey', 'Kenyon College alumni', 'Washington University in St. Louis faculty', 'Johns Hopkins University faculty', 'Sarah Lawrence College alumni', 'Writers from Wisconsin', 'San Francisco State University alumni', 'University of Arizona faculty', 'Vanderbilt University alumni', 'Writers from Texas', 'American editors', 'American non-fiction writers', 'American publishers (people)', 'Syracuse University faculty', 'Novels set in New York City', 'Alumni of Girton College, Cambridge', 'English women writers', 'English journalists', 'English travel writers', 'English socialists', 'British non-fiction writers', 'English non-fiction writers', 'British writers', 'Book publishing companies of the United Kingdom', 'English memoirists', 'English biographers', 'English novelists', 'Fellows of the Royal Society of Literature', 'Women poets', 'Roman Catholic writers', 'Converts to Roman Catholicism from atheism or agnosticism', 'British novelists', 'English poets', 'English essayists', 'Adultery in fiction', 'British biographers', 'People from Plymouth', 'English writers', 'English diarists', 'Infectious disease deaths in England', 'Women dramatists and playwrights', '19th-century women writers', 'Epistolary novels', 'Radcliffe College alumni', 'Alumni of the University of East Anglia', 'British poets', 'Academics of the University of East Anglia', 'Alumni of Newcastle University', 'Spanish novelists', 'Spanish poets', \"Christ's Hospital Old Blues\", 'English novels', 'People from Havana', 'Bengali people', 'People from Kolkata', 'University of Calcutta alumni', 'University of Calcutta faculty', 'History of Bangladesh', 'Rivers of the subbasins of small tributaries of the Danube', 'Murdered African-American people', 'Rothschild family', 'English people convicted of murder', 'People convicted of murder by England and Wales', 'English criminals', 'English lawyers', 'Serjeants-at-law', 'Justices of the Common Pleas', 'Tobacco', 'Dartmouth College faculty', 'Ethnomusicologists', 'People from Wisconsin', 'People from Illinois', 'People from North Carolina', 'People from Virginia', 'People from Exeter', 'People associated with the British East India Company', 'Administrators in British India', 'Horticulturists and gardeners', 'People from Riverside, California', 'Discoveries by Freimut Brngen', 'German astronomers', '19th-century astronomers', 'French astronomers', 'Main Belt asteroids', 'Asteroids named for people', 'Discoveries by Schelte J. Bus', 'Asteroids named from Greek mythology', 'C-type asteroids', 'S-type asteroids', 'Discoveries by Max Wolf', 'Asteroids named for places', 'Comets', 'Comet discoverers', 'Mars-crosser asteroids', 'Apollo asteroids', 'Discoveries by Karl Wilhelm Reinmuth', 'Planetary scientists', 'Discoveries by Edward Bowell', 'Discoveries by Tom Gehrels', 'Discoveries by Cornelis Johannes van Houten', 'Discoveries by Ingrid van Houten-Groeneveld', 'Discoveries by Carolyn S. Shoemaker', 'Discoveries by Nikolai Chernykh', 'Asteroid discoverers', 'Italian astronomers', '20th-century astronomers', 'American designers', 'Landscape design history', 'American landscape architects', 'English gardeners', 'People from Auckland', 'New Zealand people of Irish descent', 'People from Wellington City', 'New Zealand Mori people', 'People from Christchurch', 'People from Dunedin', 'University of Otago alumni', 'Victoria University of Wellington alumni', 'University of Canterbury alumni', 'New Zealand women in politics', 'Members of the Cabinet of New Zealand', 'New Zealand list MPs', 'New Zealand Labour Party MPs', 'New Zealand National Party MPs', 'University of Auckland alumni', 'New Zealand farmers', 'New Zealand people of English descent', 'Members of the New Zealand House of Representatives', 'New Zealand writers', 'New Zealand films', 'New Zealand association footballers', 'New Zealand international footballers', '1950 FIFA World Cup players', 'Montevideo Wanderers F.C. players', 'Defensor Sporting Club players', 'River Plate Montevideo players', 'C.A. Pearol players', 'Uruguayan expatriate footballers', 'Club Nacional de Football players', 'Uruguayan footballers', 'Uruguay international footballers', 'Expatriate footballers in Argentina', 'Danubio F.C. players', 'People from Montevideo', 'Footballers at the 1924 Summer Olympics', 'Footballers at the 1928 Summer Olympics', 'Footballers at the 1920 Summer Olympics', 'Estonian footballers', 'Estonia international footballers', 'American people of Ukrainian-Jewish descent', 'Council on Foreign Relations', 'British diplomats', 'United States Assistant Secretaries of State', 'Presidents of the United Nations Security Council', 'Heads of Missions of the United Kingdom', 'Russian diplomats', 'Ambassadors of the United States', 'United States Department of State officials', 'Diplomatic peers', 'Female diplomats', 'Knights Grand Cross of the Order of St Michael and St George', 'Ambassadors to the United States', 'Edmund A. Walsh School of Foreign Service alumni', 'Pomona College alumni', 'The Guardian journalists', 'People from Essen', 'East German footballers', 'East Germany international footballers', 'Dynamo Dresden players', '1974 FIFA World Cup players', 'Footballers at the 1972 Summer Olympics', 'FC Carl Zeiss Jena players', 'Sportspeople from Berlin', 'Tennis Borussia Berlin players', 'Rot-Wei Oberhausen players', 'Rot Weiss Ahlen players', 'Stuttgarter Kickers players', 'SV Waldhof Mannheim players', 'Eintracht Braunschweig players', 'FC Hansa Rostock players', 'VfL Osnabrck players', '1. FC Saarbrcken players', 'SpVgg Unterhaching footballers', '1. FC Union Berlin players', 'KFC Uerdingen players', 'FC Energie Cottbus players', 'Fortuna Dsseldorf players', 'Rot-Weiss Essen players', 'Alemannia Aachen players', 'FC Augsburg players', 'FC St. Pauli players', 'Hamburger SV players', 'MSV Duisburg players', 'FC Schalke 04 players', 'VfB Stuttgart players', 'VfB Stuttgart II players', 'Bayer 04 Leverkusen players', 'Fuball-Bundesliga managers', 'German footballers', 'Germany international footballers', 'Germany under-21 international footballers', 'Fuball-Bundesliga players', 'Germany B international footballers', 'German football managers', 'German expatriate footballers', '1. FC Kln players', 'SV Werder Bremen players', 'FC Bayern Munich II players', 'FC Bayern Munich players', 'VfL Bochum players', 'Borussia Mnchengladbach players', '1. FSV Mainz 05 players', 'Hannover 96 players', 'Karlsruher SC players', 'SpVgg Greuther Frth players', 'Arminia Bielefeld players', 'Werder Bremen II players', 'Borussia Dortmund players', '1. FC Nuremberg players', 'Hertha BSC players', '1. FC Kaiserslautern players', 'SC Freiburg players', 'VfL Wolfsburg players', 'TSV 1860 Mnchen players', 'Expatriate footballers in Germany', 'FC Erzgebirge Aue players', 'German people of Polish descent', 'Eintracht Frankfurt players', 'Kickers Offenbach players', 'People from Ljubljana', 'University of Vienna alumni', 'People from Trieste', 'Italian Jews', 'People from Padua', 'People from Milan', 'People from Rome (city)', 'Italian drama films', '1950 films', 'Films set in Italy', 'Italian film actors', 'Italian actors', '1965 films', 'Italian films', 'Italian-language films', '1960s adventure films', 'People from Naples', 'Italian horror films', 'Italian film directors', 'Italian screenwriters', 'Reality television participants', 'Italian-language singers', '1952 films', 'Native American history', 'Native American writers', 'American people of Cherokee descent', 'Actors from Maryland', 'Middle East peace efforts', 'Inventors', 'Howard University alumni', 'Grand Prix drivers', 'British Touring Car Championship drivers', 'International Motorsports Hall of Fame inductees', 'American racecar drivers', 'Trans-Am drivers', 'Le Mans Series drivers', '24 Hours of Daytona drivers', 'English racecar drivers', '24 Hours of Le Mans drivers', 'Indianapolis 500 drivers', 'Atlantic Championship drivers', 'Indy Lights drivers', 'Canadian racecar drivers', 'Sportspeople from California', 'NASCAR owners', 'Motorsport announcers', '125cc World Championship riders', '250cc World Championship riders', 'Automotive pioneers', 'Vehicle modification', '350cc World Championship riders', '500cc World Championship riders', 'Isle of Man TT Riders', 'Indian scientists', 'American military writers', 'Military physicians', 'American military personnel of the Gulf War', 'American military personnel of the Iraq War', 'Recipients of the Bronze Star Medal', 'Recipients of the Combat Infantryman Badge', 'Recipients of the Ranger tab', 'African-American military personnel', 'Futurologists', 'United States Marines', 'United States Marine Corps officers', 'Marine Corps Medal of Honor recipients', 'Recipients of the Vietnamese Cross of Gallantry', 'Recipients of the Purple Heart medal', 'United States Marine Corps generals', 'NASA personnel', 'American aerospace engineers', 'Eagle Scouts', 'American astronauts', 'Purdue University alumni', 'Accidental deaths from falls', 'Parachuting', '2009 television films', 'Belarus international footballers', 'Belarusian footballers', 'FC Dinamo Minsk players', 'Conspiracy theorists', 'Rivers of Olt County', 'People from Evanston, Illinois', 'Disney people', 'Azerbaijani footballers', 'Expatriate footballers in Azerbaijan', 'People from Indianapolis, Indiana', 'Sportspeople from Philadelphia, Pennsylvania', 'Villanova University alumni', 'Canadian basketball players', 'Sportspeople from Brooklyn', 'Basketball players at the 1988 Summer Olympics', 'Olympic medalists in basketball', 'Philadelphia 76ers draft picks', 'National Basketball Association broadcasters', 'San Antonio Spurs players', 'Olympic basketball players of the United States', 'Small forwards', 'Shooting guards', 'Point guards', 'National Basketball Association players with retired numbers', \"United States men's national basketball team members\", \"Parade High School All-Americans (boys' basketball)\", 'African American basketball players', 'Miami Heat players', 'Power forwards (basketball)', 'Boston Celtics players', 'American basketball players', 'Centers (basketball)', 'Basketball players from New York', 'Milwaukee Bucks players', 'Dallas Mavericks players', 'New Jersey Nets players', 'Philadelphia 76ers players', 'Cleveland Cavaliers players', 'Phoenix Suns players', 'New York Knicks players', 'Los Angeles Clippers players', 'Basketball players from California', 'Chicago Bulls players', 'Detroit Pistons players', 'Los Angeles Lakers players', 'Sacramento Kings players', \"Junior college men's basketball players in the United States\", 'Charlotte Hornets players', 'Naismith Memorial Basketball Hall of Fame inductees', 'National Collegiate Basketball Hall of Fame inductees', 'National Basketball Association head coaches', 'Golden State Warriors players', 'Boston Celtics draft picks', 'Basketball players from Michigan', 'Phoenix Suns draft picks', \"North Carolina Tar Heels men's basketball players\", 'Undrafted National Basketball Association players', 'Basketball players from Texas', 'Detroit Pistons draft picks', 'American basketball coaches', 'Milwaukee Bucks draft picks', 'National Basketball Association executives', 'Basketball players from Illinois', 'Basketball players from Pennsylvania', 'Seattle SuperSonics draft picks', 'Basketball players from North Carolina', 'Sportspeople from Los Angeles, California', \"Kentucky Wildcats men's basketball players\", 'Basketball players from New Jersey', 'Basketball players from Indiana', \"College men's basketball head coaches in the United States\", \"UCLA Bruins men's basketball players\", \"Kansas Jayhawks men's basketball players\", 'College basketball announcers in the United States', 'High school basketball coaches in the United States', \"College men's basketball players in the United States\", \"Amateur Athletic Union men's basketball players\", 'Sportspeople from Detroit, Michigan', 'Sportspeople from Queens', 'People from Fife', 'Members of the Scottish Parliament 19992003', 'History of Scotland', 'Baronets in the Baronetage of Nova Scotia', 'People from Inverness', 'People from Glasgow', 'People from Dumfries and Galloway', 'Scottish Presbyterians', 'People from Aberdeenshire', 'Scottish knights', 'People from Argyll and Bute', '16th-century Scottish people', 'Earls in the Peerage of Scotland', 'Alumni of the University of St Andrews', 'People from East Lothian', 'House of Stuart', 'House of Douglas and Angus', 'Scottish soldiers', 'People from Perth and Kinross', 'Scottish journalists', 'Alumni of the University of Glasgow', 'Scottish politicians', 'Scottish lawyers', 'Scottish judges', 'Members of the Faculty of Advocates', 'Scottish businesspeople', 'Academics of the University of Edinburgh', 'Fellows of the Royal Society of Edinburgh', '19th-century Scottish people', '18th-century Scottish people', 'People educated at the Royal High School, Edinburgh', 'People from Edinburgh', 'Scottish medical doctors', 'Alumni of the University of Edinburgh', 'Scottish scholars and academics', 'Academics of the University of St Andrews', 'Scottish historians', 'Alumni of the University of Aberdeen', 'Scottish novelists', 'Scottish writers', 'Scottish Gaelic-speaking people', 'Scottish non-fiction writers', 'Scottish Roman Catholics', 'Cistercians', 'Idol series judges', 'American businesspeople in retailing', 'Irish Roman Catholic priests', 'Musicians from Manchester', 'People from Brescia', 'People from Verona', 'Alumni of the University of Reading', 'Alumni of Goldsmiths, University of London', 'British artists', 'Canadian women artists', 'Canadian painters', 'Canadian photographers', 'Rome Prize winners', 'American alumni of the cole des Beaux-Arts', \"Officiers of the Lgion d'honneur\", 'Dutch painters', 'People from Haarlem', 'French engravers', 'English engravers', 'People from Genoa (city)', 'People from Antwerp', 'People from Bologna', 'Burials at Pre Lachaise Cemetery', 'Pratt Institute alumni', 'Artists from Paris', 'California Institute of the Arts alumni', 'Alumni of the Slade School of Art', 'Spanish painters', 'War artists', 'Royal Academicians', 'English painters', 'English illustrators', 'Portrait artists', 'English sculptors', 'French sculptors', 'Members of the Acadmie des beaux-arts', 'Feminist artists', 'Art curators', 'English artists', 'Contemporary sculptors', '20th-century sculptors', '21st-century sculptors', 'Alumni of the Royal College of Art', 'American art historians', 'American art critics', 'Postmodern artists', 'Contemporary artists', 'Installation artists', 'Video artists', 'American performance artists', 'American curators', 'French painters', 'Jewish painters', 'Artists from California', 'Alumni of the Acadmie Julian', 'American muralists', 'African American artists', 'School of the Art Institute of Chicago alumni', 'Women painters', 'Surrealist artists', 'Works Progress Administration workers', 'Modernism', 'American women artists', 'American sculptors', 'Modern sculptors', 'Art Students League of New York alumni', 'Archives of American Art related', 'American artists', 'American painters', 'Artists from New York', 'Modern painters', 'American art collectors', 'Culture of New York City', 'LGBT artists from the United States', 'Gay artists', 'Academy of Fine Arts, Munich alumni', 'Landscape artists', 'Animal artists', 'People from Florence', 'Italian sculptors', 'Florida State University faculty', 'Films directed by Michael Curtiz', 'Hungarian films', 'Hungarian-language films', 'Hungarian film actors', 'Discoveries by Seiji Ueda', 'Discoveries by Hiroshi Kaneda', 'Discoveries by Eric Walter Elst', 'German-language singers', 'Victims of aviation accidents or incidents in the United States', 'Aviators killed in aviation accidents or incidents in the United States', 'Viral videos', 'Web series', 'American podcasters', 'American Internet personalities', 'Syrian footballers', 'English drummers', 'English bass guitarists', 'Television films', 'English mountain climbers', 'American mountain climbers', 'Soccer people from Ontario', 'Black Canadian sportspeople', 'Canadian soccer players', 'University of California, Santa Barbara alumni', 'Minnesota Thunder players', 'Expatriate soccer players in Canada', 'Portland Timbers (USL) players', 'USL First Division players', 'Richmond Kickers players', 'Charleston Battery players', 'USL Premier Development League players', 'USISL players', 'Expatriate soccer players in the United States', 'Real Salt Lake players', 'FC Dallas players', 'Kansas City Wizards players', 'Chivas USA players', 'New England Revolution players', 'American expatriate soccer players', 'Toronto FC players', 'Major League Soccer players', 'New York Red Bulls players', 'Chicago Fire players', 'Columbus Crew players', 'San Jose Earthquakes players', 'D.C. United players', 'Colorado Rapids players', 'American soccer players', 'Los Angeles Galaxy players', 'Soccer players from California', 'MetroStars players', 'Olympic soccer players of the United States', 'Major Indoor Soccer League (20012008) players', '2002 CONCACAF Gold Cup players', '2003 CONCACAF Gold Cup players', '2007 CONCACAF Gold Cup players', '2011 CONCACAF Gold Cup players', '2009 CONCACAF Gold Cup players', '2005 CONCACAF Gold Cup players', 'Canadian expatriate soccer people in the United States', 'Canadian expatriate soccer players', 'Hispanic and Latino American people', 'National Professional Soccer League (19842001) players', 'Continental Indoor Soccer League players', 'American Indoor Soccer Association players', 'American Professional Soccer League players', 'Western Soccer Alliance players', 'Association football commentators', \"United States men's international soccer players\", 'American soccer coaches', 'Footballers at the 1988 Summer Olympics', 'Naturalized citizens of Canada', \"Canadian men's international soccer players\", 'Soccer people from British Columbia', 'North American Soccer League coaches', 'American Soccer League (19331983) players', 'Saint Louis University alumni', 'North American Soccer League players', 'NASL indoor players', 'New York Cosmos players', 'Major Indoor Soccer League (19781992) players', 'Footballers at the 1984 Summer Olympics', 'Rowers at the 1952 Summer Olympics', 'Olympic bronze medalists for Italy', 'Olympic bronze medalists for Germany', 'Rowers at the 1980 Summer Olympics', 'Rowers at the 1984 Summer Olympics', 'Australian rowers', 'Rowers at the 1956 Summer Olympics', 'American rowers', 'Olympic rowers of the United States', 'Olympic rowers of Germany', 'German rowers', 'Coxes', 'Olympic medalists in rowing', 'Rowers at the 1912 Summer Olympics', 'New Zealand rowers', 'British rowers', 'Olympic rowers of Great Britain', 'Olympic silver medalists for Great Britain', 'Athletes (track and field) at the 1908 Summer Olympics', 'British athletes', 'American high jumpers', 'Athletes (track and field) at the 1912 Summer Olympics', 'Athletes (track and field) at the 1904 Summer Olympics', 'Athletes (track and field) at the 1900 Summer Olympics', '19th-century players of American football', 'Princeton Tigers football players', '1880s births', 'Judoka at the 2008 Summer Olympics', 'Olympic medalists in judo', 'Asian Games medalists in judo', 'Japanese judoka', 'Indian judges', 'Indian academics', '2002 live albums', 'Troma Entertainment films', 'Hong Kong actors', 'Hong Kong film actors', 'Hong Kong film directors', 'Hong Kong films', 'Cantonese-language films', 'Films set in Hong Kong', 'TVB actors', 'Canadian people of Chinese descent', 'American actors of Chinese descent', 'Action comedy films', 'Hong Kong action films', 'Martial arts films', '1970s action films', 'Kung fu films', 'Shaw Brothers Studio films', 'Wuxia films', 'American actors of Asian descent', 'English pianists', 'American manufacturing businesspeople', 'Tribute albums', 'Jazz fusion albums', 'American jazz musicians', 'Prestige Records albums', 'University of North Texas alumni', 'American jazz trombonists', 'American jazz singers', 'American music arrangers', 'Musicians from Philadelphia, Pennsylvania', 'Berklee College of Music alumni', 'Women in jazz', 'American jazz tenor saxophonists', 'American jazz saxophonists', 'American jazz trumpeters', 'American jazz drummers', 'Muse Records artists', 'Blue Note Records artists', 'Savoy Records artists', 'American jazz composers', 'American jazz pianists', 'Verve Records artists', 'American jazz double-bassists', 'American jazz guitarists', 'Impulse! Records albums', 'Albums produced by Bob Thiele', 'Jazz bandleaders', 'American jazz bandleaders', 'American jazz clarinetists', 'Musicians from New York', 'Musicians from Chicago, Illinois', 'Jazz saxophonists', 'ECM artists', 'African American musicians', 'Musicians from Pittsburgh, Pennsylvania', 'Albums produced by Alfred Lion', 'Albums recorded at Van Gelder Studio', 'Blue Note Records albums', 'Musicians from Ohio', 'American saxophonists', 'Musicians from New Jersey', 'American people of Sicilian descent', 'Musicians from Houston, Texas', 'Musicians from Pennsylvania', 'Musicians from Massachusetts', 'American trumpeters', 'English-language live albums', 'United States National Recording Registry recordings', 'Reprise Records albums', 'Jewish American musicians', 'Songwriters Hall of Fame inductees', 'Best Song Academy Award winning songwriters', 'Songwriters from New York', 'English-language albums', 'Traditional pop music singers', 'Verve Records albums', 'Albums produced by Norman Granz', 'American lyricists', 'Capitol Records albums', 'Columbia Records albums', 'Box set albums', 'RCA Victor artists', 'Decca Records artists', 'Collaborative albums', 'American bandleaders', 'Jazz musicians from New Orleans, Louisiana', 'Musicians from New Orleans, Louisiana', 'Grammy Lifetime Achievement Award winners', 'Grammy Hall of Fame Award recipients', 'United Artists Records albums', 'Vocalion Records artists', 'Musicians from Illinois', 'Instrumental albums', 'RCA Victor albums', 'American vocal groups', 'Apex Records artists', 'People from Toulouse', 'French-language singers', 'French female singers', 'French musicians', 'Deaths by drowning', 'People lost at sea', 'Radio and television announcers', 'Old Bristolians', 'Scottish television presenters', 'English Christians', 'English people of Scottish descent', 'British people of Irish descent', 'English people of Irish descent', 'English dramatists and playwrights', 'BBC people', 'British television presenters', 'Alumni of the University of Bristol', 'BBC television documentaries', 'English Jews', 'English people of Welsh descent', 'People with bipolar disorder', 'English people of Indian descent', 'Alumni of the University of Manchester', 'British television films', 'LGBT people from England', 'English people of German descent', 'British screenwriters', 'Alumni of the Royal Academy of Dramatic Art', 'English screenwriters', 'People from London', 'English voice actors', 'English television actors', 'English stage actors', 'English film actors', 'English actors', 'Cancer deaths in England', 'British television actors', 'Welsh television actors', 'Welsh film actors', 'Scottish film actors', '1970s British television series', 'Actors from London', 'BBC television dramas', 'Period television series', 'ITV sitcoms', 'Scottish television actors', 'Masterpiece Theatre', 'British television miniseries', 'English people of Italian descent', 'Alumni of Manchester Metropolitan University', 'Actors from Manchester', 'English television directors', 'British comedians', 'English television writers', 'English comedians', 'English television producers', 'BBC radio comedy programmes', 'LGBT comedians', 'English atheists', 'BBC executives', 'British actors', 'British soap opera actors', 'Black British actors', 'English child actors', 'English soap opera actors', 'Alumni of Middlesex University', 'Television programs based on novels', 'English vegetarians', '2000 television series debuts', 'LGBT television personalities', 'Reality show winners', 'Participants in British reality television series', '2006 in British television', 'ITV television programmes', \"I'm a CelebrityGet Me out of Here! contestants\", 'Channel 4 television programmes', 'English television personalities', '1990s British television series', 'BBC television programmes', '2000s British television series', 'English television presenters', '2004 in British television', '2005 in British television', 'Dancing on Ice participants', 'Gay actors', 'Audio book narrators', 'Alumni of the London Academy of Music and Dramatic Art', 'British theatre directors', 'Olivier Award winners', 'Royal Shakespeare Company members', 'Royal National Theatre Company members', 'Shakespearean actors', 'English theatre directors', 'British stage actors', 'Scottish stage actors', 'British dramatists and playwrights', 'Alumni of the Central School of Speech and Drama', 'English radio actors', 'English musical theatre actors', 'BBC radio programmes', 'English radio personalities', 'Strictly Come Dancing participants', 'Scottish actors', 'People from Stockport', 'British television directors', 'British television producers', 'British television writers', 'War films', '1969 films', '1966 films', 'British films', 'British film producers', 'Disease-related deaths in England', 'British film directors', 'Music hall performers', 'Thriller films', '1963 films', 'Spy films', '1950s drama films', 'British crime films', 'English film producers', 'British thriller films', '1957 films', '1950s comedy films', '1956 films', '1954 films', 'British comedy films', '1958 films', '1960s crime films', 'War films based on actual events', '1961 films', '1960s comedy films', '1950s crime films', '1948 films', '1949 films', '1960 films', '1967 films', 'English film score composers', '1953 films', '1962 films', '1959 films', 'British horror films', '1970s horror films', '1960s horror films', 'British science fiction films', '1964 films', '1955 films', '1947 films', '1950s adventure films', '1940s drama films', 'World War II films made in wartime', '1950s horror films', 'British film actors', 'Musical comedy films', '1937 films', 'English silent film actors', 'British silent films', '1930s comedy films', 'Musical films', '1935 films', '1934 films', '1930s crime films', 'Romance films', 'French documentary films', 'Polish film actors', 'Polish-language films', 'Polish films', 'Fellows of University College, Oxford', 'Lifetime (TV network) films', 'American criminals', 'FBI agents', '1950s Western films', 'Spencer-Churchill family', 'French people of Russian descent', 'French film directors', 'French screenwriters', 'Cancer deaths in France', 'French film producers', 'French stage actors', 'French actors', 'French television actors', 'Actors from Paris', 'French films', 'French comedy films', 'French drama films', 'French-language films', 'Finnish actors', 'South African films', 'Michigan State University alumni', 'Western (genre) writers', 'Fantasy films', 'Lists of films by country of production', 'Fiction with unreliable narrators', '2010s thriller films', '2006 films', '2005 films', '1999 films', '1993 films', '2002 films', '2001 films', '2003 films', '1989 films', '1991 films', '1986 films', '2008 films', '2007 films', '2009 films', '2004 films', '1976 films', '1983 films', '1981 films', '1970s drama films', '1982 films', '1980 films', '1968 films', '1980s adventure films', 'Gambling films', 'Boxing films', 'Film theorists', 'Writers Guild of America Award winners', 'Haunted house films', 'Canadian horror films', 'Werewolves in film and television', 'Anthology films', '1990s adventure films', 'Action thriller films', '1980s action films', 'American film score composers', 'Films about orphans', 'Avant-garde and experimental films', 'Satirical films', 'French thriller films', 'European Film Awards winners (people)', 'Csar Award winners', 'Films set in Paris', 'Films set in France', 'War drama films', 'Mystery films', 'World War II films', 'British drama films', 'Criminal comedy films', '1970s comedy films', '1960s drama films', 'Sex comedy films', 'Films based on horror novels', 'Holocaust films', 'Films shot in Oregon', 'Docudramas', 'Baseball films', 'Films set in the 19th century', 'Films shot in CinemaScope', 'Crime drama films', 'Film noir', '1950s romantic comedy films', '1950s musical films', '1940s romantic comedy films', 'Aviation films', 'RKO Pictures films', 'United States Marine Corps in media', 'University of California, Los Angeles alumni', 'Films based on science fiction novels', 'English film directors', 'Rail transport films', 'Films shot in New Orleans, Louisiana', 'Films about educators', '2000s comedy-drama films', 'Lions Gate Entertainment films', 'Films with a capital punishment theme', '2000s crime films', 'Films set in the future', '1994 films', '1990 films', '1984 films', '1990s crime films', 'Coming-of-age films', '1987 films', 'New York University alumni', '1990s horror films', '1990s science fiction films', 'Female film directors', 'LGBT directors', 'Films about music and musicians', 'Vigilante films', 'Post-apocalyptic films', 'Space adventure films', 'Films with live action and animation', 'Disney films', 'Films featuring anthropomorphic characters', 'American animated films', \"Children's fantasy films\", 'Films based on television series', \"Films based on children's books\", 'Comedy science fiction films', 'English expatriates in the United States', 'Political thriller films', 'Films set in New Jersey', 'Films based on thriller novels', 'Police detective films', 'Crime thriller films', '1990s action films', '1992 films', 'Sony Pictures Classics films', 'Gangster films', 'Fantasy-comedy films', 'Films based on non-fiction books', '1990s comedy-drama films', 'American action films', '2010s 3-D films', 'BAFTA Awards', 'Films shot in North Carolina', 'University of Southern California alumni', 'Films set in England', 'Films set in London', 'Films set in Massachusetts', 'American comedy films', '1998 films', '1995 films', '1996 films', 'Films shot in New Mexico', 'Canadian expatriate actors in the United States', 'Films shot in Toronto', 'Computer-animated films', 'Films set in Texas', 'Independent films', 'Films based on biographies', 'American biographical films', 'Films set in the 1920s', 'Films set in the 1970s', 'Films set in the 1960s', 'Films set in the 1980s', 'Films set in the 1950s', 'Biographical films', 'American science fiction films', 'Dystopian films', 'American science fiction action films', '2000s science fiction films', 'Road movies', 'Drug-related films', 'Buddy films', '2000s action films', 'American romantic comedy films', '1980s drama films', '1980s comedy films', 'American crime thriller films', 'TriStar Pictures films', 'American crime drama films', 'American independent films', '1997 films', 'American action thriller films', '2000 films', '2000s comedy films', 'Heist films', 'American criminal comedy films', 'New Line Cinema films', '2000s thriller films', '2000s romantic comedy films', 'Films shot in New Jersey', 'Films shot in New York', 'Films shot in Arizona', '1990s romantic comedy films', 'American LGBT-related films', 'Touchstone Pictures films', '1990s comedy films', 'Films set in the 1930s', 'Films shot in California', 'American people of Italian descent', 'United Artists films', 'Psychological thriller films', 'Columbia Pictures films', 'Naturalized citizens of the United States', 'Films set in California', 'American comedy-drama films', 'American romantic drama films', 'Films set in Washington, D.C.', 'Warner Bros. films', 'Paramount Pictures films', 'Kennedy Center honorees', 'Epic films', 'United States National Film Registry films', 'Academy Honorary Award recipients', '21st-century actors', 'BAFTA winners (people)', 'American film directors', 'American film producers', 'American screenwriters', 'Films whose art director won the Best Art Direction Academy Award', 'Films whose cinematographer won the Best Cinematography Academy Award', 'Best Original Music Score Academy Award winners', 'Films set in New York City', 'Outstanding Performance by a Cast in a Motion Picture Screen Actors Guild Award winners', 'Films shot anamorphically', 'Films based on novels', '20th Century Fox films', 'English-language films', 'Films set in the 1940s', '1990s drama films', 'Films based on actual events', 'Films shot in New York City', 'Miramax Films films', 'Independent Spirit Award winners', 'Films set in Los Angeles, California', 'Directorial debut films', 'American films', 'Universal Pictures films', 'American drama films', '2000s drama films', 'English-language film directors', 'Films based on short fiction', 'American action comedy films', 'Films set in San Francisco, California', 'Nonlinear narrative films', 'Neo-noir', '1990s thriller films', 'Race-related films', 'Films about writers', 'American thriller films', 'Sequel films', 'Filmographies', 'Films about actors', 'American satirical films', 'American black comedy films', 'Films shot in Vancouver', 'Films shot in Los Angeles, California', 'Edgar Award winning works', 'Films set within one day', 'American mystery films', 'American musical drama films', 'American horror films', 'Serial killer films', 'American people of Jewish descent', 'DreamWorks films', 'American fantasy-comedy films', 'American coming-of-age films', 'Film remakes', 'Films shot digitally', 'Relativity Media films', 'Films set in the 1900s', 'American musical comedy films', 'American romantic musical films', '1970s thriller films', 'American comedy horror films', '1988 films', 'Orion Pictures films', 'American comedy science fiction films', '1980s thriller films', '1980s science fiction films', '1980s horror films', 'Films about journalists', '1980s romantic comedy films', '1985 films', 'American teen comedy films', 'Films set in Chicago, Illinois', 'Films shot in Chicago, Illinois', 'Slasher films', '2000s horror films', 'Supernatural horror films', 'Fantasy adventure films', 'American fantasy films', 'American adventure films', 'Films shot in Super 16', 'Bisexuality-related films', 'American film critics', 'Films shot in Texas', 'American science fiction horror films', 'Black comedy films', 'Films based on romance novels', 'Romantic period films', 'Time travel films', 'Films about dysfunctional families', 'Alien visitation films', 'American disaster films', '2000s adventure films', 'American screwball comedy films', 'Women screenwriters', 'Outstanding Performance by an Ensemble in a Drama Series Screen Actors Guild Award winners', 'American sex comedy films', 'American spy films', 'Films based on plays', 'Films set in the 1910s', 'Films set in New York', 'Parody films', 'Courtroom dramas', 'Films shot in Utah', 'Chase films', 'American crime films', 'American cinematographers', 'Metro-Goldwyn-Mayer films', 'Films shot in Technicolor', 'Romantic drama films', 'Cold War films', 'Vietnam War films', '1940s musical films', '1970s crime films', 'Blaxploitation films', 'American film editors', 'American Cinema Editors', 'Romantic fantasy films', 'Ghost films', 'Supernatural thriller films', 'Mockumentary films', 'African American film directors', 'Hood films', 'Zombie films', '2000s musical films', '2012 films', 'Comedy horror films', 'Superhero films', 'Film series', 'Science fiction horror films', 'Robot films', 'Monster movies', 'Natural horror films', '1970s science fiction films', 'Lesbian-related films', 'Special effects people', 'Erotic thriller films', 'British LGBT-related films', '1960s romantic comedy films', 'Christmas films', 'Films about religion', 'Christian films', 'IMAX films', 'Sundance Film Festival award winners', 'Detective films', 'Vampires in film and television', 'African American films', 'Films about dogs', 'Teen comedy films', 'Teen films', 'Political drama films', 'Stop-motion animated films', '2010s horror films', 'Military brats', 'American art directors', 'Films set in Mexico', 'Horror film directors', '1980s crime films', 'Incest in fiction', 'Prison films', '2010s comedy films', '2010s drama films', 'Best Art Direction Academy Award winners', 'Films based on mystery novels', 'Chinese actors', 'Chinese film directors', 'Mandarin-language films', 'Chinese films', 'People from Beijing', 'Cancer deaths in Japan', 'Deaths from liver cancer', 'Japanese films', 'Japanese film directors', 'Japanese horror films', 'Science fiction action films', 'Japanese actors', 'People from Yokohama', 'Japanese film actors', 'Giant monster films', '1960s science fiction films', 'Japanese-language films', '2000s pornographic films', 'Erotic films', 'People from Kyoto (city)', 'People from Tokyo', 'Films based on manga', 'Novel series', 'Fictional cats', '21st-century American novels', 'Texas A&M University faculty', 'American meteorologists', 'American people of Serbian descent', 'People from Gothenburg', 'Swedish film actors', 'Swedish actors', 'Swedish films', 'Swedish-language films', 'People from Stockholm', 'Rhino Records albums', 'Fictional demons', 'American folklore', 'Arizona State University alumni', 'People from Tucson, Arizona', 'People from Phoenix, Arizona', 'University of Arizona alumni', 'Spain in fiction', 'Films shot in Madrid', 'Spanish films', 'Spanish film directors', 'Spanish actors', 'Colgate University alumni', 'Mystery Science Theater 3000 episodes', '1950s science fiction films', 'American International Pictures films', 'Live Action Short Film Academy Award winners', 'People from Greenwich Village, New York', 'American music journalists', 'Purdue University faculty', 'University of California, San Diego alumni', 'Manhattan Project people', 'Physical chemists', 'Quantum physicists', 'Nobel laureates in Chemistry', 'Harvard University staff', 'University of California, Santa Barbara faculty', 'Fellows of the American Association for the Advancement of Science', 'British Nobel laureates', 'English astronomers', 'British astronomers', 'Recipients of the Copley Medal', 'Fellows of the Royal Society', 'Academics of University College London', 'Royal Medal winners', 'Academics of the University of Manchester', 'Members of the Order of Merit', 'English chemists', 'Jewish scientists', 'American Nobel laureates', 'National Academy of Sciences laureates', 'National Medal of Science laureates', 'Fellows of the American Academy of Arts and Sciences', 'Jewish American scientists', 'Biophysicists', 'Members of the United States National Academy of Sciences', 'Jewish inventors', 'Experimental physicists', 'Recipients of the Gold Medal of the Royal Astronomical Society', 'American astronomers', 'English physicists', 'California Institute of Technology alumni', 'California Institute of Technology faculty', 'American nuclear physicists', 'Foreign Members of the Royal Society', 'Nobel laureates in Physics', 'Theoretical physicists', 'Particle physicists', 'Scientific instrument makers', 'Russian physicists', 'Soviet physicists', 'Moscow State University faculty', 'Optical physicists', 'Massachusetts Institute of Technology faculty', 'English inventors', 'Mechanics', 'American civil engineers', 'Bridge engineers', 'Structural engineers', 'Fluid dynamicists', 'American atheists', 'Atheism activists', 'Memoirs', 'American statisticians', 'Fellows of the American Statistical Association', 'ISI highly cited researchers', 'Probability theorists', 'Women mathematicians', 'English mathematicians', 'Members of the French Academy of Sciences', 'British mathematicians', 'German mathematicians', 'Geometers', 'Group theorists', 'Topologists', '21st-century mathematicians', '20th-century mathematicians', 'American mathematicians', 'Mathematical analysts', '19th-century mathematicians', 'History of mathematics', 'Number theorists', 'Combinatorialists', 'Alumni of the cole Normale Suprieure', '18th-century mathematicians', 'University of California, Berkeley faculty', 'Canadian mathematicians', 'Princeton University faculty', 'Franciscans', 'Roman Catholic activists', 'American Jesuits', 'American Roman Catholic priests', 'Roman Catholic theologians', 'Fordham University alumni', 'The Catholic University of America faculty', 'American Roman Catholic archbishops', 'The Catholic University of America alumni', 'College of the Holy Cross alumni', 'Irish emigrants to the United States (before 1923)', 'French emigrants to the United States', 'Italian bishops', '20th-century Roman Catholics', 'Spanish Roman Catholics', '19th-century Roman Catholic archbishops', 'Italian Roman Catholics', 'Cardinals created by Pope John Paul II', 'Alumni of the Pontifical Gregorian University', '21st-century Roman Catholics', '20th-century Roman Catholic priests', 'Members of the Dominican Order', 'Drexel University alumni', 'International law scholars', 'Valparaiso University alumni', 'University of Hawaii alumni', 'People from Honolulu, Hawaii', 'American people of Japanese descent', 'Japanese-American internees', 'University of the Arts (Philadelphia) alumni', 'Indian Roman Catholics', 'People from Goa', 'Hindi-language writers', 'Indian novelists', 'History of medieval India', 'Indian independence activists', 'Punjabi people', 'Indian Sikhs', 'Rulers of Bengal', 'History of Bengal', 'Knights Grand Commander of the Order of the Indian Empire', 'Knights Grand Commander of the Order of the Star of India', 'Knights Commander of the Order of the Star of India', 'Western mystics', 'American Hindus', 'Marathi-language writers', 'Indian revolutionaries', 'Yogis', 'Hindu gurus', 'Converts to Hinduism', 'Indian novels', 'Indian poets', 'People from Karnataka', 'Tulu people', 'Indian writers', 'Malayalam writers', 'History of Kerala', 'Vaishnavism', 'Pashtun people', 'Members of the House of Representatives of Fiji', 'Indo-Fijian people', 'United Nations officials', 'American anthropologists', 'People associated with the American Museum of Natural History', '20th-century Mesoamericanists', 'American archaeologists', 'American slaves', 'Daytime Emmy Award winners', 'Women television writers', 'American soap opera writers', 'American soap opera actors', 'People from Hollywood', 'American television composers', 'American game show hosts', 'American game shows', '1994 American television series endings', 'Television programs featuring puppetry', 'Exploitation films', 'People from East Prussia', 'People from Metz', 'Aviators killed in shootdowns', 'People from Hamburg', 'People from West Prussia', 'Recipients of a posthumous promotion', 'World War II prisoners of war held by the United Kingdom', 'German military personnel of World War I', 'German military personnel of World War II', \"Recipients of the Knight's Cross\", 'Recipients of the Iron Cross', 'SS officers', 'Soviet military personnel of World War II', 'Soviet generals', 'Recipients of the Order of the Red Banner', 'Recipients of the Order of Lenin', 'Explorers of Africa', 'Identical twins', 'The Twilight Zone episodes', '16th-century Roman Catholics', 'English Roman Catholics', 'Clergy of the Tudor period', 'People from Derbyshire', 'People from Staffordshire', 'English translators', 'People from Lincolnshire', '15th-century English people', 'Earls in the Peerage of England', 'Barons in the Peerage of England', 'Daughters of British earls', '14th-century English people', 'English people of French descent', 'People executed by decapitation', 'Founders of English schools and colleges', 'Howard family (English aristocracy)', 'English soldiers', 'British baronesses', 'Executed English people', 'Knights of the Garter', 'People from Norfolk', 'Tudor bishops', '16th-century writers', 'People of the Stuart period', '17th-century English people', '16th-century Protestants', 'Burials at Westminster Abbey', 'English women', 'People executed for treason against England', 'People of the Tudor period', '16th-century English people', '16th-century women', 'Women of the Tudor period', 'English knights', 'English diplomats', 'Lord Chancellors of England', '13th-century English people', 'People excommunicated by the Roman Catholic Church', 'Normans', 'Anglo-Normans', '12th-century English people', 'Women in Medieval warfare', 'Medieval women', 'People executed for heresy', 'British Life Guards officers', 'Members of the Parliament of Great Britain for Scottish constituencies', 'British MPs 17741780', 'British MPs 17681774', 'British MPs 17841790', 'British MPs 17801784', 'British MPs 17901796', 'Knights Companion of the Order of the Bath', 'British MPs 17541761', 'Members of the Privy Council of Great Britain', 'British MPs 17611768', 'Members of the Parliament of Great Britain for English constituencies', 'Earls in the Peerage of Great Britain', 'Members of the Parliament of Great Britain for constituencies in Cornwall', 'Barons in the Peerage of Great Britain', '17th-century Spanish people', '16th-century Roman Catholic bishops', 'Spanish colonial governors and administrators', '16th-century Spanish people', 'Spanish nobility', '15th-century Italian people', 'Women of medieval Italy', 'Mayors of Galway', 'American people of Czech descent', 'American people of Hungarian descent', 'American people of Croatian descent', 'American people of Finnish descent', 'American people of Portuguese descent', 'American people of Ukrainian descent', 'Nickelodeon shows', 'People from Boulder, Colorado', 'American pioneers', 'Fictional orphans', 'Fictional mass murderers', 'Fictional vigilantes', 'Golden Age comics creators', 'Will Eisner Award Hall of Fame inductees', 'American comics artists', 'American comics writers', 'Fictional police officers', 'Comic book limited series', 'Fictional ghosts', 'Fandom', 'Central Asian studies', 'Dachau concentration camp survivors', 'Antisemitism', 'Historians of Nazism', 'Adolf Hitler', 'Nazi Germany', 'People from the Kingdom of Bavaria', 'Nazis', 'Holocaust perpetrators', 'Auschwitz concentration camp survivors', 'Nazi concentration camp survivors', 'Holocaust survivors', 'Jewish Polish history', 'Deaths from breast cancer', 'Breast cancer survivors', 'Canadian emigrants to the United States', \"Deaths from Alzheimer's disease\", 'People from the San Fernando Valley', 'American stand-up comedians', '1950s American television series', 'National Radio Hall of Fame inductees', 'American television personalities', 'Television series produced in Vancouver', 'Teen dramas', 'American television executives', 'Actors from Washington, D.C.', 'Deaths from pancreatic cancer', 'Cancer survivors', 'American bloggers', 'Actors who committed suicide', 'American television miniseries', 'Disease-related deaths in California', 'Actors from Georgia (U.S. state)', 'Bisexual actors', 'American radio actors', 'Actors from Pittsburgh, Pennsylvania', 'Actors from Minnesota', 'Female television directors', 'Fox network shows', 'Black television drama series', 'Cancer deaths in New York', 'Actors from Massachusetts', 'Actors from Illinois', 'American people of Russian descent', 'American television producers', 'Actors from Los Angeles, California', 'Cancer deaths in California', 'Actors from New York', 'American people of Russian-Jewish descent', 'American television directors', 'American child actors', 'Actors from New Jersey', 'Deaths from myocardial infarction', 'People from New York City', 'American Jews', 'American voice actors', 'Jewish actors', 'American stage actors', '20th-century actors', 'Actors from California', 'Actors from New York City', 'American television actors', 'American film actors', 'Emmy Award winners', 'People self-identifying as alcoholics', 'African American film actors', 'African American television actors', 'Actors from Michigan', 'People from Los Angeles, California', '1980s American television series', 'Hispanic and Latino American actors', 'Actors from Texas', '1990s American television series', 'Television shows set in New York City', '2000s American television series', 'Television series by Buena Vista Television', 'Deaths from pneumonia', 'Actors from Ohio', 'People from Brooklyn', 'Actors from Connecticut', 'Jewish comedians', 'Second City alumni', 'Actors from Chicago, Illinois', 'High school television series', 'Hollywood blacklist', 'American television writers', 'American people of Native American descent', 'American television talk show hosts', 'American actors', 'Emmy Award winning programs', 'Burials at Forest Lawn Memorial Park (Hollywood Hills)', 'Actors from Indiana', 'Anthology television series', 'Deaths from lung cancer', 'Black-and-white television programs', '1960s American television series', 'Western (genre) television series', 'People from the Greater Los Angeles Area', 'Western (genre) film actors', 'Cardiovascular disease deaths in California', 'CBS network shows', 'Deaths from emphysema', 'Deaths from stroke', 'Actors from Pennsylvania', 'NBC network shows', '1970s American television series', 'Television series by Sony Pictures Television', 'American Broadcasting Company network shows', 'American television sitcoms', 'English-language television series', 'Television series by CBS Paramount Television', 'Actors from Missouri', 'African American actors', 'Women comedians', 'American comedians', 'African American comedians', 'American impressionists (entertainers)', 'Actors from Iowa', 'Burials at Holy Cross Cemetery, Culver City', 'People from Santa Monica, California', 'Northwestern University alumni', 'Actors from Oklahoma', 'Actors from Florida', '1993 American television series endings', 'American people of Spanish descent', 'UPN network shows', 'Deaths from brain cancer', 'American LGBT-related television programs', 'Actors from Louisiana', 'United States Army Air Forces soldiers', 'Deaths from colorectal cancer', 'Current national leaders', 'Colonialism', 'Deaths from congestive heart failure', 'Deaths from esophageal cancer', 'Deaths from lymphoma', 'Actors from Washington (state)', 'Actors from Virginia', 'American science fiction television series', 'Television series by Warner Bros. Television', 'Television programs based on films', 'Fictional versions of real people', 'Deaths from leukemia', 'Deaths from heart failure', 'Deaths from renal failure', 'American people of German-Jewish descent', 'American radio personalities', 'American broadcast news analysts', 'Peabody Award winners', 'NBC News', 'American columnists', 'American political pundits', 'Deaths from prostate cancer', 'Horror fiction television series', 'American adoptees', 'War correspondents', 'Actors from Kansas', 'Actors from Tennessee', 'American people of Greek descent', 'American actors of Japanese descent', 'Baronets in the Baronetage of England', 'Members of the pre-1707 Parliament of England', 'English politicians', 'Cavaliers', 'Roundheads', 'English landowners', 'Date of birth missing', 'Date of death missing', 'LGBT musicians from the United States', 'Universal Records albums', 'English-language video albums', 'Albums certified platinum by the Recording Industry Association of Japan', 'American tenors', 'Jive Records albums', 'American rappers', 'Film soundtracks', 'Hip hop soundtracks', 'Hip hop DJs', 'Albums released on DVD-Audio', 'British songwriters', 'Universal Deluxe Editions', 'Participants in American reality television series', 'Albums released in Super Audio', 'American drummers', 'Music festivals in the United States', 'American bass guitarists', 'Drug-related songs', '2000 compilation albums', 'Club DJs', 'American house musicians', 'American DJs', 'English electronic musicians', 'British record producers', 'Remixers', 'Polydor Records albums', 'A&M Records albums', 'American audio engineers', 'LGBT-related songs', 'Elektra Records albums', 'Musicians from New York City', 'Covers albums', 'People from Queens', 'People from the Bronx', 'American vegetarians', 'Music from Liverpool', 'American rock drummers', 'American rock bass guitarists', 'Concept albums', 'Geffen Records albums', 'American child singers', 'Double albums', 'American keyboardists', 'American musicians', 'Virgin Records albums', 'Enhanced CDs', 'Albums produced by Rick Rubin', 'American female guitarists', 'Lead guitarists', 'English rock guitarists', 'English pop singers', 'English songwriters', 'English female singers', 'American session musicians', 'Musicians from California', 'American expatriates in the United Kingdom', 'Live Music Archive artists', 'American rock music groups', 'Supergroups', 'American pop music groups', 'Musicians from London', 'English male singers', 'American rock singers', 'Atlantic Records artists', 'American rock singer-songwriters', 'Musical groups from Los Angeles, California', 'American rock guitarists', 'Rock and Roll Hall of Fame inductees', 'English singer-songwriters', 'African American singer-songwriters', 'English-language singers', 'American soul singers', 'BRIT Award winners', 'American pop singers', 'Ivor Novello Award winners', 'World Music Awards winners', 'Grammy Award winners', 'Virgin Records artists', 'American singer-songwriters', 'Female rock singers', 'Virgin Records compilation albums', 'American musicians of Italian descent', 'English guitarists', 'English rock singers', 'American multi-instrumentalists', 'English record producers', 'Warner Bros. Records artists', 'American female singers', 'Mercury Records artists', 'Epic Records artists', 'Capitol Records artists', 'American male singers', 'Elektra Records artists', 'Recording Industry Association of America Diamond Award albums', 'Columbia Records artists', 'American songwriters', 'American music industry executives', 'Songwriters from California', 'English-language compilation albums', 'American dance musicians', 'Female rappers', 'African American female singers', 'American music video directors', 'Rappers from New York City', 'Songs with feminist themes', 'Hip hop singers', 'Neo soul singers', 'Def Jam Recordings albums', 'Albums produced by Scott Storch', 'African American rappers', 'Albums produced by The Neptunes', 'American hip hop record producers', 'Hip hop record producers', 'Atlantic Records albums', 'Albums produced by Jermaine Dupri', 'Albums produced by Swizz Beatz', 'African American singers', 'American rhythm and blues singer-songwriters', 'Debut albums', 'American record producers', 'American rhythm and blues singers', 'Albums certified gold by the Recording Industry Association of Japan', 'Interscope Records albums', 'Albums produced by Kanye West', 'Albums produced by Timbaland', 'Musicians from Los Angeles, California', 'Northern soul musicians', 'American soul musicians', 'American rhythm and blues musicians', 'American guitarists', 'African American rock musicians', 'American rock musicians', 'American pianists', 'Island Records albums', 'American musicians of Irish descent', 'Epic Records albums', 'Arista Records artists', 'Music video compilation albums', 'Mobile Fidelity Sound Lab albums', 'EMI Records albums', 'Albums produced by DJ Premier', 'Asylum Records albums', 'E1 Music albums', 'Live video albums', 'Upcoming albums', 'Albums produced by David Foster', 'Bisexual musicians', '1999 compilation albums', 'Members of the Nation of Gods and Earths', 'English keyboardists', 'American record labels', '2003 compilation albums', '2004 compilation albums', 'American electronic musicians', 'American musicians of German descent', 'American folk singers', 'American folk guitarists', 'American hip hop musicians', 'Musicians from Florida', 'British expatriates in the United States', 'English session musicians', 'City College of New York alumni', 'British male singers', 'Atco Records albums', 'Independent Music Awards winners', 'Musicians from Detroit, Michigan', 'Double soundtracks', 'Motown albums', 'Musicians from Michigan', 'Motown artists', 'American funk musicians', 'Rhythm and blues albums', 'Soul albums', 'New Zealand musicians', 'Australian musicians', 'ARIA Award winners', 'Australian singer-songwriters', 'Australian male singers', 'Australian pop singers', 'Australian female singers', 'Pop compilation albums', 'People from Gary, Indiana', 'Musicians from Indiana', 'Outstanding Performance by an Ensemble in a Comedy Series Screen Actors Guild Award winners', 'Fictional singers', '2007 soundtracks', 'Emerson College alumni', 'People from the canton of Zurich', 'Puerto Rican singers', 'Puerto Rican actors', 'Puerto Rican military personnel', 'American people of Puerto Rican descent', 'People from Ponce, Puerto Rico', 'People from San Juan, Puerto Rico', 'Expatriate footballers in Albania', 'KF Tirana players', 'Albania international footballers', 'Albanian footballers', 'Albanian people', 'Christmas television specials', 'Jewish writers', '20th-century German people', 'German poets', 'German writers', 'American writers of German descent', '20th-century writers', 'Eurovision Song Contest commentators', 'German female singers', 'Musicians who committed suicide', 'The New School alumni', 'Audio engineers', 'People from Aichi Prefecture', 'People from Kobe', 'People from Hokkaid', 'University of Tokyo alumni', 'Keio University alumni', 'Members of the House of Councillors', 'Government ministers of Japan', 'Cold War leaders', 'People from Osaka (city)', 'People from Nagoya', 'Kyoto University alumni', 'Japanese businesspeople', 'Deaths from respiratory failure', 'People from Rio de Janeiro (city)', 'Brazilian films', 'Brazilian film actors', 'Portuguese-language films', 'People from So Paulo (city)', 'Brazilian people of Black African descent', 'Brazilian actors', 'Albums produced by John Zorn', 'Tzadik Records artists', 'Film scores', '2002 soundtracks', 'People executed by England and Wales', 'AIDS-related deaths in New York', 'British plays', 'Plays adapted into films', 'Broadway plays', 'American plays', 'Plays set in the United States', 'Obie Award recipients', 'American dramatists and playwrights', 'Yale School of Drama alumni', 'Off-Broadway plays', 'Comedy plays', 'American theatre directors', 'People from Liverpool', 'Albums produced by George Martin', 'Albums recorded at Abbey Road Studios', 'People murdered in California', 'English-language soundtracks', '1960s musical films', 'Lesbian musicians', 'American punk rock singers', 'Riot grrrl', 'Epitaph Records albums', 'American punk rock drummers', 'People from Berkeley, California', 'American punk rock guitarists', 'American punk rock musicians', 'Fat Wreck Chords albums', 'History of Brazil', 'Cameroonian footballers', 'Cameroon international footballers', 'Sustainability advocates', 'Sustainability', 'American environmentalists', 'American conservationists', 'American non-fiction environmental writers', 'Liberian footballers', 'People from Monrovia', 'British people of Indian descent', 'English DJs', 'Electronic musicians', 'British female singers', 'Festivals in California', '1998 compilation albums', '1995 compilation albums', 'Rock compilation albums', '1990 compilation albums', '1993 compilation albums', 'American gospel singers', 'Southern Gospel performers', 'Tooth & Nail Records albums', 'Christian music albums', 'American Christians', 'American performers of Christian music', '1994 live albums', 'East German films', 'Jewish American history', 'American documentary filmmakers', 'Documentary film directors', 'American World War II propaganda films', '1990s documentary films', 'Documentary films about sports', 'American documentary films', '1960s documentary films', '1970s documentary films', '1980s documentary films', '2010s documentary films', 'British documentary films', 'Documentary television films', 'Short documentary films', '1940 films', '1938 films', '1936 films', '1943 films', '1945 films', '1939 films', '1941 films', '1942 films', '1940s crime films', '1946 films', 'American stunt performers', '1940s adventure films', '1930s adventure films', 'Universal Pictures film serials', '1940s Western films', '1930s Western films', 'Deaths from motor neurone disease', 'Knights of Malta', 'Maltese footballers', 'People from Guangzhou', 'Guangzhou FC players', 'Expatriate footballers in China', 'Chinese footballers', 'China international footballers', 'People from Shanghai', 'Electronic albums', 'French people of Guadeloupean descent', 'McCarthyism', 'American spies for the Soviet Union', 'Turkish Cypriot people', '1930 FIFA World Cup players', 'Prime Ministers of France', 'People from Lyon', 'Members of the European Parliament for English constituencies', 'French Jews', 'Politicians of the French Fifth Republic', 'Alumni of Sciences Po', \"Alumni of the cole Nationale d'Administration\", 'French Resistance members', 'American business executives', 'Moldovan footballers', 'American filmmakers', 'Australian women writers', 'Australian dramatists and playwrights', 'Australian novels', 'Women novelists', '20th-century women writers', 'Australian novelists', 'Finnish orienteers', 'Ski-orienteers', \"20th-century Bah's\", 'People from Bakersfield, California', 'United States Department of Defense officials', 'People of the Central Intelligence Agency', 'American spies', 'People from Green Bay, Wisconsin', 'University of WisconsinMilwaukee alumni', 'People from Milwaukee, Wisconsin', 'Members of the United States House of Representatives from Wisconsin', 'Wisconsin Democrats', 'Wisconsin State Senators', 'Members of the Wisconsin State Assembly', 'Wisconsin Republicans', 'Marquette University alumni', 'People from La Crosse, Wisconsin', 'University of WisconsinMadison faculty', 'People from Madison, Wisconsin', 'Wisconsin state court judges', 'University of Wisconsin Law School alumni', 'University of WisconsinMadison alumni', 'Films directed by Roscoe Arbuckle', 'Deaths from cerebral hemorrhage', '1920s comedy films', 'Short films', '1910s comedy films', 'Silent short films', 'History of film', 'Vaudeville performers', 'Burials at Forest Lawn Memorial Park (Glendale)', '1929 films', '1928 films', 'Deaths from surgical complications', '1930s romantic comedy films', '1930s musical films', '1931 films', 'Films made before the MPAA Production Code', '1932 films', '1930 films', '1933 films', '1930s drama films', 'Hollywood history and culture', '1927 films', '1923 films', '1919 films', 'Silent film directors', 'Black-and-white films', '1918 films', '1917 films', '1916 films', '1926 films', 'Films directed by John Ford', 'Lost films', '1910s Western films', '1920s drama films', 'Burials at Hollywood Forever Cemetery', 'American silent film actors', 'Infectious disease deaths in California', '1925 films', 'Silent films', 'American silent films', '1910s drama films', '1912 films', 'Films directed by D. W. Griffith', '1911 films', '1913 films', '1924 films', '1915 films', '1921 films', '1920 films', '1920s Western films', '1922 films', 'Road accident deaths in California', '1914 films', 'American short films', 'Twin people from the United States', 'Metafictional works', 'American human rights activists', 'Panamanian footballers', 'American sports businesspeople', 'Austrian emigrants to the United States', 'American people of Austrian descent', 'Members of the New Hampshire House of Representatives', 'Members of the United States House of Representatives from New Hampshire', 'Dartmouth College alumni', 'Female aviators', 'Special Operations Executive personnel', 'Women in World War II', 'British radio personalities', 'British radio DJs', 'British radio presenters', \"Recipients of the Queen's Police Medal\", 'Deaths by stabbing', 'People murdered in England', 'Weightlifters at the 2004 Summer Olympics', 'Weightlifters at the 2000 Summer Olympics', 'Olympic medalists in weightlifting', 'Weightlifters at the 2008 Summer Olympics', 'Pan American Games competitors for Colombia', 'Science and technology in Poland', 'Modern cryptographers', 'People associated with computer security', 'Georgia (country) international footballers', 'Georgian expatriate footballers', 'Footballers from Georgia (country)', 'FC Dinamo Tbilisi players', 'Old Greshamians', 'Hapoel Tel Aviv F.C. players', 'Israeli footballers', 'Israel international footballers', 'Jewish footballers', 'Maccabi Tel Aviv F.C. players', 'Maccabi Haifa F.C. players', 'Beitar Jerusalem F.C. players', 'Hapoel Haifa F.C. players', \"Hapoel Be'er Sheva F.C. players\", 'Maccabi Netanya F.C. players', 'Hapoel Petah Tikva F.C. players', 'Expatriate footballers in Israel', 'Little, Brown and Company books', 'Underground cartoonists', 'Comic strip cartoonists', 'American cartoonists', 'American comic strip cartoonists', 'American comic strips', 'American agnostics', 'Guinean footballers', '17th-century people', 'Nudity', 'Civil disobedience', 'German musicians', 'People from Orlando, Florida', 'Golf writers and broadcasters', 'Golf course architects', 'American golfers', 'Champions Tour golfers', \"Winners of men's major golf championships\", 'World Golf Hall of Fame inductees', 'PGA Tour golfers', 'Australian male golfers', 'English golfers', 'Amateur golfers', 'English snooker players', 'Place of birth missing', 'Year of birth missing', 'Warrington Wolves players', 'Hull FC players', 'Wakefield Trinity Wildcats players', 'Yorkshire rugby league team players', 'Castleford Tigers players', 'Salford City Reds players', 'Rugby league hookers', 'Great Britain national rugby league team players', 'English rugby league players', 'England national rugby league team players', 'Rugby league centres', 'Rugby league five-eighths', 'English rugby league coaches', 'St Helens RFC players', 'Bradford Bulls players', 'Rugby league halfbacks', 'Rugby league props', 'Rugby league second-rows', 'Rugby league locks', 'Rugby league wingers', 'Leeds Rhinos players', 'Wigan Warriors players', 'Rugby league fullbacks', 'Widnes Vikings players', 'Place of birth missing (living people)', 'Halifax RLFC players', 'Leigh Centurions players', 'Footballers who switched code', 'Wales national rugby league team players', 'Welsh rugby league players', 'Swinton Lions players', 'Oldham Roughyeds players', 'Possibly living people', 'Hull Kingston Rovers players', 'Huddersfield Giants players', 'Featherstone Rovers players', 'Sportspeople from Kingston upon Hull', 'People from Oldham', 'Scotland national rugby league team players', 'Irish rugby league players', 'People from Halifax, West Yorkshire', 'Place of death missing', 'Auckland rugby league team players', 'New Zealand rugby league players', 'New Zealand national rugby league team players', 'New Zealand rugby league coaches', 'North Sydney Bears players', 'Balmain Tigers players', 'Australian rugby league players', 'Australia national rugby league team players', 'Sydney Roosters players', 'Manly-Warringah Sea Eagles players', 'Western Suburbs Magpies players', 'British racehorse owners and breeders', 'Eclipse Award winners', 'American jockeys', 'United States Thoroughbred Racing Hall of Fame inductees', 'American horse trainers', 'American racehorse owners and breeders', 'American horse racing announcers', 'British male tennis players', 'Wimbledon champions (pre-Open Era)', 'English tennis players', 'American male tennis players', 'Australian male tennis players', 'American female tennis players', 'French Open champions', 'Olympic medalists in tennis', 'French Championships (tennis) champions', 'International Tennis Hall of Fame inductees', 'United States National champions (tennis)', 'Academics of the University of Nottingham', 'People from Carlisle, Cumbria', 'People from Gdask', 'People from Birkenhead', 'Magistri militum', '7th-century Christian saints', '6th-century rulers in Europe', '8th-century Christian saints', 'Frankish people', 'History of Sheffield', '7th-century rulers in Europe', '8th-century rulers in Europe', 'Leicester', '9th-century rulers in Europe', 'People from Gloucestershire', 'Lombards', 'Czechoslovak films', 'Czech-language films', 'Czech films', 'Austro-Hungarian Jews', '19th-century Czech people', 'People from Prague', 'Recipients of the Order of Tom Garrigue Masaryk', 'Czech Jews', 'Charles University in Prague alumni', 'People from Brno', 'Russian film directors', 'Soviet films', 'Russian-language films', 'Mosfilm films', 'Russian films', 'Russian actors', 'Soviet actors', 'Soviet film actors', 'Russian film actors', 'Ghana international footballers', 'Ghanaian footballers', 'Ghanaian expatriate footballers', 'People from Accra', 'Alumni of the School of Oriental and African Studies', 'Warner Bros. Records live albums', 'Assyrian people', 'Bolivian footballers', 'Club Bolvar players', 'Bolivia international footballers', '1999 FIFA Confederations Cup players', 'People from Valencia', 'Valencia CF footballers', 'FC Barcelona footballers', 'Spain youth international footballers', 'Real Madrid C.F. players', 'Spanish expatriate footballers', 'La Liga footballers', 'Spain international footballers', 'Spain under-21 international footballers', 'Atltico Madrid footballers', 'Real Madrid Castilla footballers', 'Sevilla FC footballers', 'RCD Mallorca footballers', 'Olympic footballers of Spain', 'Real Sociedad footballers', 'Real Zaragoza footballers', 'Real Betis footballers', 'Mlaga CF footballers', 'Sporting de Gijn footballers', 'Deportivo de La Corua players', 'Racing de Ferrol footballers', 'People from Barcelona', 'Granada CF footballers', 'CD Castelln footballers', 'UD Las Palmas footballers', 'Celta de Vigo footballers', 'Real Valladolid footballers', 'Spanish footballers', 'Getafe CF footballers', 'Catalan footballers', 'RCD Espanyol footballers', 'Levante UD footballers', 'Albacete Balompi footballers', 'FC Barcelona Atltic footballers', 'Rayo Vallecano footballers', 'Villarreal CF footballers', 'Racing de Santander footballers', 'Recreativo de Huelva footballers', 'CD Numancia players', 'UD Almera footballers', 'Hrcules CF footballers', 'Real Murcia footballers', 'Gimnstic de Tarragona footballers', 'CD Tenerife players', 'Cdiz CF footballers', 'UD Salamanca footballers', 'Deportivo Alavs footballers', 'UE Lleida footballers', 'Elche CF players', 'Crdoba CF footballers', 'Xerez CD players', 'Athletic Bilbao footballers', 'Bilbao Athletic footballers', 'Basque footballers', 'SD Eibar footballers', 'La Liga managers', 'Spanish football managers', 'CA Osasuna footballers', 'Real Oviedo players', 'Asturian people', 'People from Seville', 'People from Madrid', 'Twin people', '1991 Copa Amrica players', 'Club Olimpia footballers', 'Club Libertad footballers', 'Paraguayan footballers', 'Paraguay international footballers', 'Paraguayan expatriate footballers', 'Cerro Porteo footballers', '1989 Copa Amrica players', 'Expatriate footballers in Saudi Arabia', 'People from Minas Gerais', 'Expatriate footballers in South Korea', 'Brazilian people of Italian descent', 'Brazilian people of German descent', 'People from Rio Grande do Sul', 'Ava Futebol Clube players', 'People from So Paulo (state)', 'Olympic footballers of Brazil', 'Figueirense Futebol Clube players', 'Santa Cruz Futebol Clube players', 'Associao Atltica Ponte Preta players', 'Coritiba Foot Ball Club players', 'Esporte Clube Juventude players', 'Sport Club do Recife players', 'Fortaleza Esporte Clube players', 'Paran Clube players', 'Brazilian expatriates in South Korea', 'Ituano Futebol Clube players', 'Sport Club Internacional players', 'Expatriate footballers in Japan', 'Brazilian expatriate footballers', 'Esporte Clube Vitria players', 'Club de Regatas Vasco da Gama players', 'Clube Atltico Mineiro players', 'Brazil international footballers', 'Sport Club Corinthians Paulista players', 'Grmio Foot-Ball Porto Alegrense players', 'Santos Futebol Clube players', 'So Paulo FC players', 'Brazilian football managers', 'Gois Esporte Clube players', 'Esporte Clube Bahia players', 'Fluminense Football Club players', 'Associao Portuguesa de Desportos players', 'Guarani Futebol Clube players', 'Associao Desportiva So Caetano players', 'Clube Atltico Paranaense players', 'Botafogo de Futebol e Regatas players', 'Cruzeiro Esporte Clube players', 'Sociedade Esportiva Palmeiras players', 'Brazilian footballers', 'Clube de Regatas do Flamengo players', 'Clube Nutico Capibaribe players', 'Expatriate footballers in Qatar', 'American University faculty and staff', 'Opticians', 'Fictional immortals', 'Privateers', 'English motorcycle racers', 'British speedway riders', 'Expatriate footballers in Thailand', 'Thai footballers', \"American children's writers\", 'Newbery Honor winners', 'American illustrators', 'Married couples', \"Television programs based on children's books\", 'PBS network shows', 'Canadian voice actors', \"Canadian children's television series\", 'Flash cartoons', 'Direct-to-video films', 'Television series by DIC Entertainment', 'Animated comedy films', 'Fictional dogs', 'Television programs featuring anthropomorphic characters', 'Animated duos', '2000s American animated television series', 'Animated television specials', \"Children's films\", 'Hippie movement', 'Blind musicians', 'American buskers', 'Imperial Records artists', 'Deaths from diabetes', 'People from Memphis, Tennessee', 'Deaths from cancer', 'Musicians from Arkansas', 'American blues musicians', 'Blues Hall of Fame inductees', 'American blues guitarists', 'Electric blues musicians', 'American blues singers', 'Musicians from Mississippi', 'American blues pianists', 'Songwriters from Texas', 'Deaths from stomach cancer', 'Musicians from Louisiana', 'Blues albums', 'African-American culture', 'Footballers at the 1956 Summer Olympics', 'Melbourne Knights players', 'Expatriate footballers in Malaysia', 'Expatriate soccer players in Australia', 'Australian sportspeople of Italian descent', 'Australian people of Croatian descent', 'Sydney Olympic players', 'Perth Glory FC players', 'Olympic soccer players of Australia', 'Australia international soccer players', 'Sydney FC players', 'Sportspeople from Sydney', 'A-League players', 'Australian expatriate soccer players', 'Australian soccer players', 'National Soccer League (Australia) players', 'Democratic Republic of the Congo footballers', 'Anglo-African people', 'People from Cape Town', 'South Africa international football (soccer) players', 'South African association football players', 'People from Durban', 'Expatriate association footballers in South Africa', 'South African Jews', 'People from Johannesburg', 'White South African people', 'University of Cape Town alumni', 'South African people', 'Afrikaner people', 'University of Pretoria alumni', 'People from Fort Wayne, Indiana', 'DePaul University alumni', 'Loyola University Chicago alumni', 'Members of the Illinois House of Representatives', 'Illinois Democrats', 'Illinois State Senators', 'Chicago City Council members', 'History of Chicago, Illinois', 'UNICEF people', 'British ornithologists', 'World War II prisoners of war held by Japan', 'Australian Army officers', 'Australian Army soldiers', 'Australian military personnel of World War I', 'Australian generals', 'British military historians', 'Eastern Michigan University alumni', \"Alumni of The Queen's College, Oxford\", 'People from Belfast', 'Alumni of the Open University', 'People from County Armagh', 'People from County Tyrone', 'Sinn Fin politicians', 'Councillors in Northern Ireland', 'Orangemen', \"Alumni of Queen's University Belfast\", 'Northern Ireland MLAs 20032007', 'Northern Ireland MLAs 20072011', 'Northern Ireland MLAs 2011', 'Members of the United Kingdom Parliament for Northern Irish constituencies', 'People from Derry', 'People from County Antrim', 'People from County Down', 'Royal Army Medical Corps officers', 'British Army personnel of the American Revolutionary War', 'Knights Grand Cross of the Royal Guelphic Order', 'British Army personnel of World War II', 'Old Blundellians', 'Positions within the British Royal Household', 'Old Amplefordians', 'Knights Commander of the Order of the Indian Empire', 'Companions of the Order of the Indian Empire', 'British military writers', 'Royal Navy officers of World War II', 'Members of the Royal Victorian Order', 'Knights Grand Cross of the Order of the Bath', 'Old Shirburnians', 'Coldstream Guards officers', 'Knights Commander of the Order of St Michael and St George', 'Royal Horse Guards officers', 'Grenadier Guards officers', 'British Army officers', 'British Army personnel of the Mahdist War', 'British Army personnel of the Second Boer War', 'Knights of the Order of St John', 'Knights Grand Cross of the Order of the British Empire', 'Knights Commander of the Royal Victorian Order', 'Scots Guards officers', 'Companions of the Order of St Michael and St George', 'Rifle Brigade officers', 'British Army World War I generals', 'Officers of the Order of the British Empire', 'Companions of the Distinguished Service Order and Bar', 'Commanders of the Order of the British Empire', 'Woolwich graduates', 'British Army generals', 'Royal Artillery officers', 'British Army World War II generals', 'Sandhurst graduates', 'Knights Commander of the Order of the Bath', 'Knights Commander of the Order of the British Empire', 'Companions of the Order of the Bath', 'Companions of the Distinguished Service Order', 'British Field Marshals', 'Royal Engineers officers', \"King's Royal Rifle Corps officers\", 'Old Cheltonians', 'Old Wellingtonians', 'Foreign recipients of the Legion of Merit', 'Knights Grand Cross of the Royal Victorian Order', 'Commanders of the Royal Victorian Order', 'Anglo-Irish people', 'People from the Las Vegas metropolitan area', 'Yale University', 'American fraudsters', 'American people convicted of fraud', 'Imprisonment and detention', 'Censorship', 'People from Washington, D.C.', 'African American politicians', 'Georgetown University alumni', 'American people of the War of 1812', 'Congressional Gold Medal recipients', 'American antiIraq War activists', 'Presidential Medal of Freedom recipients', 'Democratic Party United States Senators', 'Republican Party United States Senators', 'American Episcopalians', 'Jewish members of the United States House of Representatives', 'Female members of the United States House of Representatives', 'Members of the United States House of Representatives from California', 'Members of the United States House of Representatives from Iowa', 'Republican Party state governors of the United States', 'University of Missouri alumni', 'Missouri Republicans', 'Washington University in St. Louis alumni', 'Members of the United States House of Representatives from Indiana', 'Members of the Indiana House of Representatives', 'Indiana Democrats', 'Indiana Republicans', 'Indiana State Senators', 'Indiana lawyers', 'Indiana University alumni', 'DePauw University alumni', 'American Congregationalists', 'American abolitionists', 'District attorneys', 'Members of the United States House of Representatives from North Carolina', 'American civil rights lawyers', 'African American history', 'Kentucky Republicans', 'Kentucky State Senators', 'Kentucky lawyers', 'Kentucky Democrats', 'Members of the Kentucky House of Representatives', 'Members of the United States House of Representatives from Kentucky', 'Transylvania University alumni', 'American prosecutors', 'American Roman Catholics', 'American Methodists', 'American planters', 'Confederate States Army soldiers', 'Democratic-Republican Party United States Senators', 'American people of Scotch-Irish descent', 'Slavery in the United States', 'American politicians convicted of crimes', 'Princeton University alumni', 'American Protestants', '19th-century American Episcopalians', 'Reagan Administration personnel', 'Clinton Administration personnel', 'American political writers', 'Duke University alumni', 'Politicians with physical disabilities', 'University of Delaware alumni', 'People from New Castle County, Delaware', 'People from Wilmington, Delaware', 'United States presidential advisors', 'Illinois Republicans', 'Illinois lawyers', 'American diplomats', 'Burials at Arlington National Cemetery', 'George Washington University alumni', 'United States Army generals', 'American people of Welsh descent', 'American people of Scottish descent', 'American people of English descent', 'American people of German descent', 'American people of Irish descent', 'United States Marshals', 'Duellists', 'Article Feedback Pilot', 'Watergate figures', 'Recipients of American presidential pardons', 'Obama Administration personnel', 'People of Wisconsin in the American Civil War', 'Phillips Exeter Academy alumni', 'Tennessee Democrats', 'Tennessee Republicans', 'Members of the United States House of Representatives from Tennessee', 'Members of the Tennessee House of Representatives', 'Tennessee State Senators', 'American legal writers', 'Yale Law School alumni', 'American legal scholars', 'American Rhodes scholars', 'Harvard Law School alumni', 'Harvard Law School faculty', 'American lawyers', 'Washington, D.C. lawyers', 'Law clerks of the Supreme Court of the United States', 'American female lawyers', 'University of Chicago Law School alumni', 'United States Supreme Court justices', 'George W. Bush Administration personnel', 'George W. Bush administration controversies', 'Columbia Law School alumni', 'Georgetown University Law Center alumni', 'American University alumni', 'People from Fairfax County, Virginia', 'People from Alexandria, Virginia', 'People from Arlington County, Virginia', 'Washington and Lee University alumni', 'University of Virginia School of Law alumni', 'Virginia lawyers', 'The College of William & Mary alumni', 'Members of the United States House of Representatives from Virginia', 'Members of the Virginia House of Delegates', 'Virginia Democratic-Republicans', 'Virginia Democrats', 'Virginia State Senators', 'University of Virginia alumni', 'Burials at the Congressional Cemetery', 'People from Richmond, Virginia', 'Virginia Republicans', 'Members of the United States House of Representatives from Missouri', 'Appointed United States Senators', 'Dickinson College alumni', 'People from Philadelphia, Pennsylvania', 'Politicians from Pittsburgh, Pennsylvania', 'Pennsylvania lawyers', 'Members of the United States House of Representatives from Pennsylvania', 'University of Pennsylvania alumni', 'American amputees', '1900 deaths', 'United States Military Academy alumni', 'Virginia Military Institute alumni', '19th-century American railroad executives', 'People of Ohio in the American Civil War', 'Union Army officers', 'Confederate States Army officers', 'American Civil War prisoners of war', 'People of Pennsylvania in the American Civil War', 'United States Army officers', 'People of New York in the American Civil War', 'Confederate States Army generals', 'Union Army generals', 'People of Virginia in the American Civil War', 'People of Massachusetts in the American Civil War', 'People of Indiana in the American Civil War', 'Spouses of members of the United States House of Representatives', 'American lobbyists', 'Yale University alumni', '19th-century American newspaper publishers (people)', '19th-century American newspaper editors', 'Miami University alumni', 'Burials at Spring Grove Cemetery, Cincinnati', 'Members of the United States House of Representatives from Ohio', 'Ohio lawyers', 'American political consultants', 'Michigan State Senators', 'Michigan Republicans', 'Michigan Democrats', 'University of Michigan Law School alumni', 'University of Michigan alumni', 'United States Army personnel', 'American physicians', 'American Presbyterians', 'Amherst College alumni', 'American newspaper editors', 'American anti-communists', 'History of the United States (18651918)', 'People from Wichita, Kansas', 'People from New Mexico', 'People from Santa Fe, New Mexico', 'People associated with the Boy Scouts of America', 'Distinguished Eagle Scouts', 'Mount Holyoke College alumni', 'Articles created via the Article Wizard', 'People from Warsaw', 'University of Warsaw alumni', 'Polish historians', 'British people of Polish descent', 'American antiVietnam War activists', 'University of Pennsylvania Law School alumni', \"Lgion d'honneur recipients\", 'American military personnel of World War II', 'Recipients of the Silver Star', 'American military personnel of the Korean War', 'Recipients of the Distinguished Service Cross (United States)', 'United States Army Command and General Staff College alumni', 'United States Army War College alumni', 'American military personnel of World War I', 'Operation Overlord people', 'Operation Overlord', 'Pedestrian road accident victims', 'American foreign policy writers', 'American libertarians', 'Nebraska State Senators', 'University of NebraskaLincoln alumni', 'People from Lincoln, Nebraska', 'American classical scholars', 'People from Montana', 'Judges of the United States District Court for the Southern District of New York', 'Northwestern University School of Law alumni', 'Illinois state court judges', 'University of Notre Dame alumni', 'Stanford Law School alumni', 'United States district court judges appointed by George H. W. Bush', 'African American judges', 'American women judges', 'United States district court judges appointed by Ronald Reagan', 'United States district court judges appointed by Bill Clinton', 'United States district court judges appointed by Jimmy Carter', 'Judges of the United States District Court for the District of Columbia', 'Wayne State University alumni', 'People from Bucks County, Pennsylvania', 'People from Montgomery County, Pennsylvania', 'Pennsylvania State Senators', 'People from Harrisburg, Pennsylvania', 'People from Westmoreland County, Pennsylvania', 'Temple University alumni', 'People from Allegheny County, Pennsylvania', 'University of Pittsburgh alumni', 'Duquesne University alumni', 'Pennsylvania Republicans', 'Pennsylvania Democrats', 'American humanitarians', 'Rice University alumni', 'People from Kansas City, Kansas', 'University of Kansas alumni', 'Kansas Republicans', 'Kansas State University alumni', 'Members of the Kansas House of Representatives', 'Jewish American politicians', 'New York City Council members', 'Bowling Green State University alumni', 'Case Western Reserve University alumni', 'Members of the Ohio House of Representatives', 'Ohio State Senators', 'Ohio University alumni', 'Ohio State University alumni', 'Ohio Republicans', 'Ohio Democrats', 'Peace Corps volunteers', 'University of Cincinnati alumni', 'People from Toledo, Ohio', 'Ohio Supreme Court justices', 'University of Detroit Mercy alumni', 'People from Grand Rapids, Michigan', 'People from Oakland County, Michigan', 'MIT Sloan School of Management alumni', 'American radio journalists', 'National Public Radio personalities', 'American reporters and correspondents', 'African American journalists', 'Wellesley College alumni', 'Florida State University alumni', 'Florida Democrats', 'Florida State Senators', 'Florida Republicans', 'University of Florida alumni', 'Florida lawyers', 'Western Michigan University alumni', 'African American lawyers', 'People from Oklahoma', 'University of Oklahoma alumni', 'Oklahoma State University alumni', 'People from Oklahoma City, Oklahoma', 'People from Tulsa, Oklahoma', 'People from Assam', 'Law school deans', 'American folk musicians', 'Vertigo Records albums', 'Olympic gold medalists for Hungary', 'Olympic bronze medalists for Russia', 'Olympic water polo players of the United States', 'Olympic medalists in water polo', 'Pan American Games competitors for Canada', 'Royal Family of Hawaii', 'People from Hawaii', 'Malaysian footballers', 'Malaysia international footballers', 'Malaysian Chinese people', 'Malaysian Malay people', 'People imprisoned on charges of terrorism', 'Expatriate footballers in Indonesia', 'People from Jakarta', 'Indonesian footballers', 'Fellows of the Australian Academy of Science', 'Alumni of Imperial College London', 'British electrical engineers', 'Academics of the University of Sheffield', 'Possible cut-and-paste moves', 'Albums with cover art by Hipgnosis', 'People from Shropshire', 'United States Department of Agriculture', 'Latvian footballers', 'Latvia international footballers', 'American restaurateurs', 'American chefs', 'American food writers', 'Argentine musicians', 'Argentine screenwriters', 'Argentine film directors', 'Argentine films', 'Argentine actors', 'Argentine film actors', 'Argentine television actors', 'Spanish-language films', 'Togolese footballers', 'Expatriate footballers in Finland', 'Expatriate footballers in Moldova', 'Dual internationalists (football)', 'FC Amkar Perm players', 'FC Dinamo Barnaul players', 'FC Alania Vladikavkaz players', 'FC Tom Tomsk players', 'FC Elista players', 'Expatriate footballers in Kazakhstan', 'Russian expatriates in Kazakhstan', 'Russian expatriate footballers', 'Russian footballers', 'FC Rubin Kazan players', 'FC Rostov players', 'FC Shinnik Yaroslavl players', 'FC Saturn Moscow Oblast players', 'FC Chernomorets Novorossiysk players', 'Russian Premier League players', 'FC Moscow players', 'FC Anzhi Makhachkala players', 'FC Luch-Energiya Vladivostok players', 'FC Khimki players', 'FC Baltika Kaliningrad players', 'FC Rotor Volgograd players', 'FC Kuban Krasnodar players', 'FC Ural Sverdlovsk Oblast players', 'FC Dynamo Stavropol players', 'FC Krylia Sovetov Samara players', 'FC Volgar-Gazprom Astrakhan players', 'FC Sokol Saratov players', 'FC Terek Grozny players', 'FC KAMAZ Naberezhnye Chelny players', 'FC Zhemchuzhina Sochi players', 'FC Sibir Novosibirsk players', 'FC SKA Rostov players', 'FC Metallurg Lipetsk players', 'FC Volga Nizhny Novgorod players', 'Expatriate footballers in Belarus', 'Expatriate footballers in Latvia', 'Soviet expatriate footballers', 'FC Spartak Moscow players', 'FC Dynamo Moscow players', 'Russian football managers', 'Russia international footballers', 'FC Lokomotiv Moscow players', 'PFC CSKA Moscow players', 'Soviet Union international footballers', 'Soviet footballers', 'Russian Premier League managers', 'FC Torpedo Moscow players', 'FC Zenit Saint Petersburg players', 'Expatriate footballers in Russia', 'Indian mathematicians', 'Deaths from cirrhosis', 'American people of Austrian-Jewish descent', 'American people of Romanian-Jewish descent', 'American people of Polish-Jewish descent', 'Neuroscientists', 'Cognitive scientists', 'Medicare and Medicaid (United States)', 'History of Birmingham, West Midlands', 'People from Tashkent', 'Uzbekistani footballers', 'British Indian Army officers', '19th-century British people', 'Royal Navy personnel of World War II', 'British East India Company Army officers', 'Accidental deaths in England', 'British Army personnel of the Crimean War', 'Crimean War recipients of the Victoria Cross', 'British military personnel killed in World War II', 'Recipients of the Distinguished Conduct Medal', 'Recipients of the Military Medal', 'British World War I recipients of the Victoria Cross', 'British military personnel killed in World War I', 'British Army personnel of World War I', 'Royal Navy recipients of the Victoria Cross', 'British recipients of the Victoria Cross', 'Indian Rebellion of 1857 recipients of the Victoria Cross', 'Royal Navy sailors', 'British military personnel of the Indian Rebellion of 1857', 'Old Stonyhursts', 'Native American sportspeople', 'National Football League owners', 'People of Martiniquais descent', 'Documentary films about music and musicians', 'People from Lucknow', 'Muhajir people', 'American people of Pakistani descent', 'Pakistani journalists', 'Hungarian nobility', 'American people of Hungarian-Jewish descent', '20th-century Hungarian people', 'Hungarian Jews', 'Hungarian writers', 'Hungarian emigrants to the United States', 'CTV Television Network shows', 'LGBT people from Canada', 'Canadian television writers', 'Canadian comedians', 'Articles with inconsistent citation formats', 'Canadian radio personalities', 'Canadian television hosts', 'Canadian television journalists', 'Ryerson University alumni', 'Canadian women journalists', 'Canadian television news anchors', 'Canadian television reporters and correspondents', 'CBC network shows', 'CBC Radio hosts', 'Old Salopians', 'California State University, Northridge alumni', '20th-century Austrian people', 'Indiana University faculty', 'Juilliard School alumni', 'American classical pianists', 'American music educators', 'American violinists', 'American classical violinists', 'Juilliard School faculty', 'New England Conservatory alumni', 'Belgian composers', 'Performers of early music', 'Eastman School of Music alumni', 'United States National Medal of Arts recipients', 'American classical musicians', 'Manhattan School of Music alumni', 'Fiorello H. LaGuardia High School alumni', 'American music critics', 'American musicologists', 'Impresarios', 'Contemporary classical music performers', 'LGBT composers', 'Opera composers', 'American composers', '21st-century classical composers', '20th-century classical composers', 'Jewish classical musicians', 'Curtis Institute of Music alumni', 'American conductors (music)', 'Texas classical music', 'Alumni of the Conservatoire de Paris', 'French conductors (music)', 'Operatic bass-baritones', 'Operatic basses', 'Operatic baritones', 'Operatic tenors', 'Operatic sopranos', 'American opera singers', 'Operatic mezzo-sopranos', 'American sopranos', 'Opera directors', 'French opera singers', 'Opera librettists', 'Chevaliers of the Ordre des Arts et des Lettres', 'Jewish composers and songwriters', 'Honorary Members of the Royal Academy of Music', 'Alumni of the Royal College of Music', 'Alumni of the Royal Academy of Music', 'British composers', 'Alumni of the Guildhall School of Music and Drama', 'English conductors (music)', 'English composers', 'Academics of the Royal College of Music', 'People who emigrated to escape Nazism', 'Ballet composers', 'Romantic composers', 'Honorary Members of the Royal Philharmonic Society', 'English opera singers', 'Clarinetists', 'Baroque composers', 'Music educators', 'Women classical composers', 'American baritones', 'Carnegie Mellon University alumni', 'American musical theatre composers', 'American musical theatre actors', 'American singers', 'Musicals based on novels', 'Broadway musicals', 'Drama Desk Award winners', 'Tony Award winners', 'American theatre managers and producers', 'Dance instructors', 'Cancer deaths in Florida', '19th-century English people', 'English theatre managers and producers', 'Burials at Kensal Green Cemetery', 'Burials at Brompton Cemetery', 'Gilbert and Sullivan performers', 'American murder victims', 'Unsolved murders in the United States', 'People from Manhattan', 'Criminals of New York City', 'American prisoners and detainees', 'Prohibition-era gangsters', 'People murdered in New York', 'American people convicted of tax crimes', 'Prisoners and detainees of the United States federal government', 'American mob bosses', 'American mobsters of Sicilian descent', 'American mobsters of Italian descent', 'Gambino crime family', 'People from Palermo (city)', '20th-century executions', 'People executed for murder', 'Executed American people', 'People executed by hanging', 'Murdersuicides', '20th-century executions by the United States', 'American people convicted of murder', 'People executed by electric chair', 'American murderers of children', 'Duos', 'People convicted of murder by California', 'American prisoners sentenced to death', 'American serial killers', 'American rapists', 'African-American people', 'American prisoners sentenced to life imprisonment', 'People with schizophrenia', 'American people who died in prison custody', '20th-century American people', '20th-century African-American activists', 'History of African-American civil rights', \"African Americans' rights activists\", 'People from Birmingham, Alabama', 'Auburn University alumni', 'Alabama Democrats', 'University of Alabama alumni', 'Members of the United States House of Representatives from Alabama', 'People from Montgomery, Alabama', 'People from Mobile, Alabama', 'People from Huntsville, Alabama', 'American surveyors', 'Albums produced by Steve Albini', 'People from Newport, Rhode Island', 'American colonial people', 'People from Providence, Rhode Island', 'Brown University alumni', 'People from Geneva', 'Christian religious leaders', 'American evangelicals', 'Christian evangelicalism', 'Baptist ministers from the United States', 'American religious writers', 'Christian apologists', 'American Christian clergy', 'Wheaton College (Illinois) alumni', 'American theologians', 'Presbyterian ministers', 'Calvinist ministers and theologians', 'American Presbyterian clergy', '18th-century English people', \"Alumni of Christ's College, Cambridge\", 'Alumni of Emmanuel College, Cambridge', '17th-century writers', 'English religious writers', 'English Christian ministers', '18th-century writers', 'American educationists', 'Alleged witches', 'People acquitted of murder', 'Mathematics education', 'Education in the United States', 'Education reform', 'Early Birds of Aviation', 'French inventors', 'Aviation pioneers', 'Aviation history', 'Accidental deaths in California', 'People from Anchorage, Alaska', 'Discoveries by Tamara Mikhaylovna Smirnova', 'People from Watford', 'Old Fettesians', 'Old Alleynians', 'People from Swansea', 'Newport RFC players', 'People from Newport', 'Rugby union forwards', 'Swansea RFC players', 'Welsh rugby union players', 'Wales international rugby union players', 'London Welsh RFC players', 'Cardiff RFC players', 'Llanelli RFC players', 'Barbarian F.C. players', 'People from Cardiff', 'People from Neath Port Talbot', 'Scottish rugby union players', 'Scotland international rugby union players', 'Cambridge University rugby union players', 'New Zealand rugby union players', 'Harlequin F.C. players', 'Bath Rugby players', 'Ireland international rugby union players', 'Irish rugby union players', 'Rugby union scrum-halves', 'England international rugby union players', 'English rugby union players', 'Rugby union centres', 'Rugby union wings', 'Rugby union flankers', 'Rugby union fullbacks', 'Munster Rugby players', 'Rugby union hookers', 'Australia international rugby union players', 'Australian rugby union players', 'Athletes (track and field) at the 1920 Summer Olympics', 'Academics of the University of Cambridge', \"Fellows of King's College, Cambridge\", 'Alumni of Gonville and Caius College, Cambridge', 'Alumni of Clare College, Cambridge', 'Alumni of Newnham College, Cambridge', 'Alumni of Sidney Sussex College, Cambridge', 'Kent State University alumni', 'Georgia Institute of Technology alumni', 'Georgia Institute of Technology faculty', '20th-century deaths', 'Irish-American culture', 'University of Illinois at UrbanaChampaign faculty', 'University of Illinois at UrbanaChampaign alumni', 'Stuyvesant High School alumni', 'People from Norfolk, Virginia', 'British photographers', 'English photographers', 'American photographers', 'Women photographers', 'French photographers', 'Portrait photographers', 'Australian photographers', 'Japanese photographers', '19th-century photographers', 'Pioneers of photography', 'War photographers', 'American photojournalists', 'People from Texas', 'People from Pittsburgh, Pennsylvania', 'People from the San Francisco Bay Area', 'People from Beaumont, Texas', 'American people of Nigerian descent', 'American sports radio personalities', 'American sports announcers', 'People from Dallas, Texas', 'People from Youngstown, Ohio', 'People from Dayton, Ohio', 'People from Cleveland, Ohio', 'People from Columbus, Ohio', 'People from Akron, Ohio', 'People from Detroit, Michigan', 'People from Jacksonville, Florida', 'People from Florida', 'Players of American football from Massachusetts', 'American sportswriters', 'People from Fort Lauderdale, Florida', 'Michigan Wolverines football coaches', 'College athletic directors in the United States', 'People from San Diego, California', 'American television sports announcers', 'Northwestern Wildcats football players', 'American people of Samoan descent', 'Iowa Hawkeyes football players', 'Pennsylvania State University alumni', 'Players of American football from Wisconsin', 'Players of American football from North Carolina', 'American football halfbacks', 'Michigan Wolverines football players', 'North Carolina Tar Heels football players', 'Louisville Cardinals football players', 'BYU Cougars football players', 'San Jose State Spartans football players', 'Nebraska Cornhuskers football players', 'Kansas State Wildcats football players', 'San Diego State Aztecs football players', 'Missouri Tigers football players', 'Oakland Raiders (AFL) players', 'American Football League All-Star players', 'People from Miami, Florida', 'Illinois Fighting Illini football players', 'Notre Dame Fighting Irish football players', 'High school football coaches in the United States', 'Players of American football from Illinois', 'Players of American football from New York', 'American football officials', 'Tennessee Volunteers football players', 'American football offensive linemen', 'Players of American football from Michigan', 'Pittsburgh Panthers football players', 'Houston Oilers players', 'Colorado Buffaloes football players', 'Texas A&M Aggies football players', 'Washington Huskies football players', 'Georgia Bulldogs football players', 'Florida State Seminoles football players', 'Oklahoma Sooners football players', 'Maryland Terrapins football players', 'Purdue Boilermakers football players', 'USC Trojans football coaches', 'California Golden Bears football players', 'Players of American football from New Jersey', 'LSU Tigers football players', 'Alabama Crimson Tide football players', 'Stanford Cardinal football players', 'Michigan State Spartans football players', 'Sportspeople from Pennsylvania', 'Auburn Tigers football players', 'West Virginia Mountaineers football players', 'College Football Hall of Fame inductees', 'Players of American football from Ohio', 'Players of American football from Texas', 'Miami Hurricanes football players', 'American football fullbacks', 'Los Angeles Raiders players', 'Ohio State Buckeyes football players', 'Dallas Cowboys players', 'St. Louis Rams players', 'American football defensive ends', 'American football centers', 'Chicago Bears players', 'Players of American football from Louisiana', 'American football defensive tackles', 'American football offensive tackles', 'American football offensive guards', 'Florida Gators football players', 'All-American college football players', 'Parade High School All-Americans (football)', 'College football announcers', 'Cincinnati Bengals players', 'Penn State Nittany Lions football players', 'Players of American football from Pennsylvania', 'Los Angeles Rams players', 'Eastern Conference Pro Bowl players', 'Western Conference Pro Bowl players', 'Washington Redskins players', 'American football tight ends', 'Atlanta Falcons players', 'Oakland Raiders players', 'New England Patriots players', 'Seattle Seahawks players', 'Detroit Lions players', 'Green Bay Packers players', 'Kansas City Chiefs players', 'New Orleans Saints players', 'Philadelphia Eagles players', 'American football placekickers', 'Cleveland Browns players', 'New York Giants players', 'San Diego Chargers players', 'American football linebackers', 'American football safeties', 'Players of American football from California', 'American football cornerbacks', 'Denver Broncos players', 'Tampa Bay Buccaneers players', 'New York Jets players', 'Minnesota Vikings players', 'Miami Dolphins players', 'Pro Football Hall of Fame inductees', 'Pittsburgh Steelers players', 'Indianapolis Colts players', 'American football return specialists', 'American football running backs', 'African American players of American football', 'National Conference Pro Bowl players', 'American football quarterbacks', 'National Football League announcers', 'American football wide receivers', 'American Conference Pro Bowl players', 'USC Trojans football players', 'Oregon Ducks football players', 'Baltimore Colts players', 'Texas Longhorns football players', 'UCLA Bruins football players', 'Arizona State Sun Devils football players', 'Kansas Jayhawks football players', 'Rhein Fire players', 'Indiana Hoosiers football players', 'American football defensive linemen', 'American emigrants to Canada', 'Canadian Football Hall of Fame inductees', 'Calgary Stampeders players', 'African American players of Canadian football', 'Toronto Argonauts players', 'Canadian football offensive linemen', 'People from Mississauga', 'Human rights abuses', 'Bagram Theater Internment Facility detainees', 'Year of birth uncertain', 'Medill School of Journalism alumni', 'American journalists', 'American investigative journalists', 'American newspaper reporters and correspondents', 'The New York Times people', 'Pulitzer Prize winners', 'The Washington Post people', 'Nieman Fellows', 'George Polk Award recipients', 'The Wall Street Journal people', 'Irish medical doctors', 'Irish film actors', 'Irish television actors', 'Irish stage actors', 'Irish actors', 'Irish films', 'Women sports announcers', 'Discus throwers', 'Finnish films', 'Finnish-language films', '1940s comedy films', 'Western (genre) comedy films', 'The Three Stooges films', 'Films directed by Jules White', 'V2 Records albums', 'American indie rock musicians', 'Domino Records albums', 'Drag City albums', 'American skateboarders', 'X-Games athletes', 'Olympic medalists in equestrian', 'Dressage riders', 'Olympic medalists in gymnastics', 'Olympic gold medalists for Russia', 'Olympic silver medalists for China', 'Gymnasts at the 1920 Summer Olympics', 'Olympic gold medalists for Great Britain', 'Olympic gold medalists for Norway', 'Olympic medalists in sailing', 'American yacht racers', 'Olympic gold medalists for China', 'Long-distance swimmers', 'Olympic gold medalists for the United States', 'Olympic bronze medalists for the United States', 'Swimmers at the 1984 Summer Olympics', 'Olympic swimmers of Canada', 'Swimmers at the 1988 Summer Olympics', 'Swimmers at the 1976 Summer Olympics', 'Swimmers at the 1980 Summer Olympics', 'Commonwealth Games bronze medallists for England', 'Commonwealth Games silver medallists for England', 'Canadian swimmers', 'Swimmers at the 1992 Summer Olympics', 'Olympic medalists in swimming', 'Male freestyle swimmers', 'Former world record holders in swimming', 'Female freestyle swimmers', 'Medley swimmers', 'Olympic swimmers of Great Britain', 'English swimmers', 'Olympic silver medalists for Australia', 'Olympic silver medalists for the United States', 'Freestyle swimmers', 'Olympic swimmers of the United States', 'American swimmers', 'Swimmers at the 1996 Summer Olympics', 'Male backstroke swimmers', 'Swimmers at the 1972 Summer Olympics', 'Swimmers at the 1936 Summer Olympics', 'Olympic swimmers of Japan', 'Olympic bronze medalists for Japan', 'University of Maryland, College Park faculty', '1993 Copa Amrica players', '1995 Copa Amrica players', 'Emelec footballers', 'Ecuadorian footballers', 'Ecuador international footballers', 'Ecuadorian people of Black African descent', 'Barcelona Sporting Club footballers', 'LDU Quito footballers', 'Women astronomers', 'Canadian people of American descent', 'People from Vancouver', 'Canadian people of Indian descent', 'Canadian poets', 'Canadian journalists', 'Writers from Ontario', 'Canadian women writers', 'Canadian novelists', 'Concordia University alumni', 'Jewish Canadian writers', 'Canadian dramatists and playwrights', 'University of British Columbia alumni', 'Canadian non-fiction writers', 'Canadian columnists', 'Canadian academics', 'University of British Columbia faculty', 'Fellows of the Royal Society of Canada', 'Canadian university and college faculty deans', 'York University faculty', 'Canadian civil servants', 'Canadian historians', 'University of Toronto faculty', 'McGill University faculty', 'Canada Research Chairs', 'Canadian educators', 'The Royal Conservatory of Music alumni', 'Canadian conductors (music)', 'Canadian music educators', 'Canadian composers', 'Canadian philanthropists', 'Canadian businesspeople', 'Officers of the National Order of Quebec', 'Anglophone Quebec people', 'Dalhousie University alumni', 'English emigrants to Canada', 'Canadian Rhodes scholars', 'McMaster University alumni', 'Members of the Order of Ontario', 'Members of the Order of Canada', 'University of Toronto alumni', 'Companions of the Order of Canada', 'Officers of the Order of Canada', 'McGill University alumni', 'National Historic Persons of Canada', 'Canadian Jews', 'English idioms', 'Lithuanian footballers', 'Lithuania international footballers', 'English schoolteachers', 'Athletes (track and field) at the 1924 Summer Olympics', 'Commonwealth Games competitors for Canada', 'Athletes (track and field) at the 1928 Summer Olympics', 'Athletes (track and field) at the 1932 Summer Olympics', 'Commonwealth Games gold medallists for Canada', 'Commonwealth Games competitors for England', 'Commonwealth Games competitors for New Zealand', 'Commonwealth Games silver medallists for New Zealand', 'Athletes (track and field) at the 1936 Summer Olympics', 'Redirects with possibilities', 'Vassar College alumni', 'English rock drummers', 'Rockabilly musicians', 'Rockabilly Hall of Fame inductees', 'Columbia Records compilation albums', 'Decca Records albums', 'Musicians from Missouri', 'Vocal duet albums', 'Musicians from Alabama', 'Musicians from Georgia (U.S. state)', 'Musicians from North Carolina', 'American country musicians', 'Liberty Records artists', 'Country Music Hall of Fame inductees', 'Grand Ole Opry members', 'Musicians from Oklahoma', 'Mercury Records albums', 'Warner Bros. Records albums', 'Liberty Records albums', 'People from Nashville, Tennessee', 'Arista Records albums', 'MCA Records albums', 'American country songwriters', 'MCA Records artists', 'Musicians from Kentucky', 'Musicians from Tennessee', 'American country guitarists', 'American country singer-songwriters', 'American country singers', 'American country music groups', 'Musicians from Texas', 'RCA Records artists', 'Curb Records albums', 'RCA Records albums', 'ITC Distributions', 'Black Canadian musicians', 'Date of birth missing (living people)', 'Canadian record producers', 'Canadian rock guitarists', 'Musicians from Ontario', 'Canadian pop singers', 'Canadian singer-songwriters', 'Canadian female singers', 'Musicians from Toronto', 'Canadian rock singers', 'Canadian male singers', 'Canadian songwriters', 'Juno Award winners', 'Canadian country singers', 'Canadian indie rock musicians', 'American experimental filmmakers', 'Inside Out Music albums', 'Canadian architects', 'Universit de Montral alumni', 'Parti Qubcois MNAs', 'Universit Laval alumni', 'Quebec Liberal Party MNAs', 'Mayors of places in Quebec', 'Alberta Liberal Party MLAs', 'University of Alberta alumni', 'Progressive Conservative Association of Alberta MLAs', 'University of Manitoba alumni', 'Manitoba Liberal Party MLAs', 'Members of the Executive Council of Manitoba', 'Progressive Conservative Party of Manitoba MLAs', 'Members of the Canadian House of Commons from New Brunswick', 'Canadian Methodists', 'Canadian people of British descent', 'Scottish emigrants to Canada', 'American expatriates in Canada', 'Toronto city councillors', 'Lawyers in Quebec', 'Canadian lawyers', 'Canadian people of Scottish descent', 'Members of the Canadian House of Commons from Nova Scotia', 'Canadian military personnel of World War I', 'Canadian people of English descent', 'Trinity College (Canada) alumni', 'Upper Canada College alumni', 'Canadian military personnel of World War II', 'Businesspeople from Ontario', 'Canadian physicians', \"Queen's University alumni\", 'University of Waterloo alumni', 'Canadian knights', 'Canadian diplomats', 'Liberal Party of Canada senators', 'Canadian senators from Quebec', 'Canadian Anglicans', \"Canadian Queen's Counsel\", \"Members of the Queen's Privy Council for Canada\", 'Canadian Presbyterians', 'Carleton University alumni', 'Members of the Canadian House of Commons from Saskatchewan', 'Members of the Canadian House of Commons from Manitoba', 'Conservative Party of Canada (18671942) MPs', 'Canadian people of Irish descent', 'York University alumni', 'Women in Ontario politics', 'New Democratic Party MPs', 'Canadian Roman Catholics', 'Members of the Canadian House of Commons from Ontario', 'Liberal Party of Canada MPs', 'Members of the Canadian House of Commons from Quebec', 'Canadian women Members of Parliament', 'Lawyers in Ontario', 'Progressive Conservative Party of Canada MPs', 'Members of the Canadian House of Commons from British Columbia', 'University of Western Ontario alumni', 'Members of the United Church of Canada', 'University of Ottawa alumni', 'Ontario Liberal Party MPPs', 'Ontario New Democratic Party MPPs', 'Progressive Conservative Party of Ontario MPPs', 'Canadian socialists', 'Franco-Ontarian people', 'Members of the Canadian House of Commons from Alberta', 'People from Brampton', 'Canadian farmers', 'Canadian people of Polish descent', 'Canadian people of Norwegian descent', 'Posthumous albums', 'Posthumous live albums', 'Expatriate footballers in Ukraine', 'People from Kiev', 'FC Kryvbas Kryvyi Rih players', 'FC Volyn Lutsk players', 'FC Shakhtar Donetsk players', 'FC Chornomorets Odessa players', 'Ukraine international footballers', 'FC Arsenal Kyiv players', 'FC Vorskla Poltava players', 'FC Metalurh Zaporizhya players', 'FC Metalist Kharkiv players', 'FC Metalurh Donetsk players', 'FC Dynamo Kyiv players', 'FC Dnipro Dnipropetrovsk players', 'Ukrainian football managers', 'Ukrainian footballers', 'Ukrainian expatriate footballers', 'SC Tavriya Simferopol players', 'FC Zorya Luhansk players', 'FC Karpaty Lviv players', 'Chinese emigrants to the United States', 'American people of Chinese descent', 'People from Bratislava', 'Slovak First League players', 'Association football strikers', 'K Slovan Bratislava players', 'FC Spartak Trnava players', 'Slovakia international footballers', 'MFK Koice players', 'Slovak footballers', 'Slovak expatriate footballers', 'Slovak Superliga players', 'Expatriate footballers in the Czech Republic', 'MK ilina players', 'Expatriate footballers in Slovakia', 'Czechoslovak footballers', 'Czechoslovakia international footballers', 'FC Slovan Liberec players', 'SK Slavia Prague players', 'FC Bank Ostrava players', 'Gambrinus liga players', 'AC Sparta Prague players', 'Czech expatriate footballers', 'Czech Republic international footballers', 'Czech footballers', 'FC Zbrojovka Brno players', 'Czech football managers', 'Blind people', 'Soviet art', 'People from Saint Petersburg', 'Soviet emigrants to the United States', 'Russian people of Ukrainian descent', 'Russian inventors', 'Recipients of the Order of the Red Banner of Labour', 'Members of the Russian Academy of Sciences', 'Heroes of Socialist Labour', 'Russian Jews', 'Saint Petersburg State University alumni', 'People from Moscow', 'Russian journalists', 'Russian writers', 'Pseudonymous writers', 'Taiwanese film actors', 'People from Taipei', 'American people of Taiwanese descent', 'Taiwanese films', 'National Taiwan University alumni', 'Muslim generals', 'Communist Party of Great Britain members', 'Marxist journalists', 'Marxist historians', 'Marxist writers', 'American motivational speakers', 'American self-help writers', 'American spiritual writers', 'Expatriate footballers in Denmark', 'Boldklubben Frem players', 'Denmark international footballers', 'Danish expatriate footballers', 'Brndby IF players', 'Danish footballers', 'Denmark under-21 international footballers', 'Danish Superliga players', 'F.C. Copenhagen players', 'AaB Fodbold players', 'Odense Boldklub players', 'Lyngby Boldklub players', 'Vejle Boldklub players', 'Danish football managers', 'Aarhus Gymnastikforening players', 'Footballers at the 1980 Summer Olympics', 'Kabyle people', 'Algerian footballers', 'Algeria international footballers', 'Algerian Ligue Professionnelle 1 players', 'Algeria under-23 international footballers', 'People from Algiers', 'Algerian expatriate footballers', 'Expatriate footballers in Venezuela', 'Expatriate footballers in Peru', 'Expatriate footballers in Paraguay', 'Expatriate footballers in Bolivia', 'Arab Christians', 'Argentine journalists', 'Argentine people of Spanish descent', 'Justicialist Party politicians', 'Members of the Argentine Chamber of Deputies', 'Members of the Argentine Senate', 'University of Buenos Aires alumni', 'Argentine people of Italian descent', 'Argentine people of German descent', 'Expatriate footballers in Chile', 'People from Crdoba, Argentina (city)', 'Expatriate footballers in Brazil', 'Lans footballers', 'Argentine expatriate sportspeople in Italy', 'Argentine expatriate footballers', 'Argentina international footballers', 'Argentine expatriate sportspeople in Spain', 'Huracn footballers', 'Club Atltico Independiente footballers', 'River Plate footballers', 'Argentine expatriate sportspeople in France', 'Boca Juniors footballers', 'Argentine football managers', 'Argentine footballers', 'Primera Divisin Argentina players', 'Sportspeople from Buenos Aires', 'People from Buenos Aires Province', 'Vlez Srsfield footballers', 'Racing Club footballers', 'San Lorenzo footballers', 'Chacarita Juniors footballers', 'Club Atltico Platense footballers', 'Banfield footballers', 'Unin de Santa Fe footballers', 'Argentinos Juniors footballers', 'Talleres footballers', 'Estudiantes de La Plata footballers', 'Quilmes footballers', 'Olimpo footballers', 'Rosario Central footballers', 'Expatriate footballers in Mexico', 'Gimnasia y Esgrima de La Plata footballers', 'Coln de Santa Fe footballers', 'Ferro Carril Oeste footballers', 'Nueva Chicago footballers', 'Expatriate footballers in Uruguay', 'Expatriate footballers in Colombia', 'Expatriate footballers in Ecuador', 'People from Crdoba Province (Argentina)', \"Newell's Old Boys footballers\", 'People from Santa Fe Province', 'People from Rosario, Santa Fe', 'Argentine football clubs', 'Arsenal de Sarand footballers', 'Tigre footballers', 'Argentine Jews', 'People from Buenos Aires', 'Railway accidents in England', 'British engineers', 'Mechanical engineers', 'British people in rail transport', 'Locomotive builders and designers', 'Nigeria international footballers', 'Nigerian expatriate footballers', 'Nigerian footballers', 'World War II political leaders', 'Japanese military personnel of World War II', 'Japanese generals', 'Recipients of the Order of the Rising Sun', 'Chinese philosophers', '2nd-century births', 'People from Teaneck, New Jersey', 'Pennsylvania State University', 'Motocross riders', 'Motorcycle Hall of Fame inductees', 'American motorcycle racers', 'People from Augsburg', 'People from Greensboro, North Carolina', 'Washington & Jefferson College alumni', 'People from Washington County, Pennsylvania', \"People from St. John's, Newfoundland and Labrador\", 'Footballers at the 1936 Summer Olympics', '1938 FIFA World Cup players', 'People from d', 'People from Pozna', 'Olympic silver medalists for Poland', 'Polish football managers', 'Cracovia players', 'People from Krakw', 'Legia Warsaw players', 'Ruch Chorzw players', 'Zagbie Lubin players', 'Polonia Warsaw players', 'KS d players', 'Grnik Zabrze players', 'Polish footballers', 'Poland international footballers', 'Polish expatriate footballers', 'Ekstraklasa players', 'Wisa Krakw players', 'Widzew d players', 'Lech Pozna players', 'University of San Francisco alumni', 'Portuguese Roman Catholics', 'American centenarians', '18th-century Spanish people', '20th-century Christian saints', 'Brazilian Jews', 'Romantic poets', 'Brazilian people of Portuguese descent', 'People from Yonkers, New York', 'Marine engineers and naval architects', 'Soviet Union  United Kingdom relations', 'Clippers', 'American sailors', 'Latin Grammy Award winners', 'Spanish-language albums', 'Spanish-language singers', 'American people of Mexican descent', 'Mexican people of Spanish descent', 'People from Mexico City', 'Mexican expatriates in the United States', 'Mexican female singers', 'Mexican telenovela actors', 'Mexican film actors', 'Mexican television actors', 'Mexican people of Italian descent', 'Nahuatl words and phrases', 'Colonial Mexico', 'People from Monterrey', 'National Autonomous University of Mexico alumni', 'Mexican people of Basque descent', 'Rock en Espaol musicians', 'Mexican films', 'American musicians of Mexican descent', 'Parsi people', 'Indian businesspeople', 'Businesspeople in software', 'Canon law jurists', 'People from Malm', 'Olympic footballers of Sweden', 'Halmstads BK players', 'Malm FF players', 'Helsingborgs IF players', 'AIK Fotboll players', 'Allsvenskan players', 'Djurgrdens IF Fotboll players', 'Sweden international footballers', 'Swedish footballers', 'IFK Gteborg players', 'Swedish expatriate footballers', 'Swedish football managers', 'Expatriate footballers in Sweden', 'Speed skaters at the 2010 Winter Olympics', 'Speed skaters at the 2006 Winter Olympics', 'Sportspeople from Saskatchewan', 'Norwegian speed skaters', 'Olympic speed skaters of Norway', 'Olympic medalists in speed skating', 'Olympic bronze medalists for Austria', 'Olympic medalists in shooting', 'ISSF pistol shooters', 'Olympic silver medalists for Germany', 'Sportspeople from Alberta', 'American sport shooters', 'ISSF rifle shooters', 'Shooters at the 1920 Summer Olympics', 'Shooters at the 1912 Summer Olympics', 'Shooters at the 1908 Summer Olympics', 'Holmenkollen medalists', 'Olympic bronze medalists for Switzerland', 'German lugers', 'International Olympic Committee members', 'Works originally published in American magazines', 'Roboticists', 'Missing people', 'Order of Merit for the Fatherland recipients', 'People of the Chechen wars', 'KGB officers', 'People from Bath, Somerset', 'American explorers', 'Explorers of the Arctic', 'Explorers of Canada', 'Mercenaries', 'Virginia Tech alumni', '1970s Western films', 'Spaghetti Western actors', '1960s Western films', 'Spaghetti Westerns', 'Slovenian footballers', 'Slovenian expatriate footballers', 'Slovenia international footballers', 'NK Olimpija Ljubljana players', 'NK Maribor players', 'People from Orissa', 'University of Colorado faculty', 'University of Chicago alumni', 'American economics writers', 'Carnegie Mellon University faculty', 'Massachusetts Institute of Technology alumni', 'Northwestern University faculty', 'Economic historians', 'Harvard University faculty', 'University of Pennsylvania faculty', 'Canadian economists', 'University of Minnesota faculty', 'English economists', 'British economists', 'Academics of the London School of Economics', 'University of Chicago faculty', 'American economists', 'Fellows of the Econometric Society', 'French economists', 'Old Cliftonians', 'People from Marin County, California', 'University of Southern California faculty', 'Rhode Island School of Design alumni', 'University of Rochester alumni', 'Technology in society', 'Internet culture', 'Internet activism', 'Social networks', 'Internet television', 'Video game culture', 'Urban legends', 'British comics artists', 'Dot-com', 'Yahoo!', 'Poster artists', 'American graphic designers', 'Typography', 'Women in technology', 'National Medal of Technology recipients', 'Free software culture and documents', 'Free software programmers', 'ZX Spectrum games', 'American video game designers', 'Video game designers', 'Video game programmers', 'Action video games', 'Video game composers', 'IOS games', 'Nintendo DS games', 'Video games developed in the United States', 'Game Boy Advance games', 'Interactive Achievement Award winners', 'Wii games', 'Game Boy Advance-only games', 'American video game actors', 'Mecha anime and manga', 'Funimation voice actors', 'Drama anime and manga', 'Romance anime and manga', 'Science fiction anime and manga', 'Anime with original screenplays', 'Adventure anime and manga', 'Anime films', 'Japanese voice actors', 'Fantasy anime and manga', 'Anime OVAs', 'Madhouse (company)', 'Olympic medalists in archery', 'Archers at the 2008 Summer Olympics', 'Archers at the 2004 Summer Olympics', 'Female comics writers', 'Female comics artists', 'Board game designers', '2006 soundtracks', 'People from Skopje', 'History (TV channel) original programs', 'Avex Group albums', '2003 video albums', '2007 video albums', '2007 AFC Asian Cup players', '2000 AFC Asian Cup players', '2011 AFC Asian Cup players', '1996 AFC Asian Cup players', '2004 AFC Asian Cup players', 'Asian Games gold medalists for Iran', 'Persepolis F.C. players', 'Esteghlal F.C. players', 'Iranian footballers', 'Iran international footballers', 'Pas players', 'Expatriate footballers in Iran', 'United Arab Emirati footballers', 'Armenian footballers', 'Armenia international footballers', 'Armenian expatriate footballers', 'People from Yerevan', 'Turkish-language films', 'Turkish films', 'Films set in Turkey', 'American entertainment industry businesspeople', 'American television films', 'Tunisian footballers', 'Tunisia international footballers', 'Old Citizens (City of London School)', 'British archaeologists', 'English archaeologists', 'Orthodox monarchs', '6th-century births', '6th-century Byzantine people', '1951 films', 'American set decorators', 'TR35 winners', 'Central bankers', 'People from Scarborough, North Yorkshire', 'People from Reading, Berkshire', 'People from Brighton', 'Georgian architecture', 'Alumni of Durham University', 'Alumni of Trinity College, Oxford', \"Alumni of St John's College, Oxford\", 'Old Merchant Taylors', 'Alumni of Fitzwilliam College, Cambridge', \"Fellows of King's College London\", 'Old Lancing', \"Alumni of King's College, Cambridge\", 'Royal Naval Volunteer Reserve personnel of World War II', 'Old Marlburians', 'Alumni of Keble College, Oxford', \"Alumni of St Catharine's College, Cambridge\", 'Alumni of Corpus Christi College, Cambridge', 'Alumni of St Edmund Hall, Oxford', '19th-century Anglican bishops', \"Alumni of King's College London\", '20th-century Anglican archbishops', 'Alumni of the University of Leeds', '20th-century Anglican bishops', 'Alumni of Trinity College, Dublin', 'Irish Anglicans', 'Old Haileyburians', \"Alumni of St John's College, Cambridge\", 'Old Cholmeleians', 'Alumni of Jesus College, Cambridge', 'Old Rossallians', 'Old Paulines', \"Alumni of Queens' College, Cambridge\", 'Alumni of Peterhouse, Cambridge', 'Old Uppinghamians', \"Fellows of St John's College, Cambridge\", 'Alumni of Pembroke College, Cambridge', 'Old Reptonians', 'Archbishops of York', 'Archbishops of Canterbury', 'Bishops of Hereford', 'Bishops of Rochester', 'Bishops of Worcester', 'Bishops of London', '13th-century Roman Catholic bishops', '15th-century Roman Catholic bishops', '14th-century Roman Catholic bishops', 'Church of England clergy', 'Knights Grand Cross of the Order of St. Olav', 'Knights of the Elephant', 'Honorary Knights Grand Cross of the Royal Victorian Order', 'People from Potsdam', 'Recipients of the Order of the Black Eagle', 'People from Hanover', 'People from Karlsruhe', 'People from Westminster', 'British countesses', 'British monarchy', 'Honorary Knights Grand Cross of the Order of the Bath', 'American magicians', 'Professional magicians', 'Deaths from tuberculosis', 'People from Turin (city)', 'Hungarian princesses', 'People from Dresden', 'Knights of the Golden Fleece', 'Heirs apparent who never acceded', 'Deaths from smallpox', 'French Roman Catholics', 'People from Paris', 'Female regents', 'Roman Catholic monarchs', 'History of France', '17th-century French people', 'Recipients of the Order of the Holy Spirit', '18th-century French people', 'House of Wittelsbach', 'Italian nobility', 'Sri Lankan Hindus', 'Mockbusters', 'Television soundtracks']\n"
     ]
    }
   ],
   "source": [
    "print(cate)"
   ]
  },
  {
   "cell_type": "markdown",
   "metadata": {},
   "source": [
    "### Definition of in-degree centrality\n",
    "\n",
    "We define in_degree centrality as the number of in-coming links, or the number of predecessor nodes, because we found that it also exists the out-degree centrality that is the number of out-going links, or the number of successor nodes."
   ]
  },
  {
   "cell_type": "code",
   "execution_count": 29,
   "metadata": {},
   "outputs": [],
   "source": [
    "def rq3(G, C):\n",
    "    \n",
    "    if C in cate:   #checking if C is a proper category as defined previously\n",
    "        \n",
    "        a=(category_set[category_set.Category==C].Articles).tolist()[0].split()\n",
    "        for j in range(len(a)):\n",
    "            a[j]=int(a[j])\n",
    "        E=G.subgraph(a)   #creating the subgraph corresponding to the category C\n",
    "        e=list(E.edges)\n",
    "        n=list(E.nodes)\n",
    "        \n",
    "        if len(e)>0:\n",
    "            #create a dictionnary that stores for each article in C the id of the article and the incomming edges\n",
    "            dic={}\n",
    "            for i in range(len(n)):\n",
    "                dic[n[i]]=[]\n",
    "            for i in range(len(e)):\n",
    "                temp=e[i][1]\n",
    "                if temp in dic.keys():\n",
    "                    dic[e[i][1]].append(e[i][0])\n",
    "            #print(dic)\n",
    "            \n",
    "            #computation of the in-degree centrality\n",
    "            maxi=0\n",
    "            article=0\n",
    "            for i in dic.keys():\n",
    "                if len(dic[i])>=maxi:\n",
    "                    maxi=len(dic[i])\n",
    "                    article=i\n",
    "            \n",
    "            \"following part is just to make sure we are not falling in the computation of the in_degree_center of C\"\n",
    "            #test=nx.in_degree_centrality(H)\n",
    "            #test={k: v for k, v in sorted(test.items(), key=lambda item: item[1])}\n",
    "            #t=list(test.keys())[-1]\n",
    "            #print(article, t)\n",
    "            \n",
    "            #counting the total number of clicks in \"path\" or print \"Not possible\" if the subgraph is not connected\n",
    "            path=0\n",
    "            temp=0\n",
    "            for i in range(len(n)):\n",
    "                if (n[i] in dic[article]):\n",
    "                    path+=nx.shortest_path_length(E, source=n[i],target=article)\n",
    "                elif n[i]!=article:\n",
    "                    temp=1\n",
    "                    break \n",
    "            if temp==1:\n",
    "                sol='Not possible'\n",
    "            else:\n",
    "                sol=str(path)\n",
    "        else:\n",
    "            sol='Not possible'\n",
    "    else:\n",
    "        sol='Not possible'\n",
    "    \n",
    "    return sol"
   ]
  },
  {
   "cell_type": "code",
   "execution_count": 30,
   "metadata": {},
   "outputs": [
    {
     "data": {
      "text/plain": [
       "'3'"
      ]
     },
     "execution_count": 30,
     "metadata": {},
     "output_type": "execute_result"
    }
   ],
   "source": [
    "a=rq3(G,'American female soccer players')\n",
    "a"
   ]
  },
  {
   "cell_type": "markdown",
   "metadata": {},
   "source": [
    "Run over all categories in 'cate':"
   ]
  },
  {
   "cell_type": "code",
   "execution_count": 31,
   "metadata": {},
   "outputs": [
    {
     "name": "stdout",
     "output_type": "stream",
     "text": [
      "Greek Orthodox Patriarchs of Alexandria 1\n",
      "Mishnah rabbis 2\n",
      "Egyptian saints 1\n",
      "Continental philosophers 2\n",
      "Popes of the Coptic Orthodox Church of Alexandria 1\n",
      "People from Shizuoka Prefecture 2\n",
      "People from Kanagawa Prefecture 1\n",
      "Members of the Parliament of Norway 1\n",
      "Spanish generals 2\n",
      "Popes 1\n",
      "Italian popes 1\n",
      "Recipients of the Order of the White Eagle (Poland) 1\n",
      "1st-century Romans 1\n",
      "2nd-century Romans 1\n",
      "2nd-century BC Romans 1\n",
      "Recipients of the Cross of the Order of Merit of the Federal Republic of Germany 1\n",
      "Irish Gaelic poets 1\n",
      "Medieval Irish writers 1\n",
      "Motagua players 1\n",
      "Doges of Venice 1\n",
      "New York Americans players 0\n",
      "Montreal Canadiens players 1\n",
      "Canadian ice hockey centres 0\n",
      "Ice hockey people from Quebec 0\n",
      "German-American history 1\n",
      "North Carolina State Senators 1\n",
      "Algonquian personal names 1\n",
      "Women state legislators in Minnesota 1\n",
      "Members of the Minnesota House of Representatives 2\n",
      "Members of the Executive Council of New Brunswick 1\n",
      "Tom and Jerry cartoons 1\n",
      "Samurai 1\n",
      "People in Meiji period Japan 1\n",
      "Kazoku 1\n",
      "Ottoman Armenians 1\n",
      "Pashas 1\n",
      "History of Bosnia and Herzegovina 1\n",
      "National and Kapodistrian University of Athens alumni 1\n",
      "American ecclesiastical architects 1\n",
      "Architects of Roman Catholic churches 1\n",
      "English officers of arms 1\n",
      "Sindhi people 2\n",
      "Pakistani Shi'a Muslims 2\n",
      "Pakistani politicians 1\n",
      "Pakistani Sunni Muslims 1\n",
      "Spanish explorers 2\n",
      "German cyclists 2\n",
      "English cyclists 1\n",
      "Table tennis players at the 2008 Summer Olympics 1\n",
      "Olympic athletes of Greece 2\n",
      "Sub Pop artists 2\n",
      "Members of the Legislative Assembly of Upper Canada 1\n",
      "Canada  United States relations 1\n",
      "Olympic medalists in volleyball 1\n",
      "Volleyball players at the 1988 Summer Olympics 1\n",
      "Volleyball players at the 1992 Summer Olympics 1\n",
      "American volleyball players 1\n",
      "Indian stage actors 0\n",
      "Members of the Socialist Party of America 1\n",
      "University of New South Wales alumni 1\n",
      "New South Wales Liberal politicians 1\n",
      "People from Chiinu 1\n",
      "Historic preservation 2\n",
      "Rounder Records albums 2\n",
      "Olympic gold medalists for Yugoslavia 1\n",
      "Olympic gold medalists for Italy 1\n",
      "English female footballers 1\n",
      "American female soccer players 3\n",
      "British boxers 1\n",
      "Olympic boxers of the United States 1\n",
      "Dutch nobility 3\n",
      "German astronomers 1\n",
      "People from Essen 1\n",
      "New York Knicks players 1\n",
      "Amateur Athletic Union men's basketball players 1\n",
      "Contemporary sculptors 1\n",
      "20th-century sculptors 1\n",
      "21st-century sculptors 1\n",
      "Rowers at the 1952 Summer Olympics 1\n",
      "New Zealand rowers 6\n",
      "American high jumpers 2\n",
      "Athletes (track and field) at the 1900 Summer Olympics 1\n",
      "Judoka at the 2008 Summer Olympics 1\n",
      "Asian Games medalists in judo 1\n",
      "American folklore 1\n",
      "Indian Roman Catholics 1\n",
      "Marathi-language writers 1\n",
      "People associated with the American Museum of Natural History 1\n",
      "World War II prisoners of war held by the United Kingdom 1\n",
      "Explorers of Africa 1\n",
      "17th-century Spanish people 1\n",
      "Holocaust perpetrators 1\n",
      "People associated with computer security 1\n",
      "Scotland national rugby league team players 1\n",
      "Irish rugby league players 1\n",
      "Australian male tennis players 1\n",
      "6th-century rulers in Europe 1\n",
      "History of Sheffield 3\n",
      "9th-century rulers in Europe 1\n",
      "Sinn Fin politicians 1\n",
      "Members of the United States House of Representatives from Iowa 1\n",
      "Pan American Games competitors for Canada 2\n",
      "Royal Family of Hawaii 3\n",
      "FC Chernomorets Novorossiysk players 1\n",
      "Muhajir people 1\n",
      "Performers of early music 1\n",
      "Ballet composers 1\n",
      "English opera singers 1\n",
      "Clarinetists 1\n",
      "Albums produced by Steve Albini 1\n",
      "Scotland international rugby union players 1\n",
      "Rugby union fullbacks 1\n",
      "Michigan Wolverines football coaches 1\n",
      "Swimmers at the 1984 Summer Olympics 2\n",
      "Swimmers at the 1976 Summer Olympics 1\n",
      "Commonwealth Games bronze medallists for England 1\n",
      "Medley swimmers 1\n",
      "Olympic swimmers of Japan 1\n",
      "Olympic bronze medalists for Japan 2\n",
      "Quebec Liberal Party MNAs 1\n",
      "Soviet art 1\n",
      "Locomotive builders and designers 1\n",
      "World War II political leaders 3\n",
      "Japanese military personnel of World War II 1\n",
      "Cracovia players 1\n",
      "18th-century Spanish people 1\n",
      "Norwegian speed skaters 1\n",
      "Olympic bronze medalists for Austria 1\n",
      "Olympic silver medalists for Germany 1\n",
      "Olympic bronze medalists for Switzerland 1\n",
      "People of the Chechen wars 1\n",
      "Internet television 1\n",
      "Dot-com 1\n",
      "Archers at the 2008 Summer Olympics 1\n",
      "14th-century Roman Catholic bishops 1\n",
      "Sri Lankan Hindus 1\n"
     ]
    }
   ],
   "source": [
    "for i in range(len(cate)):\n",
    "    a=rq3(G,cate[i])\n",
    "    if a!='Not possible':\n",
    "        print(cate[i] + ' ' +a)"
   ]
  },
  {
   "cell_type": "markdown",
   "metadata": {},
   "source": [
    "### RQ3 -Try on an example that shoud work"
   ]
  },
  {
   "cell_type": "code",
   "execution_count": 32,
   "metadata": {},
   "outputs": [
    {
     "name": "stdout",
     "output_type": "stream",
     "text": [
      "           edge_a  edge_b\n",
      "6176         1088    1087\n",
      "11236592   743828    1087\n",
      "15166737  1028633    1087\n",
      "16304007  1062055    1087\n",
      "16392068  1062794    1087\n",
      "16472633  1063918    1087\n",
      "18330537  1161300    1087\n",
      "18347147  1161782    1087\n"
     ]
    }
   ],
   "source": [
    "gp=data.groupby(['edge_b'])\n",
    "for j,D in gp:\n",
    "    if j==1087:\n",
    "        print(D)\n",
    "        break"
   ]
  },
  {
   "cell_type": "code",
   "execution_count": 47,
   "metadata": {},
   "outputs": [],
   "source": [
    "l=D['edge_a'].tolist()\n",
    "l.append(1087)\n",
    "E=G.subgraph(l)"
   ]
  },
  {
   "cell_type": "code",
   "execution_count": 48,
   "metadata": {},
   "outputs": [
    {
     "name": "stdout",
     "output_type": "stream",
     "text": [
      "[1088, 1062055, 1062794, 1063918, 743828, 1161300, 1161782, 1028633, 1087]\n",
      "[(1088, 1087), (1062055, 1087), (1062794, 1087), (1063918, 1087), (743828, 1087), (1161300, 1087), (1161782, 1087), (1028633, 1087), (1087, 1088), (1087, 743828), (1087, 1028633), (1087, 1062055), (1087, 1063918), (1087, 1161782)]\n"
     ]
    }
   ],
   "source": [
    "print(E.nodes)\n",
    "print(E.edges)"
   ]
  },
  {
   "cell_type": "code",
   "execution_count": 49,
   "metadata": {},
   "outputs": [
    {
     "name": "stdout",
     "output_type": "stream",
     "text": [
      "14\n",
      "{1088: [1087], 1062055: [1087], 1062794: [], 1063918: [1087], 743828: [1087], 1161300: [], 1161782: [1087], 1028633: [1087], 1087: [1088, 1062055, 1062794, 1063918, 743828, 1161300, 1161782, 1028633]}\n",
      "1087\n"
     ]
    }
   ],
   "source": [
    "e=list(E.edges)\n",
    "n=list(E.nodes)\n",
    "\n",
    "print(len(e))\n",
    "#create a dictionnary that stores for each article in a given category the id of the article and the incomming edges\n",
    "dic={}\n",
    "for i in range(len(n)):\n",
    "    dic[n[i]]=[]\n",
    "for i in range(len(e)):\n",
    "    temp=e[i][1]\n",
    "    if temp in dic.keys():\n",
    "        dic[e[i][1]].append(e[i][0])\n",
    "\n",
    "print(dic)\n",
    "\n",
    "#computation of the in-degree centrality\n",
    "maxi=0\n",
    "article=0\n",
    "for i in dic.keys():\n",
    "    if len(dic[i])>maxi:\n",
    "        maxi=len(dic[i])\n",
    "        article=i\n",
    "\n",
    "print(article)"
   ]
  },
  {
   "cell_type": "code",
   "execution_count": 50,
   "metadata": {},
   "outputs": [
    {
     "name": "stdout",
     "output_type": "stream",
     "text": [
      "8\n"
     ]
    }
   ],
   "source": [
    "path=0\n",
    "temp=0\n",
    "for i in range(len(n)):\n",
    "    if (n[i] in dic[article]):\n",
    "        path+=nx.shortest_path_length(E, source=n[i],target=article)\n",
    "    elif n[i]!=article:\n",
    "        temp=1\n",
    "        break \n",
    "if temp==1:\n",
    "    sol='Not possible'\n",
    "else:\n",
    "    sol=str(path)\n",
    "print(sol)"
   ]
  },
  {
   "cell_type": "markdown",
   "metadata": {},
   "source": [
    "We can see that on an example we created where we ensured that it exists a node connected with all over nodes in the subgraph, the algorithm ran successfully."
   ]
  },
  {
   "cell_type": "markdown",
   "metadata": {},
   "source": [
    "### RQ4\n",
    "Given in input two categories: C1 and C2, we get the subgraph induced by all the articles in the two categories.\n",
    "\n",
    "Let v and u two arbitrary pages in the subgraph. What is the minimum set of hyperlinks one can remove to disconnect u and v?"
   ]
  },
  {
   "cell_type": "markdown",
   "metadata": {},
   "source": [
    "    First, given an category, create the subgraph with the nodes of this category. The fuction SubG, is responsible to, given a category, output a subgraph of G with the articles of the category especified."
   ]
  },
  {
   "cell_type": "code",
   "execution_count": 51,
   "metadata": {},
   "outputs": [],
   "source": [
    "def SubG(G, C):\n",
    "    \n",
    "    if C in cate:   #checking if C is a proper category as defined previously\n",
    "        \n",
    "        a=(category_set[category_set.Category==C].Articles).tolist()[0].split()\n",
    "        for j in range(len(a)):\n",
    "            a[j]=int(a[j])\n",
    "        E=G.subgraph(a)   #creating the subgraph corresponding to the category C\n",
    "    return(E)"
   ]
  },
  {
   "cell_type": "markdown",
   "metadata": {},
   "source": [
    "    Now, given two different categories, the function rq4 create a subgraph with the two categories and output it."
   ]
  },
  {
   "cell_type": "code",
   "execution_count": 52,
   "metadata": {},
   "outputs": [],
   "source": [
    "def rq4(a,b):\n",
    "    S1=SubG(G,a)\n",
    "    S2=SubG(G,b)\n",
    "    Sub=nx.compose(S1,S2)\n",
    "    return(Sub)"
   ]
  },
  {
   "cell_type": "markdown",
   "metadata": {},
   "source": [
    "    Here, we decide to use the categories 'Romania international footballers' and 'Romanian footballers' to test the fuction and print the resulted graph."
   ]
  },
  {
   "cell_type": "code",
   "execution_count": 53,
   "metadata": {},
   "outputs": [],
   "source": [
    "#In this cell we define the two categories\n",
    "cat_a='Romania international footballers'\n",
    "cat_b='Romanian footballers'"
   ]
  },
  {
   "cell_type": "code",
   "execution_count": 54,
   "metadata": {},
   "outputs": [
    {
     "data": {
      "image/png": "[encoded data removed]",
      "text/plain": [
       "<Figure size 432x288 with 1 Axes>"
      ]
     },
     "metadata": {},
     "output_type": "display_data"
    }
   ],
   "source": [
    "test=rq4(cat_a,cat_b)\n",
    "nx.draw_spring(test, with_labels=True, node_size=100)"
   ]
  },
  {
   "cell_type": "markdown",
   "metadata": {},
   "source": [
    "    With the graph, we first take a look over the degree of the nodes, to better choose an example to our algorithm."
   ]
  },
  {
   "cell_type": "code",
   "execution_count": 55,
   "metadata": {},
   "outputs": [
    {
     "data": {
      "text/plain": [
       "InDegreeView({27650: 1, 88836: 7, 27653: 1, 1360509: 1, 27401: 0, 28041: 0, 76809: 1, 76810: 4, 76811: 7, 27663: 1, 27154: 1, 28057: 0, 27548: 0, 27676: 1, 27294: 1, 27295: 0, 27679: 1, 27553: 1, 27682: 0, 27300: 5, 27301: 1, 734630: 1, 27303: 3, 27560: 1, 27561: 3, 27434: 1, 27562: 0, 27564: 2, 27565: 7, 27310: 1, 27687: 0, 27568: 4, 27689: 2, 27570: 2, 27571: 0, 27316: 5, 27317: 1, 1620906: 0, 27575: 2, 27321: 1, 27450: 1, 27835: 1, 27836: 1, 896552: 0, 27582: 1, 27455: 0, 27200: 0, 27586: 2, 27459: 0, 27587: 1, 27589: 0, 27590: 1, 27207: 1, 27593: 1, 27469: 0, 27601: 0, 27602: 0, 895997: 1, 27348: 1, 27604: 0, 896081: 0, 27608: 1, 27614: 0, 27616: 1, 27492: 3, 85608: 1, 27497: 2, 737640: 0, 27755: 2, 27376: 1, 27249: 1, 27504: 0, 27765: 1, 27638: 0, 27766: 2, 27000: 0, 27645: 2, 1457535: 0, 76807: 0, 27151: 0, 27673: 1, 27193: 1, 370234: 1, 104520: 1, 27767: 1, 27274: 1, 27293: 0, 27805: 1, 27825: 0, 27333: 0, 27346: 1, 26873: 0, 27391: 0, 27405: 0, 27423: 0, 27442: 3, 27467: 1, 27481: 1, 27485: 1, 28009: 1, 27502: 1, 27528: 0, 28044: 1, 27559: 3, 27060: 0, 27062: 1, 27576: 2, 623031: 1, 27583: 0, 27588: 1, 27597: 0, 27103: 0, 436205: 0})"
      ]
     },
     "execution_count": 55,
     "metadata": {},
     "output_type": "execute_result"
    }
   ],
   "source": [
    "test.in_degree()"
   ]
  },
  {
   "cell_type": "markdown",
   "metadata": {},
   "source": [
    "    Arbitrary, we choose the nodes '27316' and '27568' as an example because of the higher degree, so that they have a higher probability of having different paths."
   ]
  },
  {
   "cell_type": "code",
   "execution_count": 56,
   "metadata": {},
   "outputs": [],
   "source": [
    "#In this cell we define the two articles by number e by the name\n",
    "node_a=27316\n",
    "node_b=27568\n",
    "article_a=labels[node_a]\n",
    "article_b=labels[node_b]"
   ]
  },
  {
   "cell_type": "code",
   "execution_count": 57,
   "metadata": {},
   "outputs": [],
   "source": [
    "paths = nx.all_simple_paths(test, source=node_a, target=node_b)\n",
    "eu=list(paths)"
   ]
  },
  {
   "cell_type": "markdown",
   "metadata": {},
   "source": [
    "    If each path between nodes is composed by different edges, the number of hyperlinks to be deleted is solved. But first we check if the paths have the same edges.\n",
    "    First part of the code, we receive the nodes from the function of the given paths and transform them into the edges using the fuction 'node_path_to_edges'."
   ]
  },
  {
   "cell_type": "code",
   "execution_count": 58,
   "metadata": {},
   "outputs": [],
   "source": [
    "def node_path_to_edges(eu):\n",
    "    for j in range(0,len(eu)):\n",
    "        aux=eu[j]\n",
    "        aux3=[]\n",
    "        for i in range(0,len(aux)-1):\n",
    "            aux2=(aux[i],aux[i+1])\n",
    "            aux3.append(aux2)\n",
    "            eu[j]=aux3\n",
    "    return(eu)"
   ]
  },
  {
   "cell_type": "code",
   "execution_count": 59,
   "metadata": {},
   "outputs": [],
   "source": [
    "paths_edges=node_path_to_edges(eu)"
   ]
  },
  {
   "cell_type": "markdown",
   "metadata": {},
   "source": [
    "    Now we check, if there is same edges between the paths using the fuction 'find_same_edges', so that the number of the hiperlinks to be deleted could be decreased and give us the right answer."
   ]
  },
  {
   "cell_type": "code",
   "execution_count": 60,
   "metadata": {},
   "outputs": [],
   "source": [
    "def find_same_edges(path1, path2): \n",
    "    result = False  \n",
    "    for x in path1:   \n",
    "        for y in path2:     \n",
    "            if x == y: \n",
    "                result = True\n",
    "                return result                    \n",
    "    return result "
   ]
  },
  {
   "cell_type": "markdown",
   "metadata": {},
   "source": [
    "    Here we run over the paths and try to compare if some path has the same edge to another and then decrease the count of the hyperlinks to be deleted."
   ]
  },
  {
   "cell_type": "code",
   "execution_count": 61,
   "metadata": {},
   "outputs": [],
   "source": [
    "count=len(paths_edges)\n",
    "for k in range(0,len(paths_edges)-1):\n",
    "    for l in range(k+1, len(paths_edges)):\n",
    "        if(find_same_edges(paths_edges[k],paths_edges[l])):\n",
    "            count=count-1"
   ]
  },
  {
   "cell_type": "code",
   "execution_count": 62,
   "metadata": {},
   "outputs": [
    {
     "name": "stdout",
     "output_type": "stream",
     "text": [
      "The minimum set of hyperlinks one can remove to disconnect the article - Ilie Dumitrescu - from the article - Victor Piurc - are 2 hyperlinks\n"
     ]
    }
   ],
   "source": [
    "print(\"The minimum set of hyperlinks one can remove to disconnect the article -\", article_a,\"- from the article -\",article_b, \"- are\",count,\"hyperlinks\")"
   ]
  },
  {
   "cell_type": "markdown",
   "metadata": {},
   "source": [
    "### RQ5\n",
    "\n",
    "- Write a function that, given an arbitrary category C0 as input, returns the list of remaning categories sorted by their distance from C0. In particular, the distance between two categories is defined as\n",
    "\n",
    "    distance(C0, Ci) = median(ShortestPath(C0, Ci))\n",
    "    \n",
    "    where ShortestPath(C0, Ci) is the set of shortest paths from each pair of nodes in the two categories."
   ]
  },
  {
   "cell_type": "markdown",
   "metadata": {},
   "source": [
    "    Here below we have a function that receives a category as input (using the list 'categorias' for consult the category) as output the sorted distance from the choosen category to the all others."
   ]
  },
  {
   "cell_type": "code",
   "execution_count": 63,
   "metadata": {},
   "outputs": [],
   "source": [
    "#Organize the category.txt in a list\n",
    "categorias=list(cate)\n",
    "#generate a list of all nodes from a given category\n",
    "def nodes_from_cat(G, C):\n",
    "    if C in cate:\n",
    "        a=(category_set[category_set.Category==C].Articles).tolist()[0].split()\n",
    "        for j in range(len(a)):\n",
    "            a[j]=int(a[j])\n",
    "    return(a)\n",
    "#Do the calculation of the distance from all the nodes between categories\n",
    "def rq5(x):\n",
    "    wes={}\n",
    "    ref=nodes_from_cat(G,x)\n",
    "    for k in categorias:\n",
    "        l=[]\n",
    "        aux=nodes_from_cat(G,k)\n",
    "        if(aux!=ref):\n",
    "            for i in ref:\n",
    "                if(G.has_node(i)):\n",
    "                    for j in aux:\n",
    "                        if(G.has_node(j)):\n",
    "                            try:\n",
    "                                val=nx.shortest_path_length(G,i,j)\n",
    "                                l.append(val)\n",
    "                            except nx.NetworkXNoPath:\n",
    "                                pass\n",
    "        if(len(l)!=0):\n",
    "            dist=round(sum(l)/len(l),3)\n",
    "            wes[k]=dist\n",
    "    dict1 = wes\n",
    "    return((sorted(dict1.items(), key = lambda kv:(kv[1], kv[0]))) )"
   ]
  },
  {
   "cell_type": "markdown",
   "metadata": {},
   "source": [
    "    Choose a category"
   ]
  },
  {
   "cell_type": "code",
   "execution_count": 64,
   "metadata": {},
   "outputs": [
    {
     "name": "stdout",
     "output_type": "stream",
     "text": [
      "Disability\n"
     ]
    }
   ],
   "source": [
    "selected = categorias[2]\n",
    "print(selected)"
   ]
  },
  {
   "cell_type": "markdown",
   "metadata": {},
   "source": [
    "    Show the sorted categories and their distances from the choosen one."
   ]
  },
  {
   "cell_type": "code",
   "execution_count": 65,
   "metadata": {},
   "outputs": [
    {
     "data": {
      "text/plain": [
       "[('Trans-Am drivers', 2.0),\n",
       " ('Connecticut Democrats', 2.6),\n",
       " ('20th-century Roman Catholic priests', 3.0),\n",
       " ('African American lawyers', 3.0),\n",
       " ('American comedy radio programs', 3.0),\n",
       " ('American graphic designers', 3.0),\n",
       " ('American punk rock musicians', 3.0),\n",
       " ('American spies', 3.0),\n",
       " ('Australian child actors', 3.0),\n",
       " ('Brazilian actors', 3.0),\n",
       " ('Characters created by Stan Lee', 3.0),\n",
       " ('Companions of the Order of Australia', 3.0),\n",
       " ('European Film Awards winners (people)', 3.0),\n",
       " ('Female members of the United States House of Representatives', 3.0),\n",
       " ('Fictional inventors', 3.0),\n",
       " ('Fictional schoolteachers', 3.0),\n",
       " ('Flash cartoons', 3.0),\n",
       " ('French-language singers', 3.0),\n",
       " ('Golden Age comics creators', 3.0),\n",
       " ('Google employees', 3.0),\n",
       " ('High school television series', 3.0),\n",
       " ('Hindu gurus', 3.0),\n",
       " ('Honorary Knights Grand Cross of the Order of the Bath', 3.0),\n",
       " ('Internet activism', 3.0),\n",
       " ('Irish Roman Catholic priests', 3.0),\n",
       " ('Kentucky Democrats', 3.0),\n",
       " ('Members of the Nation of Gods and Earths', 3.0),\n",
       " ('Members of the United States House of Representatives from Tennessee', 3.0),\n",
       " ('Middle East peace efforts', 3.0),\n",
       " ('Minnesota Democrats', 3.0),\n",
       " ('North Carolina Democrats', 3.0),\n",
       " ('Penn State Nittany Lions football players', 3.0),\n",
       " ('People from Graz', 3.0),\n",
       " ('People from Ljubljana', 3.0),\n",
       " ('People from Quebec City', 3.0),\n",
       " ('Puerto Rican military personnel', 3.0),\n",
       " ('Recipients of the Order of the White Eagle (Poland)', 3.0),\n",
       " ('Recipients of the Padma Shri', 3.0),\n",
       " ('Rockabilly musicians', 3.0),\n",
       " ('Roman Catholic theologians', 3.0),\n",
       " ('South Carolina Democrats', 3.0),\n",
       " ('Southern Gospel performers', 3.0),\n",
       " ('Swedish female singers', 3.0),\n",
       " ('Swedish stage actors', 3.0),\n",
       " ('Toronto city councillors', 3.0),\n",
       " ('Urban legends', 3.0),\n",
       " ('Virginia Democrats', 3.0),\n",
       " ('Washington and Lee University alumni', 3.0),\n",
       " ('Wheaton College (Illinois) alumni', 3.0),\n",
       " ('Will Eisner Award Hall of Fame inductees', 3.0),\n",
       " ('Women in California politics', 3.0),\n",
       " ('Csar Award winners', 3.182),\n",
       " ('Florida Republicans', 3.25),\n",
       " ('BAFTA winners (people)', 3.276),\n",
       " ('Businesspeople from California', 3.333),\n",
       " ('Cancer deaths in France', 3.333),\n",
       " ('Congressional Gold Medal recipients', 3.333),\n",
       " ('Mayors of places in California', 3.333),\n",
       " ('People associated with the Boy Scouts of America', 3.333),\n",
       " ('Roman Catholic activists', 3.333),\n",
       " ('Grammy Lifetime Achievement Award winners', 3.385),\n",
       " ('Rock and Roll Hall of Fame inductees', 3.429),\n",
       " ('Kennedy Center honorees', 3.439),\n",
       " ('1970s American television series', 3.5),\n",
       " ('1993 compilation albums', 3.5),\n",
       " ('1998 compilation albums', 3.5),\n",
       " ('20th-century writers', 3.5),\n",
       " ('Actors from Berlin', 3.5),\n",
       " ('American economics writers', 3.5),\n",
       " ('American motorcycle racers', 3.5),\n",
       " ('Basketball players from California', 3.5),\n",
       " ('Burials at Montparnasse Cemetery', 3.5),\n",
       " ('Canadian bloggers', 3.5),\n",
       " ('Censorship', 3.5),\n",
       " ('Chevaliers of the Ordre des Arts et des Lettres', 3.5),\n",
       " ('Columbia Records compilation albums', 3.5),\n",
       " ('English child actors', 3.5),\n",
       " ('German television actors', 3.5),\n",
       " ('German-language singers', 3.5),\n",
       " ('Idol series judges', 3.5),\n",
       " ('Illinois Democrats', 3.5),\n",
       " ('Illinois lawyers', 3.5),\n",
       " ('International Boxing Hall of Fame inductees', 3.5),\n",
       " ('National Basketball Association executives', 3.5),\n",
       " ('People from Augsburg', 3.5),\n",
       " ('People from Tasmania', 3.5),\n",
       " ('Pop compilation albums', 3.5),\n",
       " ('Rock compilation albums', 3.5),\n",
       " ('Ryerson University alumni', 3.5),\n",
       " ('Science fiction fans', 3.5),\n",
       " ('Scottish stage actors', 3.5),\n",
       " ('University at Albany, SUNY alumni', 3.5),\n",
       " ('University of New Mexico alumni', 3.5),\n",
       " ('University of WisconsinMilwaukee alumni', 3.5),\n",
       " ('Academy Honorary Award recipients', 3.533),\n",
       " ('Film theorists', 3.556),\n",
       " ('American cartoonists', 3.6),\n",
       " ('Art Students League of New York alumni', 3.625),\n",
       " ('California Democrats', 3.627),\n",
       " ('American Lutherans', 3.667),\n",
       " ('Appalachian culture', 3.667),\n",
       " ('Colgate University alumni', 3.667),\n",
       " ('Converts to Hinduism', 3.667),\n",
       " ('Elektra Records artists', 3.667),\n",
       " ('Obscenity controversies', 3.667),\n",
       " ('Outstanding Performance by a Cast in a Motion Picture Screen Actors Guild Award winners',\n",
       "  3.667),\n",
       " ('People from Greenwich Village, New York', 3.667),\n",
       " ('Plays set in the United States', 3.667),\n",
       " ('Pratt Institute alumni', 3.667),\n",
       " ('Pseudonymous writers', 3.667),\n",
       " ('Writers from New Jersey', 3.667),\n",
       " ('ZX Spectrum games', 3.667),\n",
       " ('American antiIraq War activists', 3.684),\n",
       " ('AIDS activists', 3.7),\n",
       " ('Independent Spirit Award winners', 3.719),\n",
       " ('American health activists', 3.733),\n",
       " ('BRIT Award winners', 3.733),\n",
       " ('Feminist artists', 3.733),\n",
       " ('Audio book narrators', 3.739),\n",
       " ('American football offensive linemen', 3.75),\n",
       " ('American prisoners and detainees', 3.75),\n",
       " ('CBS network shows', 3.75),\n",
       " ('Imperial Records artists', 3.75),\n",
       " ('Musicians from Kentucky', 3.75),\n",
       " ('Musicians from North Carolina', 3.75),\n",
       " ('Plays adapted into films', 3.75),\n",
       " ('California Republicans', 3.779),\n",
       " ('Emmy Award winners', 3.786),\n",
       " ('World Music Awards winners', 3.786),\n",
       " ('Antioch College alumni', 3.8),\n",
       " ('Bowling Green State University alumni', 3.8),\n",
       " ('People from Fairfax County, Virginia', 3.8),\n",
       " ('Recipients of the Air Medal', 3.8),\n",
       " ('Swedish film actors', 3.8),\n",
       " ('Virgin Records artists', 3.8),\n",
       " ('American people of Austrian-Jewish descent', 3.808),\n",
       " ('American labor leaders', 3.818),\n",
       " ('American people of French-Canadian descent', 3.829),\n",
       " ('American buskers', 3.833),\n",
       " ('British emigrants to the United States', 3.833),\n",
       " ('Canadian Roman Catholics', 3.833),\n",
       " ('Decca Records artists', 3.833),\n",
       " ('Peabody Award winners', 3.833),\n",
       " ('Recipients of the Distinguished Flying Cross (United States)', 3.833),\n",
       " ('The Catholic University of America alumni', 3.85),\n",
       " ('American people of Russian-Jewish descent', 3.853),\n",
       " ('Converts to Buddhism', 3.857),\n",
       " ('RCA Records artists', 3.857),\n",
       " ('American people of Hungarian-Jewish descent', 3.864),\n",
       " ('Country Music Hall of Fame inductees', 3.875),\n",
       " ('English-language compilation albums', 3.875),\n",
       " ('Alumni of the London Academy of Music and Dramatic Art', 3.882),\n",
       " ('American banjoists', 3.889),\n",
       " ('The New School alumni', 3.889),\n",
       " ('American people of Swiss descent', 3.895),\n",
       " ('20th-century actors', 3.896),\n",
       " ('New York Democrats', 3.897),\n",
       " ('Epic Records artists', 3.9),\n",
       " ('LGBT rights activists from the United States', 3.902),\n",
       " ('DreamWorks films', 3.905),\n",
       " ('Obie Award recipients', 3.911),\n",
       " ('Tony Award winners', 3.911),\n",
       " ('Edgar Award winning works', 3.917),\n",
       " ('American feminists', 3.923),\n",
       " ('American people of Ukrainian-Jewish descent', 3.923),\n",
       " ('LGBT television personalities', 3.923),\n",
       " ('People from Marin County, California', 3.923),\n",
       " ('Films set in Washington, D.C.', 3.938),\n",
       " ('Irish-American culture', 3.938),\n",
       " ('Breast cancer survivors', 3.944),\n",
       " ('Films shot anamorphically', 3.946),\n",
       " ('Miramax Films films', 3.947),\n",
       " ('American people of Sicilian descent', 3.961),\n",
       " ('1980s romantic comedy films', 3.967),\n",
       " ('Shakespearean actors', 3.974),\n",
       " ('Best Original Music Score Academy Award winners', 3.991),\n",
       " ('1940s American radio programs', 4.0),\n",
       " ('1950s American radio programs', 4.0),\n",
       " ('1950s American television series', 4.0),\n",
       " ('1960s American television series', 4.0),\n",
       " ('1980s American television series', 4.0),\n",
       " ('1988 compilation albums', 4.0),\n",
       " ('1990s American television series', 4.0),\n",
       " ('1993 American television series endings', 4.0),\n",
       " ('1994 American television series endings', 4.0),\n",
       " ('1999 compilation albums', 4.0),\n",
       " ('2000 compilation albums', 4.0),\n",
       " ('2005 soundtracks', 4.0),\n",
       " ('2006 live albums', 4.0),\n",
       " ('2006 soundtracks', 4.0),\n",
       " ('2006 video albums', 4.0),\n",
       " ('20th-century Austrian people', 4.0),\n",
       " ('20th-century Hungarian people', 4.0),\n",
       " ('20th-century women writers', 4.0),\n",
       " ('21st-century American novels', 4.0),\n",
       " ('24 Hours of Daytona drivers', 4.0),\n",
       " ('2nd-century births', 4.0),\n",
       " ('Abraham Lincoln', 4.0),\n",
       " ('Academics', 4.0),\n",
       " ('Action figures', 4.0),\n",
       " ('Adventure anime and manga', 4.0),\n",
       " ('African American players of Canadian football', 4.0),\n",
       " ('African American religious leaders', 4.0),\n",
       " ('African American track and field athletes', 4.0),\n",
       " ('African-American military personnel', 4.0),\n",
       " ('Afrikaner people', 4.0),\n",
       " ('Aftermath of World War I', 4.0),\n",
       " ('Alabama Crimson Tide football players', 4.0),\n",
       " ('Alumni of the Royal College of Art', 4.0),\n",
       " (\"Alumni of the cole Nationale d'Administration\", 4.0),\n",
       " ('Alumni of the cole Normale Suprieure', 4.0),\n",
       " ('Ambassadors to the United States', 4.0),\n",
       " ('American Football League All-Star players', 4.0),\n",
       " ('American Presbyterian clergy', 4.0),\n",
       " ('American Protestants', 4.0),\n",
       " ('American University faculty and staff', 4.0),\n",
       " ('American World War II flying aces', 4.0),\n",
       " ('American anti-communists', 4.0),\n",
       " ('American bass guitarists', 4.0),\n",
       " ('American billionaires', 4.0),\n",
       " ('American chess players', 4.0),\n",
       " ('American civil rights activists', 4.0),\n",
       " ('American comic strip cartoonists', 4.0),\n",
       " ('American country singer-songwriters', 4.0),\n",
       " ('American educationists', 4.0),\n",
       " ('American female lawyers', 4.0),\n",
       " ('American fiddlers', 4.0),\n",
       " ('American folk guitarists', 4.0),\n",
       " ('American folk musicians', 4.0),\n",
       " ('American football cornerbacks', 4.0),\n",
       " ('American football tight ends', 4.0),\n",
       " ('American heavy metal bass guitarists', 4.0),\n",
       " ('American hip hop record producers', 4.0),\n",
       " ('American horse racing announcers', 4.0),\n",
       " ('American horse trainers', 4.0),\n",
       " ('American ice dancers', 4.0),\n",
       " ('American investors', 4.0),\n",
       " ('American jazz bandleaders', 4.0),\n",
       " ('American jazz musicians', 4.0),\n",
       " ('American jazz trumpeters', 4.0),\n",
       " ('American military personnel from West Virginia', 4.0),\n",
       " ('American military personnel from Wisconsin', 4.0),\n",
       " ('American military personnel of the Gulf War', 4.0),\n",
       " ('American musicians of German descent', 4.0),\n",
       " ('American people of Iraqi descent', 4.0),\n",
       " ('American pole vaulters', 4.0),\n",
       " ('American political pundits', 4.0),\n",
       " ('American pop music groups', 4.0),\n",
       " ('American prisoners sentenced to life imprisonment', 4.0),\n",
       " ('American racecar drivers', 4.0),\n",
       " ('American rock music groups', 4.0),\n",
       " ('American rock singer-songwriters', 4.0),\n",
       " ('American shooting survivors', 4.0),\n",
       " ('American short story collections', 4.0),\n",
       " ('American suffragists', 4.0),\n",
       " ('American television sitcoms', 4.0),\n",
       " ('American trumpeters', 4.0),\n",
       " ('Amphetamines', 4.0),\n",
       " ('Anti-poverty advocates', 4.0),\n",
       " ('Argentine Jews', 4.0),\n",
       " ('Argentine film directors', 4.0),\n",
       " ('Arizona State Sun Devils football players', 4.0),\n",
       " ('Army Medal of Honor recipients', 4.0),\n",
       " ('Art curators', 4.0),\n",
       " ('Articles about multiple people', 4.0),\n",
       " ('Athletes (track and field) at the 1976 Summer Olympics', 4.0),\n",
       " ('Atlanta Falcons players', 4.0),\n",
       " ('Atlantic Championship drivers', 4.0),\n",
       " ('Atlantic Records live albums', 4.0),\n",
       " ('Australian female singers', 4.0),\n",
       " ('Australian film producers', 4.0),\n",
       " ('Austrian actors', 4.0),\n",
       " ('Austrian people of Czech descent', 4.0),\n",
       " ('Austro-Hungarian people', 4.0),\n",
       " ('BBC radio programmes', 4.0),\n",
       " ('Ballet choreographers', 4.0),\n",
       " ('Basketball players from Michigan', 4.0),\n",
       " ('Basketball players from Pennsylvania', 4.0),\n",
       " ('Basketball players from Texas', 4.0),\n",
       " ('Behaviorism', 4.0),\n",
       " ('Best Song Academy Award winning songwriters', 4.0),\n",
       " ('Black-and-white television programs', 4.0),\n",
       " ('Brazilian film actors', 4.0),\n",
       " ('British Touring Car Championship drivers', 4.0),\n",
       " ('British artists', 4.0),\n",
       " (\"British children's novels\", 4.0),\n",
       " ('Businesspeople from Ontario', 4.0),\n",
       " ('CNN people', 4.0),\n",
       " ('Calgary Stampeders players', 4.0),\n",
       " ('California Institute of the Arts alumni', 4.0),\n",
       " ('California city council members', 4.0),\n",
       " ('Canadian Anglicans', 4.0),\n",
       " (\"Canadian Queen's Counsel\", 4.0),\n",
       " ('Canadian basketball players', 4.0),\n",
       " ('Canadian country singers', 4.0),\n",
       " ('Canadian people of Norwegian descent', 4.0),\n",
       " ('Canadian professional wrestlers', 4.0),\n",
       " ('Canadian university and college faculty deans', 4.0),\n",
       " ('Carleton University alumni', 4.0),\n",
       " ('Catskills', 4.0),\n",
       " ('Central bankers', 4.0),\n",
       " ('Chicago Bulls players', 4.0),\n",
       " ('Chicago City Council members', 4.0),\n",
       " ('Chinese film directors', 4.0),\n",
       " ('Christian and Jewish interfaith topics', 4.0),\n",
       " ('Christian music albums', 4.0),\n",
       " ('Cincinnati Bengals players', 4.0),\n",
       " ('Civil disobedience', 4.0),\n",
       " ('Cold War leaders', 4.0),\n",
       " ('Collaborative albums', 4.0),\n",
       " ('College football announcers', 4.0),\n",
       " ('Concerts', 4.0),\n",
       " ('Confederate States Army soldiers', 4.0),\n",
       " ('Conspiracy theories', 4.0),\n",
       " ('Converts to Roman Catholicism from atheism or agnosticism', 4.0),\n",
       " ('Croats of Bosnia and Herzegovina', 4.0),\n",
       " ('Culture of San Francisco, California', 4.0),\n",
       " ('Dallas Mavericks players', 4.0),\n",
       " ('Dance instructors', 4.0),\n",
       " ('Danish film actors', 4.0),\n",
       " ('Double soundtracks', 4.0),\n",
       " ('Drake University alumni', 4.0),\n",
       " ('Drama Desk Award winners', 4.0),\n",
       " ('Drexel University alumni', 4.0),\n",
       " ('Edmund A. Walsh School of Foreign Service alumni', 4.0),\n",
       " ('Eli Lilly and Company', 4.0),\n",
       " ('English classical organists', 4.0),\n",
       " ('English electronic musicians', 4.0),\n",
       " ('English film score composers', 4.0),\n",
       " ('English folk singers', 4.0),\n",
       " ('English theatre directors', 4.0),\n",
       " ('English-language television series', 4.0),\n",
       " ('English-language video albums', 4.0),\n",
       " ('Explorers of Africa', 4.0),\n",
       " ('Fandom', 4.0),\n",
       " ('Fellows of the American Statistical Association', 4.0),\n",
       " ('Female heavy metal singers', 4.0),\n",
       " ('Festivals in California', 4.0),\n",
       " ('Fictional American people of Irish descent', 4.0),\n",
       " ('Fictional captains', 4.0),\n",
       " ('Fictional cats', 4.0),\n",
       " ('Fictional criminals', 4.0),\n",
       " ('Fictional demons', 4.0),\n",
       " ('Fictional genetically engineered characters', 4.0),\n",
       " ('Fictional ghosts', 4.0),\n",
       " ('Fictional kings', 4.0),\n",
       " ('Fictional martial artists', 4.0),\n",
       " ('Fictional orphans', 4.0),\n",
       " ('Fictional police officers', 4.0),\n",
       " ('Fictional singers', 4.0),\n",
       " ('Fictional women soldiers and warriors', 4.0),\n",
       " ('Film and video technology', 4.0),\n",
       " ('Film characters', 4.0),\n",
       " ('Filmographies', 4.0),\n",
       " ('Florida State Seminoles football players', 4.0),\n",
       " ('Former world record holders in swimming', 4.0),\n",
       " ('Fox network shows', 4.0),\n",
       " ('French Resistance members', 4.0),\n",
       " ('French female singers', 4.0),\n",
       " ('French philosophers', 4.0),\n",
       " ('Gambino crime family', 4.0),\n",
       " ('George W. Bush administration controversies', 4.0),\n",
       " ('German female singers', 4.0),\n",
       " ('German film producers', 4.0),\n",
       " ('Harris County, Texas', 4.0),\n",
       " ('Harvard University people', 4.0),\n",
       " ('Healthcare in the United States', 4.0),\n",
       " ('Historical novels', 4.0),\n",
       " ('History of film', 4.0),\n",
       " ('Honorary Knights Commander of the Order of the British Empire', 4.0),\n",
       " ('Horticulturists and gardeners', 4.0),\n",
       " ('IOS games', 4.0),\n",
       " ('Imperial Japanese Navy admirals', 4.0),\n",
       " ('Independent politicians in Ireland', 4.0),\n",
       " ('Indiana Republicans', 4.0),\n",
       " ('Individual dogs', 4.0),\n",
       " ('Industrial Workers of the World', 4.0),\n",
       " ('Indy Lights drivers', 4.0),\n",
       " ('Instrumental albums', 4.0),\n",
       " ('Interactive Achievement Award winners', 4.0),\n",
       " ('International development', 4.0),\n",
       " ('Iowa Hawkeyes football players', 4.0),\n",
       " ('Irish Republican Army members (19171922)', 4.0),\n",
       " ('Italian Roman Catholics', 4.0),\n",
       " ('Italian nobility', 4.0),\n",
       " ('Italian-language singers', 4.0),\n",
       " ('Japanese female singers', 4.0),\n",
       " ('Japanese-language singers', 4.0),\n",
       " ('Jazz musicians from New Orleans, Louisiana', 4.0),\n",
       " ('Jewish history', 4.0),\n",
       " ('Jewish painters', 4.0),\n",
       " ('Jews from Galicia (Eastern Europe)', 4.0),\n",
       " (\"Junior college men's basketball players in the United States\", 4.0),\n",
       " ('Kansas State University alumni', 4.0),\n",
       " (\"Kentucky Wildcats men's basketball players\", 4.0),\n",
       " ('Knights of the Elephant', 4.0),\n",
       " ('Late-2000s financial crisis', 4.0),\n",
       " ('Lawyers in Quebec', 4.0),\n",
       " ('Likud politicians', 4.0),\n",
       " ('Literary collaborations', 4.0),\n",
       " ('Long-distance swimmers', 4.0),\n",
       " ('Los Angeles Lakers players', 4.0),\n",
       " ('Lyce Louis-le-Grand alumni', 4.0),\n",
       " ('Maine Democrats', 4.0),\n",
       " ('Major League Baseball first base coaches', 4.0),\n",
       " ('Male freestyle swimmers', 4.0),\n",
       " ('Mars-crosser asteroids', 4.0),\n",
       " ('Marxist journalists', 4.0),\n",
       " ('Marxist writers', 4.0),\n",
       " ('Medical ethics', 4.0),\n",
       " ('Members of the California State Assembly', 4.0),\n",
       " ('Members of the Canadian House of Commons from Quebec', 4.0),\n",
       " ('Members of the Illinois House of Representatives', 4.0),\n",
       " ('Members of the Knesset', 4.0),\n",
       " ('Members of the Socialist Party of America', 4.0),\n",
       " ('Memoirs', 4.0),\n",
       " ('Mexican telenovela actors', 4.0),\n",
       " ('Michigan Democrats', 4.0),\n",
       " ('Michigan Republicans', 4.0),\n",
       " ('Michigan State Spartans football players', 4.0),\n",
       " ('Missouri Republicans', 4.0),\n",
       " ('Modern Buddhist writers', 4.0),\n",
       " ('Modern painters', 4.0),\n",
       " ('Motorsport announcers', 4.0),\n",
       " ('Music festivals in the United States', 4.0),\n",
       " ('Musical groups from Los Angeles, California', 4.0),\n",
       " ('Musicals based on novels', 4.0),\n",
       " ('Musicians from Indiana', 4.0),\n",
       " ('Musicians from Missouri', 4.0),\n",
       " ('Musicians from New Orleans, Louisiana', 4.0),\n",
       " ('Musicians from Ohio', 4.0),\n",
       " ('Musicians from Tennessee', 4.0),\n",
       " ('Naismith Memorial Basketball Hall of Fame inductees', 4.0),\n",
       " ('Native American history', 4.0),\n",
       " ('Neuroscientists', 4.0),\n",
       " ('New Jersey Democrats', 4.0),\n",
       " ('New Zealand musicians', 4.0),\n",
       " ('Nintendo DS games', 4.0),\n",
       " ('Nobel laureates in Literature', 4.0),\n",
       " ('North Carolina Republicans', 4.0),\n",
       " (\"North Carolina Tar Heels men's basketball players\", 4.0),\n",
       " ('Northwestern Wildcats football players', 4.0),\n",
       " ('Novel series', 4.0),\n",
       " ('Novels set in New York City', 4.0),\n",
       " ('Oakland Raiders (AFL) players', 4.0),\n",
       " ('Officers of the National Order of Quebec', 4.0),\n",
       " ('Ohio Democrats', 4.0),\n",
       " ('Olivier Award winners', 4.0),\n",
       " ('Olympic gold medalists for Norway', 4.0),\n",
       " ('Olympic medalists in water polo', 4.0),\n",
       " ('Olympic water polo players of the United States', 4.0),\n",
       " ('Operatic basses', 4.0),\n",
       " ('Order of Merit for the Fatherland recipients', 4.0),\n",
       " ('Pakistan-related lists', 4.0),\n",
       " ('People acquitted of murder', 4.0),\n",
       " ('People from Bogot', 4.0),\n",
       " ('People from Boise, Idaho', 4.0),\n",
       " ('People from Jerusalem', 4.0),\n",
       " ('People from Karnataka', 4.0),\n",
       " ('People from Lahore', 4.0),\n",
       " ('People from Maharashtra', 4.0),\n",
       " ('People from Orissa', 4.0),\n",
       " ('People from Regina, Saskatchewan', 4.0),\n",
       " ('People from Saint Petersburg', 4.0),\n",
       " ('People from Tel Aviv', 4.0),\n",
       " ('People from Trieste', 4.0),\n",
       " ('People from Westmoreland County, Pennsylvania', 4.0),\n",
       " ('People of the Irish Civil War', 4.0),\n",
       " ('People of the Russian Civil War', 4.0),\n",
       " ('People with schizophrenia', 4.0),\n",
       " ('Players of American football from Illinois', 4.0),\n",
       " ('Players of American football from New Jersey', 4.0),\n",
       " ('Polish film actors', 4.0),\n",
       " ('Politicians of the French Fifth Republic', 4.0),\n",
       " ('Power forwards (basketball)', 4.0),\n",
       " ('Prime Ministers of France', 4.0),\n",
       " ('Princeton Tigers football players', 4.0),\n",
       " ('Professional bodybuilders', 4.0),\n",
       " ('Puerto Rican singers', 4.0),\n",
       " ('Recipients of a posthumous promotion', 4.0),\n",
       " ('Recipients of the Iron Cross', 4.0),\n",
       " (\"Recipients of the Knight's Cross\", 4.0),\n",
       " ('Recipients of the Mdaille Militaire', 4.0),\n",
       " ('Recipients of the Padma Bhushan', 4.0),\n",
       " ('Recipients of the Ranger tab', 4.0),\n",
       " ('Recipients of the Vietnamese Cross of Gallantry', 4.0),\n",
       " ('Rhode Island School of Design alumni', 4.0),\n",
       " ('Rhythm guitarists', 4.0),\n",
       " ('Rock en Espaol musicians', 4.0),\n",
       " ('Rockabilly Hall of Fame inductees', 4.0),\n",
       " ('Roman Catholic monarchs', 4.0),\n",
       " ('Roman Catholic writers', 4.0),\n",
       " ('Romanian Jews', 4.0),\n",
       " ('Russian ballet dancers', 4.0),\n",
       " ('Russian film directors', 4.0),\n",
       " ('Saint Louis University alumni', 4.0),\n",
       " ('Saint Petersburg State University alumni', 4.0),\n",
       " ('San Antonio Spurs players', 4.0),\n",
       " ('Sibling duos', 4.0),\n",
       " ('Silver Crosses of the Virtuti Militari', 4.0),\n",
       " ('Single-author short story collections', 4.0),\n",
       " ('Social networks', 4.0),\n",
       " ('Songwriters Hall of Fame inductees', 4.0),\n",
       " ('Soviet emigrants to the United States', 4.0),\n",
       " ('Spanish actors', 4.0),\n",
       " ('Spanish-language singers', 4.0),\n",
       " ('Sportspeople from Toronto', 4.0),\n",
       " ('Teen dramas', 4.0),\n",
       " ('Television pilots', 4.0),\n",
       " (\"Television programs based on children's books\", 4.0),\n",
       " ('Television programs based on films', 4.0),\n",
       " ('Television series by Buena Vista Television', 4.0),\n",
       " ('Television series by CBS Paramount Television', 4.0),\n",
       " ('Television series by Sony Pictures Television', 4.0),\n",
       " ('Television shows set in New York City', 4.0),\n",
       " ('Telugu people', 4.0),\n",
       " ('Tennessee Democrats', 4.0),\n",
       " ('Texas Longhorns football players', 4.0),\n",
       " ('The Royal Conservatory of Music alumni', 4.0),\n",
       " ('Tobacco', 4.0),\n",
       " ('Union Army soldiers', 4.0),\n",
       " ('United Nations officials', 4.0),\n",
       " ('United States Air Force airmen', 4.0),\n",
       " ('United States Air Force generals', 4.0),\n",
       " ('United States Department of Defense officials', 4.0),\n",
       " ('United States Navy', 4.0),\n",
       " ('Universit de Montral alumni', 4.0),\n",
       " ('University of Alberta alumni', 4.0),\n",
       " ('University of Georgia faculty', 4.0),\n",
       " ('University of Oklahoma alumni', 4.0),\n",
       " ('University of Ottawa alumni', 4.0),\n",
       " ('University of San Francisco alumni', 4.0),\n",
       " ('Upper Peninsula of Michigan', 4.0),\n",
       " ('Vaishnavism', 4.0),\n",
       " ('Venture capitalists', 4.0),\n",
       " ('Vermont culture', 4.0),\n",
       " ('Washington, D.C. lawyers', 4.0),\n",
       " ('West Virginia Mountaineers football players', 4.0),\n",
       " ('Western Conference Pro Bowl players', 4.0),\n",
       " ('Who Wants to Be a Millionaire?', 4.0),\n",
       " ('Wii games', 4.0),\n",
       " ('Winners of the United States Championship for amateur boxers', 4.0),\n",
       " ('Wisconsin Democrats', 4.0),\n",
       " ('Wisconsin Republicans', 4.0),\n",
       " ('Women in World War II', 4.0),\n",
       " ('Women in technology', 4.0),\n",
       " ('Women mathematicians', 4.0),\n",
       " ('Women novelists', 4.0),\n",
       " ('Works published under a pseudonym', 4.0),\n",
       " ('World Boxing Association Champions', 4.0),\n",
       " ('World Golf Hall of Fame inductees', 4.0),\n",
       " ('Writers from Florida', 4.0),\n",
       " ('Writers from Maryland', 4.0),\n",
       " ('Writers from Ontario', 4.0),\n",
       " ('Writers from Oregon', 4.0),\n",
       " ('X-Games athletes', 4.0),\n",
       " ('Relativity Media films', 4.01),\n",
       " ('Nonlinear narrative films', 4.014),\n",
       " ('TriStar Pictures films', 4.016),\n",
       " ('Traditional pop music singers', 4.021),\n",
       " ('Films whose art director won the Best Art Direction Academy Award', 4.029),\n",
       " ('Yale School of Drama alumni', 4.033),\n",
       " ('American black comedy films', 4.036),\n",
       " ('American people of Romanian-Jewish descent', 4.042),\n",
       " ('United States National Medal of Arts recipients', 4.043),\n",
       " ('Films set in the 1970s', 4.045),\n",
       " ('Films shot in Arizona', 4.045),\n",
       " ('Films set in Chicago, Illinois', 4.046),\n",
       " ('American people of Lebanese descent', 4.048),\n",
       " ('Former Roman Catholics', 4.048),\n",
       " ('Touchstone Pictures films', 4.048),\n",
       " ('Presidential Medal of Freedom recipients', 4.049),\n",
       " ('American expatriates in France', 4.05),\n",
       " ('American folk singers', 4.053),\n",
       " ('Fiction with unreliable narrators', 4.053),\n",
       " ('Metafictional works', 4.053),\n",
       " ('Outstanding Performance by an Ensemble in a Drama Series Screen Actors Guild Award winners',\n",
       "  4.053),\n",
       " ('People self-identifying as alcoholics', 4.054),\n",
       " ('Jewish comedians', 4.058),\n",
       " ('American criminal comedy films', 4.06),\n",
       " ('Orion Pictures films', 4.06),\n",
       " ('Grammy Award winners', 4.061),\n",
       " ('Films set in San Francisco, California', 4.063),\n",
       " ('1990s romantic comedy films', 4.065),\n",
       " ('Films shot in New York', 4.068),\n",
       " ('Writers from California', 4.069),\n",
       " ('American vegans', 4.07),\n",
       " ('Atlantic Records artists', 4.071),\n",
       " ('Edgar Award winners', 4.071),\n",
       " ('Liberty Records artists', 4.071),\n",
       " ('Films about writers', 4.075),\n",
       " ('Films whose cinematographer won the Best Cinematography Academy Award',\n",
       "  4.075),\n",
       " ('1950s romantic comedy films', 4.079),\n",
       " ('American satirical films', 4.081),\n",
       " ('Films set in Massachusetts', 4.082),\n",
       " (\"Alumni of women's universities and colleges\", 4.083),\n",
       " ('Broadway plays', 4.083),\n",
       " ('MCA Records artists', 4.083),\n",
       " ('People from Alexandria, Virginia', 4.083),\n",
       " ('People from Lowell, Massachusetts', 4.083),\n",
       " ('People with bipolar disorder', 4.083),\n",
       " ('Films based on romance novels', 4.085),\n",
       " ('American people of Scotch-Irish descent', 4.086),\n",
       " ('American activists', 4.087),\n",
       " ('American agnostics', 4.087),\n",
       " ('Royal Shakespeare Company members', 4.091),\n",
       " ('Films based on thriller novels', 4.093),\n",
       " ('Films shot in Chicago, Illinois', 4.094),\n",
       " ('Films set in New York City', 4.095),\n",
       " ('Films about dysfunctional families', 4.096),\n",
       " ('Films set in the 1920s', 4.098),\n",
       " ('Films shot in New Jersey', 4.099),\n",
       " ('ITC Distributions', 4.1),\n",
       " ('Musicians from Florida', 4.1),\n",
       " ('Vassar College alumni', 4.1),\n",
       " ('Films set in New Jersey', 4.101),\n",
       " ('American television talk show hosts', 4.102),\n",
       " ('United States Army Air Forces officers', 4.103),\n",
       " ('American libertarians', 4.105),\n",
       " ('Films about journalists', 4.105),\n",
       " ('National Radio Hall of Fame inductees', 4.105),\n",
       " ('American fantasy-comedy films', 4.106),\n",
       " ('Documentary television films', 4.111),\n",
       " ('Female rock singers', 4.111),\n",
       " ('Gilbert and Sullivan performers', 4.111),\n",
       " ('Kenyon College alumni', 4.111),\n",
       " ('Mexican emigrants to the United States', 4.111),\n",
       " ('Musicians from Pittsburgh, Pennsylvania', 4.111),\n",
       " ('American biographical films', 4.113),\n",
       " ('Neo-noir', 4.114),\n",
       " ('Jewish actors', 4.116),\n",
       " ('Films shot in New Mexico', 4.117),\n",
       " ('American Episcopalians', 4.118),\n",
       " ('American musicians of Irish descent', 4.119),\n",
       " ('Juilliard School alumni', 4.122),\n",
       " ('Courtroom dramas', 4.123),\n",
       " ('New Line Cinema films', 4.123),\n",
       " ('Buddy films', 4.124),\n",
       " ('American anti-war activists', 4.125),\n",
       " ('Fiorello H. LaGuardia High School alumni', 4.125),\n",
       " ('Texas Republicans', 4.125),\n",
       " ('University of Missouri alumni', 4.125),\n",
       " ('WWE Hall of Fame', 4.125),\n",
       " ('American people of Cherokee descent', 4.127),\n",
       " ('English-language film directors', 4.128),\n",
       " ('Films set in the 1960s', 4.128),\n",
       " ('Films set within one day', 4.129),\n",
       " ('Films shot in New York City', 4.129),\n",
       " ('20th-century American people', 4.133),\n",
       " ('American baritones', 4.133),\n",
       " ('American people of Finnish descent', 4.133),\n",
       " ('American crime thriller films', 4.134),\n",
       " ('Jewish singers', 4.136),\n",
       " ('Films shot in Toronto', 4.137),\n",
       " ('American music video directors', 4.139),\n",
       " ('American screwball comedy films', 4.139),\n",
       " ('American coming-of-age films', 4.142),\n",
       " ('Alumni of the Central School of Speech and Drama', 4.143),\n",
       " ('Capitol Records artists', 4.143),\n",
       " ('Cuban emigrants to the United States', 4.143),\n",
       " ('University of Kansas alumni', 4.143),\n",
       " ('Films set in the 1980s', 4.148),\n",
       " ('Animal rights advocates', 4.15),\n",
       " ('Romantic period films', 4.15),\n",
       " ('Hollywood blacklist', 4.152),\n",
       " ('American people of Welsh descent', 4.154),\n",
       " ('American poker players', 4.154),\n",
       " ('Burials at Holy Cross Cemetery, Culver City', 4.154),\n",
       " ('21st-century actors', 4.155),\n",
       " ('Films with a capital punishment theme', 4.155),\n",
       " ('American mystery films', 4.156),\n",
       " ('Gambling films', 4.159),\n",
       " ('Films set in the 1930s', 4.161),\n",
       " ('Chase films', 4.165),\n",
       " ('American Pentecostals', 4.167),\n",
       " ('American people of Arab descent', 4.167),\n",
       " ('Fictional versions of real people', 4.167),\n",
       " ('Illinois Republicans', 4.167),\n",
       " ('Spaghetti Western actors', 4.167),\n",
       " ('Warner Bros. Records artists', 4.167),\n",
       " ('Films based on science fiction novels', 4.171),\n",
       " ('Jewish American musicians', 4.171),\n",
       " ('American writers of Irish descent', 4.174),\n",
       " ('Films based on non-fiction books', 4.175),\n",
       " ('Baptists from the United States', 4.176),\n",
       " ('Alumni of the Royal Academy of Dramatic Art', 4.179),\n",
       " ('American Roman Catholics', 4.182),\n",
       " ('American people of German-Jewish descent', 4.182),\n",
       " ('1980s crime films', 4.184),\n",
       " ('American crime drama films', 4.186),\n",
       " ('Films set in the 1950s', 4.187),\n",
       " ('American people of Jewish descent', 4.188),\n",
       " ('RCA Victor artists', 4.188),\n",
       " ('1980s thriller films', 4.19),\n",
       " ('American sex comedy films', 4.191),\n",
       " ('Road movies', 4.193),\n",
       " ('Films set in Texas', 4.197),\n",
       " ('Films about actors', 4.198),\n",
       " ('Warner Bros. films', 4.199),\n",
       " ('1990s crime films', 4.2),\n",
       " ('2002 soundtracks', 4.2),\n",
       " ('American Cinema Editors', 4.2),\n",
       " ('American country guitarists', 4.2),\n",
       " ('American heavy metal guitarists', 4.2),\n",
       " ('American newspaper editors', 4.2),\n",
       " ('American romantic comedy films', 4.2),\n",
       " ('Austrian emigrants to the United States', 4.2),\n",
       " ('Canadian pop singers', 4.2),\n",
       " ('English musical theatre actors', 4.2),\n",
       " ('English soap opera actors', 4.2),\n",
       " ('German stage actors', 4.2),\n",
       " ('Loyola University Chicago alumni', 4.2),\n",
       " ('Mexican television actors', 4.2),\n",
       " ('Motorcycle Hall of Fame inductees', 4.2),\n",
       " ('Musicians from Detroit, Michigan', 4.2),\n",
       " ('Musicians from Louisiana', 4.2),\n",
       " ('Musicians from Mississippi', 4.2),\n",
       " ('Outstanding Performance by an Ensemble in a Comedy Series Screen Actors Guild Award winners',\n",
       "  4.2),\n",
       " ('People from Lexington, Kentucky', 4.2),\n",
       " ('People from Peoria, Illinois', 4.2),\n",
       " ('Sephardi Jews', 4.2),\n",
       " ('Smith College alumni', 4.2),\n",
       " ('United States Navy sailors', 4.2),\n",
       " ('American comedy-drama films', 4.202),\n",
       " ('Films shot in Australia', 4.205),\n",
       " ('Erotic thriller films', 4.206),\n",
       " ('Films set in the 1940s', 4.206),\n",
       " ('1970s thriller films', 4.209),\n",
       " ('American people of Ukrainian descent', 4.211),\n",
       " ('Hip hop singers', 4.214),\n",
       " ('Film soundtracks', 4.215),\n",
       " ('American rhythm and blues singer-songwriters', 4.217),\n",
       " ('Rutgers University alumni', 4.217),\n",
       " ('Films set in New York', 4.219),\n",
       " ('Films shot in Oregon', 4.22),\n",
       " ('American vegetarians', 4.221),\n",
       " ('American members of the Churches of Christ', 4.222),\n",
       " ('Hunter College alumni', 4.222),\n",
       " ('University of Oregon alumni', 4.222),\n",
       " ('1990s thriller films', 4.224),\n",
       " ('Films shot in Vancouver', 4.225),\n",
       " ('1960s romantic comedy films', 4.226),\n",
       " ('Drug-related films', 4.226),\n",
       " ('New York Republicans', 4.226),\n",
       " ('American humanitarians', 4.227),\n",
       " ('1990s adventure films', 4.229),\n",
       " ('Heist films', 4.229),\n",
       " ('1990s comedy films', 4.231),\n",
       " ('American dance musicians', 4.231),\n",
       " ('People from Passaic County, New Jersey', 4.231),\n",
       " ('American action comedy films', 4.234),\n",
       " ('1990s comedy-drama films', 4.235),\n",
       " ('Films shot in North Carolina', 4.236),\n",
       " ('American fantasy films', 4.237),\n",
       " ('Docudramas', 4.239),\n",
       " ('Films shot in Texas', 4.239),\n",
       " ('Films set in the 1900s', 4.242),\n",
       " ('American romantic drama films', 4.246),\n",
       " ('Epic films', 4.247),\n",
       " ('Second City alumni', 4.247),\n",
       " ('American Presbyterians', 4.25),\n",
       " ('American comedy science fiction films', 4.25),\n",
       " ('American country musicians', 4.25),\n",
       " ('American football defensive linemen', 4.25),\n",
       " ('American hip hop musicians', 4.25),\n",
       " ('American independent films', 4.25),\n",
       " ('American magicians', 4.25),\n",
       " ('American plays', 4.25),\n",
       " ('American sailors', 4.25),\n",
       " ('American spiritual writers', 4.25),\n",
       " ('Arista Records artists', 4.25),\n",
       " ('Baseball films', 4.25),\n",
       " ('Burials at Green-Wood Cemetery', 4.25),\n",
       " ('Converts to Mormonism', 4.25),\n",
       " ('DePaul University alumni', 4.25),\n",
       " ('Eastern Orthodox Christians from the United States', 4.25),\n",
       " ('Fictional secret agents and spies', 4.25),\n",
       " ('Knights of Malta', 4.25),\n",
       " ('LGBT composers', 4.25),\n",
       " ('Live video albums', 4.25),\n",
       " ('Operatic baritones', 4.25),\n",
       " ('People from Bridgeport, Connecticut', 4.25),\n",
       " ('People from Hennepin County, Minnesota', 4.25),\n",
       " ('Persian-language films', 4.25),\n",
       " ('Royal National Theatre Company members', 4.25),\n",
       " ('San Jose State University alumni', 4.25),\n",
       " ('Tufts University alumni', 4.25),\n",
       " ('University of Detroit Mercy alumni', 4.25),\n",
       " ('Welsh film actors', 4.25),\n",
       " ('Welsh television actors', 4.25),\n",
       " ('Writers from Michigan', 4.25),\n",
       " ('American people of French descent', 4.252),\n",
       " ('American thriller films', 4.252),\n",
       " ('American people of Canadian descent', 4.253),\n",
       " ('Films set in Los Angeles, California', 4.253),\n",
       " ('Burials at Forest Lawn Memorial Park (Hollywood Hills)', 4.254),\n",
       " ('Films set in Italy', 4.254),\n",
       " ('Films set in the future', 4.254),\n",
       " ('Burials at Forest Lawn Memorial Park (Glendale)', 4.255),\n",
       " ('Columbia Pictures films', 4.255),\n",
       " ('American people of Swedish descent', 4.258),\n",
       " ('Films shot in New Orleans, Louisiana', 4.259),\n",
       " ('Sarah Lawrence College alumni', 4.259),\n",
       " ('American female guitarists', 4.261),\n",
       " ('People from Greenwich, Connecticut', 4.263),\n",
       " ('1980s comedy films', 4.266),\n",
       " ('Military brats', 4.267),\n",
       " ('American impressionists (entertainers)', 4.268),\n",
       " ('American teen comedy films', 4.269),\n",
       " ('Dystopian films', 4.27),\n",
       " ('English stage actors', 4.27),\n",
       " ('Films set in California', 4.272),\n",
       " ('Films shot digitally', 4.272),\n",
       " ('American people of Russian descent', 4.273),\n",
       " ('American punk rock singers', 4.273),\n",
       " ('Deaths from lymphoma', 4.273),\n",
       " ('Films shot in California', 4.273),\n",
       " ('United States National Film Registry films', 4.276),\n",
       " ('American adoptees', 4.278),\n",
       " ('American people of Czech descent', 4.278),\n",
       " ('American people of English descent', 4.279),\n",
       " ('Fantasy-comedy films', 4.279),\n",
       " ('Supernatural thriller films', 4.281),\n",
       " ('Actors from New York City', 4.282),\n",
       " ('American musicians of Italian descent', 4.283),\n",
       " ('American multi-instrumentalists', 4.286),\n",
       " ('American ranchers', 4.286),\n",
       " ('California State University, Northridge alumni', 4.286),\n",
       " ('Mercury Records artists', 4.286),\n",
       " ('People from Ogden, Utah', 4.286),\n",
       " ('Rappers from New York City', 4.286),\n",
       " ('Paramount Pictures films', 4.287),\n",
       " ('American people of Irish descent', 4.288),\n",
       " ('Films set in the 1910s', 4.288),\n",
       " ('1950s musical films', 4.294),\n",
       " ('Deaths from cerebral hemorrhage', 4.294),\n",
       " ('Films about educators', 4.295),\n",
       " ('United States Army soldiers', 4.295),\n",
       " ('United States Army Air Forces soldiers', 4.297),\n",
       " ('20th Century Fox films', 4.299),\n",
       " ('Deaths from respiratory failure', 4.3),\n",
       " ('Fordham University alumni', 4.3),\n",
       " ('Ghost films', 4.3),\n",
       " ('Postmodern writers', 4.3),\n",
       " ('United States Army Air Forces pilots of World War II', 4.3),\n",
       " ('1990s drama films', 4.302),\n",
       " ('Psychological thriller films', 4.305),\n",
       " ('Canadian emigrants to the United States', 4.306),\n",
       " (\"Children's fantasy films\", 4.306),\n",
       " ('Political thriller films', 4.306),\n",
       " ('American Muslims', 4.308),\n",
       " ('Burials at Arlington National Cemetery', 4.308),\n",
       " ('City College of New York alumni', 4.308),\n",
       " ('Musicians from Philadelphia, Pennsylvania', 4.308),\n",
       " ('American people of German descent', 4.31),\n",
       " ('United States Marines', 4.311),\n",
       " ('1980s drama films', 4.312),\n",
       " ('American people of Danish descent', 4.312),\n",
       " ('Holocaust films', 4.312),\n",
       " ('University of Arizona alumni', 4.312),\n",
       " ('Universal Pictures films', 4.314),\n",
       " ('2010s 3-D films', 4.316),\n",
       " ('Actors from London', 4.316),\n",
       " ('Films shot in Utah', 4.316),\n",
       " ('Cardiovascular disease deaths in New York', 4.318),\n",
       " ('Films set in Mexico', 4.319),\n",
       " ('Romantic fantasy films', 4.319),\n",
       " ('Films shot in Montreal', 4.322),\n",
       " ('Puerto Rican actors', 4.323),\n",
       " ('Robot films', 4.323),\n",
       " ('Vietnam War films', 4.324),\n",
       " ('1980s science fiction films', 4.326),\n",
       " ('American disaster films', 4.326),\n",
       " ('24 Hours of Le Mans drivers', 4.333),\n",
       " ('African American history', 4.333),\n",
       " ('Alumni of Sciences Po', 4.333),\n",
       " ('American Broadcasting Company network shows', 4.333),\n",
       " ('American Methodists', 4.333),\n",
       " ('American human rights activists', 4.333),\n",
       " ('American musical theatre composers', 4.333),\n",
       " ('American satirists', 4.333),\n",
       " ('American skateboarders', 4.333),\n",
       " ('American soul musicians', 4.333),\n",
       " (\"American women's rights activists\", 4.333),\n",
       " ('Bisexual actors', 4.333),\n",
       " ('Cajun people', 4.333),\n",
       " ('California Institute of Technology faculty', 4.333),\n",
       " ('Centers (basketball)', 4.333),\n",
       " ('Croatian films', 4.333),\n",
       " ('Current national leaders', 4.333),\n",
       " ('Danish emigrants to the United States', 4.333),\n",
       " ('Deaths from emphysema', 4.333),\n",
       " ('Emerson College alumni', 4.333),\n",
       " ('English female models', 4.333),\n",
       " ('English silent film actors', 4.333),\n",
       " ('Female comics writers', 4.333),\n",
       " ('Fictional extraterrestrial characters', 4.333),\n",
       " ('Fictional witches', 4.333),\n",
       " ('Films based on television series', 4.333),\n",
       " ('Films shot in CinemaScope', 4.333),\n",
       " ('French film producers', 4.333),\n",
       " ('History of labor relations in the United States', 4.333),\n",
       " ('Hong Kong film actors', 4.333),\n",
       " ('Horror film directors', 4.333),\n",
       " ('ITV television programmes', 4.333),\n",
       " ('Jewish Polish history', 4.333),\n",
       " ('Major League Baseball owners', 4.333),\n",
       " ('Members of the Communist Party USA', 4.333),\n",
       " ('Musicians from Los Angeles, California', 4.333),\n",
       " ('National Conference Pro Bowl players', 4.333),\n",
       " ('Native American writers', 4.333),\n",
       " ('New York television reporters', 4.333),\n",
       " ('Norwegian emigrants to the United States', 4.333),\n",
       " ('Norwegian-language films', 4.333),\n",
       " ('Novels adapted into films', 4.333),\n",
       " ('Operatic tenors', 4.333),\n",
       " ('People from Erie, Pennsylvania', 4.333),\n",
       " ('People from Geneva', 4.333),\n",
       " ('People from Staten Island', 4.333),\n",
       " ('People from Sydney', 4.333),\n",
       " ('People from the Dallas  Fort Worth Metroplex', 4.333),\n",
       " ('Professional wrestling trainers', 4.333),\n",
       " ('Recipients of American presidential pardons', 4.333),\n",
       " ('Russian Orthodox Christians', 4.333),\n",
       " ('Shot-down aviators', 4.333),\n",
       " ('Sub Pop artists', 4.333),\n",
       " ('Television series by Warner Bros. Television', 4.333),\n",
       " ('Tennessee Republicans', 4.333),\n",
       " ('Texas Tech University alumni', 4.333),\n",
       " ('UCLA Bruins football players', 4.333),\n",
       " ('Ukrainian Jews', 4.333),\n",
       " ('United States Air Force officers', 4.333),\n",
       " ('United States Air Force personnel', 4.333),\n",
       " ('University of Hawaii alumni', 4.333),\n",
       " ('University of Illinois alumni', 4.333),\n",
       " ('University of Pittsburgh alumni', 4.333),\n",
       " ('War films based on actual events', 4.333),\n",
       " ('Western (genre) novels', 4.333),\n",
       " ('Writers from Pennsylvania', 4.333),\n",
       " ('Writers from Virginia', 4.333),\n",
       " ('Films based on actual events', 4.336),\n",
       " ('Films about music and musicians', 4.337),\n",
       " ('Vigilante films', 4.338),\n",
       " ('American Jews', 4.339),\n",
       " ('Space adventure films', 4.339),\n",
       " ('Animated comedy films', 4.34),\n",
       " ('Political drama films', 4.341),\n",
       " ('1970s Western films', 4.343),\n",
       " ('American people of Romanian descent', 4.346),\n",
       " ('American comedy musicians', 4.347),\n",
       " ('1980s adventure films', 4.348),\n",
       " ('Columbia Records artists', 4.348),\n",
       " ('Erotic films', 4.348),\n",
       " ('Participants in American reality television series', 4.348),\n",
       " ('Cardiovascular disease deaths in California', 4.35),\n",
       " ('American people of Polish-Jewish descent', 4.351),\n",
       " ('Deaths from congestive heart failure', 4.351),\n",
       " ('Sony Pictures Classics films', 4.351),\n",
       " ('Cancer deaths in New York', 4.354),\n",
       " ('Deaths from renal failure', 4.356),\n",
       " ('People from Santa Monica, California', 4.356),\n",
       " ('Motown artists', 4.357),\n",
       " ('Russian-language films', 4.357),\n",
       " ('Films shot in Los Angeles, California', 4.361),\n",
       " ('Films shot in Super 16', 4.361),\n",
       " ('American romantic musical films', 4.362),\n",
       " ('Films set in Paris', 4.363),\n",
       " ('American action thriller films', 4.364),\n",
       " ('People from Princeton, New Jersey', 4.364),\n",
       " ('People from St. Louis County, Missouri', 4.364),\n",
       " ('Swiss films', 4.364),\n",
       " ('Temple University alumni', 4.364),\n",
       " ('1970s science fiction films', 4.367),\n",
       " ('Cold War films', 4.367),\n",
       " ('Films based on horror novels', 4.368),\n",
       " ('IMAX films', 4.368),\n",
       " ('People from Quincy, Massachusetts', 4.368),\n",
       " ('United Artists films', 4.368),\n",
       " ('Films featuring anthropomorphic characters', 4.369),\n",
       " ('2000s adventure films', 4.371),\n",
       " ('American novels adapted into films', 4.375),\n",
       " ('Ashkenazi Jews', 4.375),\n",
       " ('Canadian comedians', 4.375),\n",
       " ('Hofstra University alumni', 4.375),\n",
       " ('San Francisco State University alumni', 4.375),\n",
       " ('Television films', 4.375),\n",
       " ('United States Navy personnel', 4.375),\n",
       " ('Films based on biographies', 4.376),\n",
       " ('Lions Gate Entertainment films', 4.378),\n",
       " ('1985 films', 4.381),\n",
       " ('People from Santa Barbara, California', 4.382),\n",
       " ('Computer-animated films', 4.383),\n",
       " ('Northwestern University alumni', 4.383),\n",
       " ('2000s crime films', 4.384),\n",
       " ('Actors from British Columbia', 4.385),\n",
       " ('American aviators', 4.385),\n",
       " ('Canadian child actors', 4.385),\n",
       " ('Ohio University alumni', 4.385),\n",
       " ('People from Charleston, South Carolina', 4.385),\n",
       " ('People from Dutchess County, New York', 4.385),\n",
       " ...]"
      ]
     },
     "execution_count": 65,
     "metadata": {},
     "output_type": "execute_result"
    }
   ],
   "source": [
    "out=rq5(selected)\n",
    "out"
   ]
  },
  {
   "cell_type": "markdown",
   "metadata": {},
   "source": [
    "# RQ6"
   ]
  },
  {
   "cell_type": "markdown",
   "metadata": {},
   "source": [
    "To solve this question we had to make documentation on the subject because none of us knew about that topic. We visited many sites in order to develop skills and deeply understand the PageRank algoithm.\n",
    "References :\n",
    "\n",
    "- https://www.youtube.com/watch?v=P8Kt6Abq_rM&ab_channel=GlobalSoftwareSupport\n",
    "- https://towardsdatascience.com/pagerank-3c568a7d2332\n",
    "- https://www.geeksforgeeks.org/page-rank-algorithm-implementation/"
   ]
  },
  {
   "cell_type": "markdown",
   "metadata": {},
   "source": [
    "For this question, we segmented the algorithme in 3 codes :\n",
    "- The first one is \"df_construction\" that allows us to organize datas. For each nodes, we store in different columns, the article_id, the list of incoming nodes, outgoing nodes, the value of PageRank at the last iteration, and the current PageRank value.\n",
    "- The second is the computation of the next PageRank value for a given node Ni.\n",
    "- The third one, is the \"main\" for RQ6, and retrieve a dataframe with a column \"PageRank\" that stores for each node, it final rank in the global graph."
   ]
  },
  {
   "cell_type": "code",
   "execution_count": 66,
   "metadata": {},
   "outputs": [],
   "source": [
    "def df_construction(H):\n",
    "    \n",
    "    n=[i for i in (H.nodes)]\n",
    "    dic_target={} #dic_target[Ni]= stores nodes that are pointing by Ni (Ni is the target)\n",
    "    dic_source={} #dic_source[Ni]=stores nodes nodes that point Ni (Ni is the source)\n",
    "\n",
    "    for i in n:\n",
    "        dic_target[i]=[]\n",
    "        dic_source[i]=[]\n",
    "\n",
    "    for j in n:\n",
    "        for i in H.edges:\n",
    "            if i[0]==j:\n",
    "                dic_source[j].append(i[1])\n",
    "            if i[1]==j:\n",
    "                dic_target[j].append(i[0])\n",
    "\n",
    "    l=[]\n",
    "    for i in n:\n",
    "        l.append([i,dic_target[i],dic_source[i],])\n",
    "\n",
    "    df = pd.DataFrame(l, columns =['n_article','incoming', 'outgoing'])\n",
    "    df['PRt0']=1.0/len(n)  #construct a dataframe to be able to work properly - initial values of PageRank are the same for every nodes\n",
    "    df['PRt1']=0\n",
    "    return df"
   ]
  },
  {
   "cell_type": "code",
   "execution_count": 67,
   "metadata": {},
   "outputs": [],
   "source": [
    "def PRt1_Ni(H,df,Ni,damping_factor):\n",
    "    \n",
    "    n=[i for i in (H.nodes)]\n",
    "    cst=damping_factor/(len(n))\n",
    "    \n",
    "    inc=df[df.n_article==Ni]['incoming'].tolist()[0] #look for incoming nodes of the node Ni\n",
    "    \n",
    "    if len(inc)>=1: # check if there is no incoming links - if it is true, the value of PR is constant\n",
    "        dic={}\n",
    "        for i in range(len(inc)):\n",
    "            dic[inc[i]]=len(df[df.n_article==inc[i]]['outgoing'].tolist()[0]) #stores for each incomming links the nb of outcomming\n",
    "        sol=0\n",
    "        for i in range(len(inc)):\n",
    "            sol+=(df[df.n_article==inc[i]]['PRt0'].values)/(dic[inc[i]])  #compute the sum of PRi(t-1)/nb_outgoing(PRi) for i in incoming links\n",
    "        df.at[df[df.n_article==Ni].index,'PRt1']=cst+(1-damping_factor)*sol[0] #Compute final value of PR(t)\n",
    "\n",
    "    else:\n",
    "        df.at[df[df.n_article==Ni].index,'PRt1']=cst\n",
    "    return df"
   ]
  },
  {
   "cell_type": "code",
   "execution_count": 68,
   "metadata": {},
   "outputs": [],
   "source": [
    "def PR(H,iteration,damping_factor):\n",
    "    df=df_construction(H)\n",
    "    n=[i for i in (H.nodes)]\n",
    "    for j in range(iteration): # The number of iterations for the PR algorithm\n",
    "        for i in n:\n",
    "            df=PRt1_Ni(H,df,i,damping_factor)\n",
    "        df['PRt0']=df['PRt1'] # update current value of PR\n",
    "        df['PRt1']=0\n",
    "    df.sort_values('PRt0') # sort page by their PR score\n",
    "    l=np.arange(1,len(n)+1)\n",
    "    df['PageRank']=l\n",
    "    return df #return a sorted df w.r.t PagrRank score"
   ]
  },
  {
   "cell_type": "markdown",
   "metadata": {},
   "source": [
    "# Examples"
   ]
  },
  {
   "cell_type": "code",
   "execution_count": 69,
   "metadata": {},
   "outputs": [
    {
     "data": {
      "image/png": "[encoded data removed]",
      "text/plain": [
       "<Figure size 1296x576 with 1 Axes>"
      ]
     },
     "metadata": {},
     "output_type": "display_data"
    }
   ],
   "source": [
    "A=nx.DiGraph()\n",
    "A.add_nodes_from([1,2,3,4,5,6])\n",
    "A.add_edges_from([(1,2),(2,3),(3,4),(4,5),(5,6)])\n",
    "figure(figsize=(18, 8))\n",
    "nx.draw(A, with_labels=True, node_size=100)"
   ]
  },
  {
   "cell_type": "code",
   "execution_count": 70,
   "metadata": {},
   "outputs": [
    {
     "data": {
      "text/html": [
       "<div>\n",
       "<style scoped>\n",
       "    .dataframe tbody tr th:only-of-type {\n",
       "        vertical-align: middle;\n",
       "    }\n",
       "\n",
       "    .dataframe tbody tr th {\n",
       "        vertical-align: top;\n",
       "    }\n",
       "\n",
       "    .dataframe thead th {\n",
       "        text-align: right;\n",
       "    }\n",
       "</style>\n",
       "<table border=\"1\" class=\"dataframe\">\n",
       "  <thead>\n",
       "    <tr style=\"text-align: right;\">\n",
       "      <th></th>\n",
       "      <th>n_article</th>\n",
       "      <th>incoming</th>\n",
       "      <th>outgoing</th>\n",
       "      <th>PRt0</th>\n",
       "      <th>PRt1</th>\n",
       "      <th>PageRank</th>\n",
       "    </tr>\n",
       "  </thead>\n",
       "  <tbody>\n",
       "    <tr>\n",
       "      <th>0</th>\n",
       "      <td>1</td>\n",
       "      <td>[]</td>\n",
       "      <td>[2]</td>\n",
       "      <td>0.025000</td>\n",
       "      <td>0</td>\n",
       "      <td>1</td>\n",
       "    </tr>\n",
       "    <tr>\n",
       "      <th>1</th>\n",
       "      <td>2</td>\n",
       "      <td>[1]</td>\n",
       "      <td>[3]</td>\n",
       "      <td>0.046250</td>\n",
       "      <td>0</td>\n",
       "      <td>2</td>\n",
       "    </tr>\n",
       "    <tr>\n",
       "      <th>2</th>\n",
       "      <td>3</td>\n",
       "      <td>[2]</td>\n",
       "      <td>[4]</td>\n",
       "      <td>0.064312</td>\n",
       "      <td>0</td>\n",
       "      <td>3</td>\n",
       "    </tr>\n",
       "    <tr>\n",
       "      <th>3</th>\n",
       "      <td>4</td>\n",
       "      <td>[3]</td>\n",
       "      <td>[5]</td>\n",
       "      <td>0.079666</td>\n",
       "      <td>0</td>\n",
       "      <td>4</td>\n",
       "    </tr>\n",
       "    <tr>\n",
       "      <th>4</th>\n",
       "      <td>5</td>\n",
       "      <td>[4]</td>\n",
       "      <td>[6]</td>\n",
       "      <td>0.092716</td>\n",
       "      <td>0</td>\n",
       "      <td>5</td>\n",
       "    </tr>\n",
       "    <tr>\n",
       "      <th>5</th>\n",
       "      <td>6</td>\n",
       "      <td>[5]</td>\n",
       "      <td>[]</td>\n",
       "      <td>0.103808</td>\n",
       "      <td>0</td>\n",
       "      <td>6</td>\n",
       "    </tr>\n",
       "  </tbody>\n",
       "</table>\n",
       "</div>"
      ],
      "text/plain": [
       "   n_article incoming outgoing      PRt0  PRt1  PageRank\n",
       "0          1       []      [2]  0.025000     0         1\n",
       "1          2      [1]      [3]  0.046250     0         2\n",
       "2          3      [2]      [4]  0.064312     0         3\n",
       "3          4      [3]      [5]  0.079666     0         4\n",
       "4          5      [4]      [6]  0.092716     0         5\n",
       "5          6      [5]       []  0.103808     0         6"
      ]
     },
     "execution_count": 70,
     "metadata": {},
     "output_type": "execute_result"
    }
   ],
   "source": [
    "df_A=PR(A,10,0.15)\n",
    "df_A"
   ]
  },
  {
   "cell_type": "code",
   "execution_count": 71,
   "metadata": {},
   "outputs": [
    {
     "data": {
      "text/plain": [
       "0.4117523203124999"
      ]
     },
     "execution_count": 71,
     "metadata": {},
     "output_type": "execute_result"
    }
   ],
   "source": [
    "df_A['PRt0'].sum()"
   ]
  },
  {
   "cell_type": "code",
   "execution_count": 72,
   "metadata": {},
   "outputs": [
    {
     "data": {
      "image/png": "[encoded data removed]",
      "text/plain": [
       "<Figure size 1296x576 with 1 Axes>"
      ]
     },
     "metadata": {},
     "output_type": "display_data"
    }
   ],
   "source": [
    "B=nx.DiGraph()\n",
    "B.add_nodes_from([1,2,3,4,5])\n",
    "B.add_edges_from([(1,2),(2,3),(3,4),(4,5),(5,1)])\n",
    "figure(figsize=(18, 8))\n",
    "nx.draw(B, with_labels=True, node_size=100)"
   ]
  },
  {
   "cell_type": "code",
   "execution_count": null,
   "metadata": {},
   "outputs": [],
   "source": []
  }
 ],
 "metadata": {
  "kernelspec": {
   "display_name": "Python 3",
   "language": "python",
   "name": "python3"
  },
  "language_info": {
   "codemirror_mode": {
    "name": "ipython",
    "version": 3
   },
   "file_extension": ".py",
   "mimetype": "text/x-python",
   "name": "python",
   "nbconvert_exporter": "python",
   "pygments_lexer": "ipython3",
   "version": "3.8.3"
  }
 },
 "nbformat": 4,
 "nbformat_minor": 4
}
